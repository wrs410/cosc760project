{
 "cells": [
  {
   "cell_type": "code",
   "execution_count": 1,
   "metadata": {},
   "outputs": [
    {
     "name": "stderr",
     "output_type": "stream",
     "text": [
      "/Users/Daphne/anaconda3/lib/python3.7/site-packages/pandas/compat/_optional.py:138: UserWarning: Pandas requires version '2.7.0' or newer of 'numexpr' (version '2.6.9' currently installed).\n",
      "  warnings.warn(msg, UserWarning)\n",
      "/Users/Daphne/anaconda3/lib/python3.7/site-packages/sklearn/utils/validation.py:37: DeprecationWarning: distutils Version classes are deprecated. Use packaging.version instead.\n",
      "  LARGE_SPARSE_SUPPORTED = LooseVersion(scipy_version) >= '0.14.0'\n",
      "/Users/Daphne/anaconda3/lib/python3.7/site-packages/sklearn/feature_extraction/image.py:167: DeprecationWarning: `np.int` is a deprecated alias for the builtin `int`. To silence this warning, use `int` by itself. Doing this will not modify any behavior and is safe. When replacing `np.int`, you may wish to use e.g. `np.int64` or `np.int32` to specify the precision. If you wish to review your current use, check the release note link for additional information.\n",
      "Deprecated in NumPy 1.20; for more details and guidance: https://numpy.org/devdocs/release/1.20.0-notes.html#deprecations\n",
      "  dtype=np.int):\n",
      "/Users/Daphne/anaconda3/lib/python3.7/site-packages/sklearn/linear_model/least_angle.py:35: DeprecationWarning: `np.float` is a deprecated alias for the builtin `float`. To silence this warning, use `float` by itself. Doing this will not modify any behavior and is safe. If you specifically wanted the numpy scalar type, use `np.float64` here.\n",
      "Deprecated in NumPy 1.20; for more details and guidance: https://numpy.org/devdocs/release/1.20.0-notes.html#deprecations\n",
      "  eps=np.finfo(np.float).eps,\n",
      "/Users/Daphne/anaconda3/lib/python3.7/site-packages/sklearn/linear_model/least_angle.py:597: DeprecationWarning: `np.float` is a deprecated alias for the builtin `float`. To silence this warning, use `float` by itself. Doing this will not modify any behavior and is safe. If you specifically wanted the numpy scalar type, use `np.float64` here.\n",
      "Deprecated in NumPy 1.20; for more details and guidance: https://numpy.org/devdocs/release/1.20.0-notes.html#deprecations\n",
      "  eps=np.finfo(np.float).eps, copy_X=True, fit_path=True,\n",
      "/Users/Daphne/anaconda3/lib/python3.7/site-packages/sklearn/linear_model/least_angle.py:836: DeprecationWarning: `np.float` is a deprecated alias for the builtin `float`. To silence this warning, use `float` by itself. Doing this will not modify any behavior and is safe. If you specifically wanted the numpy scalar type, use `np.float64` here.\n",
      "Deprecated in NumPy 1.20; for more details and guidance: https://numpy.org/devdocs/release/1.20.0-notes.html#deprecations\n",
      "  eps=np.finfo(np.float).eps, copy_X=True, fit_path=True,\n",
      "/Users/Daphne/anaconda3/lib/python3.7/site-packages/sklearn/linear_model/least_angle.py:862: DeprecationWarning: `np.float` is a deprecated alias for the builtin `float`. To silence this warning, use `float` by itself. Doing this will not modify any behavior and is safe. If you specifically wanted the numpy scalar type, use `np.float64` here.\n",
      "Deprecated in NumPy 1.20; for more details and guidance: https://numpy.org/devdocs/release/1.20.0-notes.html#deprecations\n",
      "  eps=np.finfo(np.float).eps, positive=False):\n",
      "/Users/Daphne/anaconda3/lib/python3.7/site-packages/sklearn/linear_model/least_angle.py:1097: DeprecationWarning: `np.float` is a deprecated alias for the builtin `float`. To silence this warning, use `float` by itself. Doing this will not modify any behavior and is safe. If you specifically wanted the numpy scalar type, use `np.float64` here.\n",
      "Deprecated in NumPy 1.20; for more details and guidance: https://numpy.org/devdocs/release/1.20.0-notes.html#deprecations\n",
      "  max_n_alphas=1000, n_jobs=None, eps=np.finfo(np.float).eps,\n",
      "/Users/Daphne/anaconda3/lib/python3.7/site-packages/sklearn/linear_model/least_angle.py:1344: DeprecationWarning: `np.float` is a deprecated alias for the builtin `float`. To silence this warning, use `float` by itself. Doing this will not modify any behavior and is safe. If you specifically wanted the numpy scalar type, use `np.float64` here.\n",
      "Deprecated in NumPy 1.20; for more details and guidance: https://numpy.org/devdocs/release/1.20.0-notes.html#deprecations\n",
      "  max_n_alphas=1000, n_jobs=None, eps=np.finfo(np.float).eps,\n",
      "/Users/Daphne/anaconda3/lib/python3.7/site-packages/sklearn/linear_model/least_angle.py:1480: DeprecationWarning: `np.float` is a deprecated alias for the builtin `float`. To silence this warning, use `float` by itself. Doing this will not modify any behavior and is safe. If you specifically wanted the numpy scalar type, use `np.float64` here.\n",
      "Deprecated in NumPy 1.20; for more details and guidance: https://numpy.org/devdocs/release/1.20.0-notes.html#deprecations\n",
      "  eps=np.finfo(np.float).eps, copy_X=True, positive=False):\n",
      "/Users/Daphne/anaconda3/lib/python3.7/site-packages/sklearn/linear_model/randomized_l1.py:152: DeprecationWarning: `np.float` is a deprecated alias for the builtin `float`. To silence this warning, use `float` by itself. Doing this will not modify any behavior and is safe. If you specifically wanted the numpy scalar type, use `np.float64` here.\n",
      "Deprecated in NumPy 1.20; for more details and guidance: https://numpy.org/devdocs/release/1.20.0-notes.html#deprecations\n",
      "  precompute=False, eps=np.finfo(np.float).eps,\n",
      "/Users/Daphne/anaconda3/lib/python3.7/site-packages/sklearn/linear_model/randomized_l1.py:320: DeprecationWarning: `np.float` is a deprecated alias for the builtin `float`. To silence this warning, use `float` by itself. Doing this will not modify any behavior and is safe. If you specifically wanted the numpy scalar type, use `np.float64` here.\n",
      "Deprecated in NumPy 1.20; for more details and guidance: https://numpy.org/devdocs/release/1.20.0-notes.html#deprecations\n",
      "  eps=np.finfo(np.float).eps, random_state=None,\n",
      "/Users/Daphne/anaconda3/lib/python3.7/site-packages/sklearn/linear_model/randomized_l1.py:580: DeprecationWarning: `np.float` is a deprecated alias for the builtin `float`. To silence this warning, use `float` by itself. Doing this will not modify any behavior and is safe. If you specifically wanted the numpy scalar type, use `np.float64` here.\n",
      "Deprecated in NumPy 1.20; for more details and guidance: https://numpy.org/devdocs/release/1.20.0-notes.html#deprecations\n",
      "  eps=4 * np.finfo(np.float).eps, n_jobs=None,\n"
     ]
    }
   ],
   "source": [
    "import pandas as pd\n",
    "import numpy as np\n",
    "import matplotlib.pyplot as plt\n",
    "\n",
    "#stuff for LDA topic modeling of tweets\n",
    "\n",
    "import gensim\n",
    "from gensim.utils import simple_preprocess\n",
    "from gensim.parsing.preprocessing import STOPWORDS\n",
    "from nltk.stem import WordNetLemmatizer, SnowballStemmer\n",
    "from nltk.stem.porter import *"
   ]
  },
  {
   "cell_type": "code",
   "execution_count": 5,
   "metadata": {},
   "outputs": [],
   "source": [
    "df = pd.read_csv('vader_bmore.csv')"
   ]
  },
  {
   "cell_type": "code",
   "execution_count": 6,
   "metadata": {},
   "outputs": [],
   "source": [
    "def clean_text(text):  \n",
    "    pat1 = r'@[^ ]+'                   \n",
    "    pat2 = r'https?://[A-Za-z0-9./]+'  \n",
    "    pat3 = r'\\'s'                      \n",
    "    pat4 = r'\\#\\w+'                     \n",
    "    pat5 = r'&amp '                     \n",
    "    pat6 = r'[^A-Za-z\\s]'               \n",
    "    combined_pat = r'|'.join((pat1, pat2,pat3,pat4,pat5, pat6))\n",
    "    text = re.sub(combined_pat,\"\",text).lower()\n",
    "    return text.strip()"
   ]
  },
  {
   "cell_type": "code",
   "execution_count": 7,
   "metadata": {},
   "outputs": [],
   "source": [
    "df['text'] = df['text'].apply(clean_text)"
   ]
  },
  {
   "cell_type": "code",
   "execution_count": 8,
   "metadata": {},
   "outputs": [
    {
     "name": "stdout",
     "output_type": "stream",
     "text": [
      "go\n"
     ]
    }
   ],
   "source": [
    "#Testing lemmatizer\n",
    "print(WordNetLemmatizer().lemmatize('went', pos = 'v'))"
   ]
  },
  {
   "cell_type": "code",
   "execution_count": 9,
   "metadata": {},
   "outputs": [
    {
     "data": {
      "text/html": [
       "<div>\n",
       "<style scoped>\n",
       "    .dataframe tbody tr th:only-of-type {\n",
       "        vertical-align: middle;\n",
       "    }\n",
       "\n",
       "    .dataframe tbody tr th {\n",
       "        vertical-align: top;\n",
       "    }\n",
       "\n",
       "    .dataframe thead th {\n",
       "        text-align: right;\n",
       "    }\n",
       "</style>\n",
       "<table border=\"1\" class=\"dataframe\">\n",
       "  <thead>\n",
       "    <tr style=\"text-align: right;\">\n",
       "      <th></th>\n",
       "      <th>original word</th>\n",
       "      <th>stemmed</th>\n",
       "    </tr>\n",
       "  </thead>\n",
       "  <tbody>\n",
       "    <tr>\n",
       "      <th>0</th>\n",
       "      <td>caresses</td>\n",
       "      <td>caress</td>\n",
       "    </tr>\n",
       "    <tr>\n",
       "      <th>1</th>\n",
       "      <td>flies</td>\n",
       "      <td>fli</td>\n",
       "    </tr>\n",
       "    <tr>\n",
       "      <th>2</th>\n",
       "      <td>dies</td>\n",
       "      <td>die</td>\n",
       "    </tr>\n",
       "    <tr>\n",
       "      <th>3</th>\n",
       "      <td>mules</td>\n",
       "      <td>mule</td>\n",
       "    </tr>\n",
       "    <tr>\n",
       "      <th>4</th>\n",
       "      <td>denied</td>\n",
       "      <td>deni</td>\n",
       "    </tr>\n",
       "    <tr>\n",
       "      <th>5</th>\n",
       "      <td>died</td>\n",
       "      <td>die</td>\n",
       "    </tr>\n",
       "    <tr>\n",
       "      <th>6</th>\n",
       "      <td>agreed</td>\n",
       "      <td>agre</td>\n",
       "    </tr>\n",
       "    <tr>\n",
       "      <th>7</th>\n",
       "      <td>owned</td>\n",
       "      <td>own</td>\n",
       "    </tr>\n",
       "    <tr>\n",
       "      <th>8</th>\n",
       "      <td>humbled</td>\n",
       "      <td>humbl</td>\n",
       "    </tr>\n",
       "    <tr>\n",
       "      <th>9</th>\n",
       "      <td>sized</td>\n",
       "      <td>size</td>\n",
       "    </tr>\n",
       "    <tr>\n",
       "      <th>10</th>\n",
       "      <td>meeting</td>\n",
       "      <td>meet</td>\n",
       "    </tr>\n",
       "    <tr>\n",
       "      <th>11</th>\n",
       "      <td>stating</td>\n",
       "      <td>state</td>\n",
       "    </tr>\n",
       "    <tr>\n",
       "      <th>12</th>\n",
       "      <td>siezing</td>\n",
       "      <td>siez</td>\n",
       "    </tr>\n",
       "    <tr>\n",
       "      <th>13</th>\n",
       "      <td>itemization</td>\n",
       "      <td>item</td>\n",
       "    </tr>\n",
       "    <tr>\n",
       "      <th>14</th>\n",
       "      <td>sensational</td>\n",
       "      <td>sensat</td>\n",
       "    </tr>\n",
       "    <tr>\n",
       "      <th>15</th>\n",
       "      <td>traditional</td>\n",
       "      <td>tradit</td>\n",
       "    </tr>\n",
       "    <tr>\n",
       "      <th>16</th>\n",
       "      <td>reference</td>\n",
       "      <td>refer</td>\n",
       "    </tr>\n",
       "    <tr>\n",
       "      <th>17</th>\n",
       "      <td>colonizer</td>\n",
       "      <td>colon</td>\n",
       "    </tr>\n",
       "    <tr>\n",
       "      <th>18</th>\n",
       "      <td>plotted</td>\n",
       "      <td>plot</td>\n",
       "    </tr>\n",
       "  </tbody>\n",
       "</table>\n",
       "</div>"
      ],
      "text/plain": [
       "   original word stemmed\n",
       "0       caresses  caress\n",
       "1          flies     fli\n",
       "2           dies     die\n",
       "3          mules    mule\n",
       "4         denied    deni\n",
       "5           died     die\n",
       "6         agreed    agre\n",
       "7          owned     own\n",
       "8        humbled   humbl\n",
       "9          sized    size\n",
       "10       meeting    meet\n",
       "11       stating   state\n",
       "12       siezing    siez\n",
       "13   itemization    item\n",
       "14   sensational  sensat\n",
       "15   traditional  tradit\n",
       "16     reference   refer\n",
       "17     colonizer   colon\n",
       "18       plotted    plot"
      ]
     },
     "execution_count": 9,
     "metadata": {},
     "output_type": "execute_result"
    }
   ],
   "source": [
    "#Testing stemmer\n",
    "stemmer = SnowballStemmer(\"english\")\n",
    "original_words = ['caresses', 'flies', 'dies', 'mules', 'denied','died', 'agreed', 'owned', \n",
    "           'humbled', 'sized','meeting', 'stating', 'siezing', 'itemization','sensational', \n",
    "           'traditional', 'reference', 'colonizer','plotted']\n",
    "singles = [stemmer.stem(plural) for plural in original_words]\n",
    "\n",
    "pd.DataFrame(data={'original word':original_words, 'stemmed':singles })"
   ]
  },
  {
   "cell_type": "code",
   "execution_count": 10,
   "metadata": {},
   "outputs": [],
   "source": [
    "#text preprocess\n",
    "def lemmatize_stemming(text):\n",
    "    return stemmer.stem(WordNetLemmatizer().lemmatize(text, pos='v'))\n",
    "# Tokenize and lemmatize\n",
    "def preprocess(text):\n",
    "    result=[]\n",
    "    for token in gensim.utils.simple_preprocess(text) :\n",
    "        if token not in gensim.parsing.preprocessing.STOPWORDS and len(token) > 3:\n",
    "            result.append(lemmatize_stemming(token))\n",
    "            \n",
    "    return result"
   ]
  },
  {
   "cell_type": "code",
   "execution_count": 11,
   "metadata": {},
   "outputs": [
    {
     "name": "stdout",
     "output_type": "stream",
     "text": [
      "Original document: \n",
      "['This', 'disk', 'has', 'failed', 'many', 'times.', 'I', 'would', 'like', 'to', 'get', 'it', 'replaced.']\n",
      "\n",
      "\n",
      "Tokenized and lemmatized document: \n",
      "['disk', 'fail', 'time', 'like', 'replac']\n"
     ]
    }
   ],
   "source": [
    "# Testing preprocessing function\n",
    "\n",
    "doc_sample = 'This disk has failed many times. I would like to get it replaced.'\n",
    "\n",
    "print(\"Original document: \")\n",
    "words = []\n",
    "for word in doc_sample.split(' '):\n",
    "    words.append(word)\n",
    "print(words)\n",
    "print(\"\\n\\nTokenized and lemmatized document: \")\n",
    "print(preprocess(doc_sample))"
   ]
  },
  {
   "cell_type": "code",
   "execution_count": 12,
   "metadata": {},
   "outputs": [],
   "source": [
    "text_clean = [] \n",
    "\n",
    "for doc in df.text:\n",
    "    text_clean.append(preprocess(doc))\n",
    "\n",
    "#Create dictionary of lemmatized words\n",
    "dictionary = gensim.corpora.Dictionary(text_clean)"
   ]
  },
  {
   "cell_type": "code",
   "execution_count": 13,
   "metadata": {},
   "outputs": [
    {
     "name": "stdout",
     "output_type": "stream",
     "text": [
      "0 baltimorean\n",
      "1 eternal\n",
      "2 forev\n",
      "3 francisco\n",
      "4 pelosi\n",
      "5 peopl\n",
      "6 repres\n",
      "7 speaker\n",
      "8 appropri\n",
      "9 barrier\n",
      "10 field\n"
     ]
    }
   ],
   "source": [
    "#Checking dictionary created\n",
    "\n",
    "count = 0\n",
    "for k, v in dictionary.iteritems():\n",
    "    print(k, v)\n",
    "    count += 1\n",
    "    if count > 10:\n",
    "        break"
   ]
  },
  {
   "cell_type": "code",
   "execution_count": 14,
   "metadata": {},
   "outputs": [],
   "source": [
    "#Create bag of words from dictionary\n",
    "twit_bag = [dictionary.doc2bow(doc) for doc in text_clean]"
   ]
  },
  {
   "cell_type": "code",
   "execution_count": 15,
   "metadata": {},
   "outputs": [
    {
     "data": {
      "text/plain": [
       "[(0, 1), (1, 1), (2, 1), (3, 1), (4, 1), (5, 1), (6, 1), (7, 1)]"
      ]
     },
     "execution_count": 15,
     "metadata": {},
     "output_type": "execute_result"
    }
   ],
   "source": [
    "twit_bag[0]"
   ]
  },
  {
   "cell_type": "code",
   "execution_count": 16,
   "metadata": {},
   "outputs": [
    {
     "name": "stdout",
     "output_type": "stream",
     "text": [
      "Word 0 (\"baltimorean\") appears 1 time.\n",
      "Word 1 (\"eternal\") appears 1 time.\n",
      "Word 2 (\"forev\") appears 1 time.\n",
      "Word 3 (\"francisco\") appears 1 time.\n",
      "Word 4 (\"pelosi\") appears 1 time.\n",
      "Word 5 (\"peopl\") appears 1 time.\n",
      "Word 6 (\"repres\") appears 1 time.\n",
      "Word 7 (\"speaker\") appears 1 time.\n"
     ]
    }
   ],
   "source": [
    "#shows bag of words for first entry in dataset\n",
    "bow_doc_x = twit_bag[0]\n",
    "\n",
    "for i in range(len(bow_doc_x)):\n",
    "    print(\"Word {} (\\\"{}\\\") appears {} time.\".format(bow_doc_x[i][0], \n",
    "                                                     dictionary[bow_doc_x[i][0]], \n",
    "                                                     bow_doc_x[i][1]))"
   ]
  },
  {
   "cell_type": "code",
   "execution_count": 80,
   "metadata": {},
   "outputs": [],
   "source": [
    "tweets_lda = gensim.models.LdaMulticore(twit_bag, \n",
    "                                   num_topics = 15, \n",
    "                                   id2word = dictionary,                                    \n",
    "                                   passes = 20,\n",
    "                                   random_state = 1,\n",
    "                                   workers = 2)"
   ]
  },
  {
   "cell_type": "code",
   "execution_count": 81,
   "metadata": {},
   "outputs": [
    {
     "name": "stdout",
     "output_type": "stream",
     "text": [
      "Topic: 0 \n",
      "Words: 0.030*\"water\" + 0.026*\"area\" + 0.021*\"test\" + 0.020*\"weather\" + 0.018*\"special\" + 0.017*\"point\" + 0.017*\"expect\" + 0.014*\"storm\" + 0.014*\"latest\" + 0.014*\"even\"\n",
      "\n",
      "\n",
      "Topic: 1 \n",
      "Words: 0.036*\"covid\" + 0.025*\"maryland\" + 0.022*\"case\" + 0.021*\"report\" + 0.019*\"death\" + 0.016*\"vaccin\" + 0.014*\"number\" + 0.014*\"ann\" + 0.014*\"arundel\" + 0.013*\"believ\"\n",
      "\n",
      "\n",
      "Topic: 2 \n",
      "Words: 0.092*\"citi\" + 0.076*\"baltimor\" + 0.023*\"public\" + 0.017*\"mayor\" + 0.016*\"council\" + 0.016*\"hear\" + 0.015*\"court\" + 0.015*\"meet\" + 0.013*\"state\" + 0.013*\"announc\"\n",
      "\n",
      "\n",
      "Topic: 3 \n",
      "Words: 0.080*\"polic\" + 0.044*\"baltimor\" + 0.042*\"shoot\" + 0.029*\"offic\" + 0.025*\"yearold\" + 0.022*\"counti\" + 0.020*\"say\" + 0.019*\"charg\" + 0.019*\"kill\" + 0.019*\"investig\"\n",
      "\n",
      "\n",
      "Topic: 4 \n",
      "Words: 0.066*\"maryland\" + 0.033*\"elect\" + 0.027*\"state\" + 0.027*\"vote\" + 0.027*\"beat\" + 0.015*\"counti\" + 0.014*\"democrat\" + 0.013*\"candid\" + 0.012*\"race\" + 0.012*\"ballot\"\n",
      "\n",
      "\n",
      "Topic: 5 \n",
      "Words: 0.040*\"live\" + 0.035*\"raven\" + 0.028*\"news\" + 0.027*\"talk\" + 0.025*\"baltimor\" + 0.018*\"join\" + 0.018*\"week\" + 0.018*\"game\" + 0.018*\"stori\" + 0.018*\"watch\"\n",
      "\n",
      "\n",
      "Topic: 6 \n",
      "Words: 0.064*\"includ\" + 0.033*\"mean\" + 0.033*\"warn\" + 0.026*\"north\" + 0.020*\"colleg\" + 0.019*\"univers\" + 0.014*\"wind\" + 0.014*\"attempt\" + 0.013*\"sever\" + 0.013*\"farm\"\n",
      "\n",
      "\n",
      "Topic: 7 \n",
      "Words: 0.042*\"leav\" + 0.035*\"media\" + 0.030*\"hall\" + 0.021*\"forc\" + 0.018*\"trial\" + 0.018*\"social\" + 0.016*\"didnt\" + 0.016*\"town\" + 0.016*\"davi\" + 0.015*\"press\"\n",
      "\n",
      "\n",
      "Topic: 8 \n",
      "Words: 0.033*\"year\" + 0.016*\"build\" + 0.014*\"million\" + 0.014*\"jackson\" + 0.012*\"question\" + 0.012*\"near\" + 0.011*\"home\" + 0.010*\"deal\" + 0.010*\"time\" + 0.010*\"plan\"\n",
      "\n",
      "\n",
      "Topic: 9 \n",
      "Words: 0.041*\"like\" + 0.039*\"look\" + 0.026*\"great\" + 0.023*\"love\" + 0.022*\"read\" + 0.018*\"best\" + 0.014*\"time\" + 0.014*\"think\" + 0.012*\"send\" + 0.011*\"friend\"\n",
      "\n",
      "\n",
      "Topic: 10 \n",
      "Words: 0.025*\"hous\" + 0.021*\"say\" + 0.020*\"presid\" + 0.014*\"trump\" + 0.013*\"john\" + 0.013*\"biden\" + 0.011*\"market\" + 0.010*\"hopkin\" + 0.009*\"white\" + 0.009*\"convers\"\n",
      "\n",
      "\n",
      "Topic: 11 \n",
      "Words: 0.024*\"baltimor\" + 0.024*\"support\" + 0.020*\"work\" + 0.019*\"communiti\" + 0.018*\"help\" + 0.015*\"program\" + 0.013*\"busi\" + 0.012*\"month\" + 0.010*\"organ\" + 0.010*\"violenc\"\n",
      "\n",
      "\n",
      "Topic: 12 \n",
      "Words: 0.113*\"school\" + 0.060*\"student\" + 0.059*\"thank\" + 0.028*\"want\" + 0.025*\"happen\" + 0.021*\"high\" + 0.019*\"learn\" + 0.015*\"share\" + 0.015*\"teacher\" + 0.015*\"staff\"\n",
      "\n",
      "\n",
      "Topic: 13 \n",
      "Words: 0.066*\"peopl\" + 0.042*\"know\" + 0.035*\"black\" + 0.030*\"good\" + 0.026*\"need\" + 0.024*\"right\" + 0.019*\"say\" + 0.019*\"dont\" + 0.012*\"thing\" + 0.010*\"power\"\n",
      "\n",
      "\n",
      "Topic: 14 \n",
      "Words: 0.025*\"baltimor\" + 0.023*\"today\" + 0.022*\"event\" + 0.020*\"park\" + 0.018*\"citi\" + 0.017*\"updat\" + 0.017*\"free\" + 0.016*\"center\" + 0.016*\"inform\" + 0.015*\"street\"\n",
      "\n",
      "\n"
     ]
    }
   ],
   "source": [
    "for idx, topic in tweets_lda.print_topics(-1):\n",
    "    print(\"Topic: {} \\nWords: {}\".format(idx, topic))\n",
    "    print(\"\\n\")"
   ]
  },
  {
   "cell_type": "code",
   "execution_count": 82,
   "metadata": {},
   "outputs": [],
   "source": [
    "df['main_topic'] = [int(str(sorted(tweets_lda[i],reverse=True,key=lambda x: x[1])[0][0]).zfill(3)) for i in twit_bag]"
   ]
  },
  {
   "cell_type": "code",
   "execution_count": 83,
   "metadata": {},
   "outputs": [
    {
     "data": {
      "text/html": [
       "<div>\n",
       "<style scoped>\n",
       "    .dataframe tbody tr th:only-of-type {\n",
       "        vertical-align: middle;\n",
       "    }\n",
       "\n",
       "    .dataframe tbody tr th {\n",
       "        vertical-align: top;\n",
       "    }\n",
       "\n",
       "    .dataframe thead th {\n",
       "        text-align: right;\n",
       "    }\n",
       "</style>\n",
       "<table border=\"1\" class=\"dataframe\">\n",
       "  <thead>\n",
       "    <tr style=\"text-align: right;\">\n",
       "      <th></th>\n",
       "      <th>Unnamed: 0</th>\n",
       "      <th>Unnamed: 0.1</th>\n",
       "      <th>date</th>\n",
       "      <th>author</th>\n",
       "      <th>twitter_name</th>\n",
       "      <th>text</th>\n",
       "      <th>number_of_likes</th>\n",
       "      <th>number_of_retweets</th>\n",
       "      <th>cleaned_tweet</th>\n",
       "      <th>Compound</th>\n",
       "      <th>Positive</th>\n",
       "      <th>Negative</th>\n",
       "      <th>Neutral</th>\n",
       "      <th>Sentiment</th>\n",
       "      <th>main_topic</th>\n",
       "    </tr>\n",
       "  </thead>\n",
       "  <tbody>\n",
       "    <tr>\n",
       "      <th>0</th>\n",
       "      <td>0</td>\n",
       "      <td>0.0</td>\n",
       "      <td>2022-11-18 02:52:03+00:00</td>\n",
       "      <td>Brandon M. Scott</td>\n",
       "      <td>MayorBMScott</td>\n",
       "      <td>speaker pelosi may represent the people of san...</td>\n",
       "      <td>36</td>\n",
       "      <td>4</td>\n",
       "      <td>speaker pelosi may represent the people of san...</td>\n",
       "      <td>0.0000</td>\n",
       "      <td>0.000</td>\n",
       "      <td>0.0</td>\n",
       "      <td>1.000</td>\n",
       "      <td>negative</td>\n",
       "      <td>12</td>\n",
       "    </tr>\n",
       "    <tr>\n",
       "      <th>1</th>\n",
       "      <td>1</td>\n",
       "      <td>1.0</td>\n",
       "      <td>2022-11-18 02:52:02+00:00</td>\n",
       "      <td>Brandon M. Scott</td>\n",
       "      <td>MayorBMScott</td>\n",
       "      <td>so many of my peers can thank her for knocking...</td>\n",
       "      <td>26</td>\n",
       "      <td>2</td>\n",
       "      <td>so many of my peers can thank her for knocking...</td>\n",
       "      <td>0.5106</td>\n",
       "      <td>0.185</td>\n",
       "      <td>0.0</td>\n",
       "      <td>0.815</td>\n",
       "      <td>neutral</td>\n",
       "      <td>0</td>\n",
       "    </tr>\n",
       "    <tr>\n",
       "      <th>2</th>\n",
       "      <td>2</td>\n",
       "      <td>2.0</td>\n",
       "      <td>2022-11-18 02:52:02+00:00</td>\n",
       "      <td>Brandon M. Scott</td>\n",
       "      <td>MayorBMScott</td>\n",
       "      <td>in addition to being the first female speaker ...</td>\n",
       "      <td>9</td>\n",
       "      <td>0</td>\n",
       "      <td>in addition to being the first female speaker ...</td>\n",
       "      <td>0.4754</td>\n",
       "      <td>0.140</td>\n",
       "      <td>0.0</td>\n",
       "      <td>0.860</td>\n",
       "      <td>neutral</td>\n",
       "      <td>10</td>\n",
       "    </tr>\n",
       "    <tr>\n",
       "      <th>3</th>\n",
       "      <td>3</td>\n",
       "      <td>3.0</td>\n",
       "      <td>2022-11-18 02:52:01+00:00</td>\n",
       "      <td>Brandon M. Scott</td>\n",
       "      <td>MayorBMScott</td>\n",
       "      <td>it brings us all great pride that a daughter o...</td>\n",
       "      <td>11</td>\n",
       "      <td>2</td>\n",
       "      <td>it brings us all great pride that a daughter o...</td>\n",
       "      <td>0.7579</td>\n",
       "      <td>0.245</td>\n",
       "      <td>0.0</td>\n",
       "      <td>0.755</td>\n",
       "      <td>positive</td>\n",
       "      <td>9</td>\n",
       "    </tr>\n",
       "    <tr>\n",
       "      <th>4</th>\n",
       "      <td>4</td>\n",
       "      <td>4.0</td>\n",
       "      <td>2022-11-18 02:52:00+00:00</td>\n",
       "      <td>Brandon M. Scott</td>\n",
       "      <td>MayorBMScott</td>\n",
       "      <td>on behalf of the city of baltimore i want to c...</td>\n",
       "      <td>221</td>\n",
       "      <td>12</td>\n",
       "      <td>on behalf of the city of baltimore i want to c...</td>\n",
       "      <td>0.5423</td>\n",
       "      <td>0.220</td>\n",
       "      <td>0.0</td>\n",
       "      <td>0.780</td>\n",
       "      <td>neutral</td>\n",
       "      <td>10</td>\n",
       "    </tr>\n",
       "  </tbody>\n",
       "</table>\n",
       "</div>"
      ],
      "text/plain": [
       "   Unnamed: 0  Unnamed: 0.1                       date            author  \\\n",
       "0           0           0.0  2022-11-18 02:52:03+00:00  Brandon M. Scott   \n",
       "1           1           1.0  2022-11-18 02:52:02+00:00  Brandon M. Scott   \n",
       "2           2           2.0  2022-11-18 02:52:02+00:00  Brandon M. Scott   \n",
       "3           3           3.0  2022-11-18 02:52:01+00:00  Brandon M. Scott   \n",
       "4           4           4.0  2022-11-18 02:52:00+00:00  Brandon M. Scott   \n",
       "\n",
       "   twitter_name                                               text  \\\n",
       "0  MayorBMScott  speaker pelosi may represent the people of san...   \n",
       "1  MayorBMScott  so many of my peers can thank her for knocking...   \n",
       "2  MayorBMScott  in addition to being the first female speaker ...   \n",
       "3  MayorBMScott  it brings us all great pride that a daughter o...   \n",
       "4  MayorBMScott  on behalf of the city of baltimore i want to c...   \n",
       "\n",
       "  number_of_likes number_of_retweets  \\\n",
       "0              36                  4   \n",
       "1              26                  2   \n",
       "2               9                  0   \n",
       "3              11                  2   \n",
       "4             221                 12   \n",
       "\n",
       "                                       cleaned_tweet  Compound  Positive  \\\n",
       "0  speaker pelosi may represent the people of san...    0.0000     0.000   \n",
       "1  so many of my peers can thank her for knocking...    0.5106     0.185   \n",
       "2  in addition to being the first female speaker ...    0.4754     0.140   \n",
       "3  it brings us all great pride that a daughter o...    0.7579     0.245   \n",
       "4  on behalf of the city of baltimore i want to c...    0.5423     0.220   \n",
       "\n",
       "   Negative  Neutral Sentiment  main_topic  \n",
       "0       0.0    1.000  negative          12  \n",
       "1       0.0    0.815   neutral           0  \n",
       "2       0.0    0.860   neutral          10  \n",
       "3       0.0    0.755  positive           9  \n",
       "4       0.0    0.780   neutral          10  "
      ]
     },
     "execution_count": 83,
     "metadata": {},
     "output_type": "execute_result"
    }
   ],
   "source": [
    "df.head()"
   ]
  },
  {
   "cell_type": "code",
   "execution_count": 89,
   "metadata": {},
   "outputs": [],
   "source": [
    "df.to_csv('lda_VADERbmore.csv')"
   ]
  },
  {
   "cell_type": "code",
   "execution_count": 26,
   "metadata": {},
   "outputs": [],
   "source": [
    "import pyLDAvis"
   ]
  },
  {
   "cell_type": "code",
   "execution_count": 32,
   "metadata": {},
   "outputs": [],
   "source": [
    "import pyLDAvis.gensim_models"
   ]
  },
  {
   "cell_type": "code",
   "execution_count": 47,
   "metadata": {},
   "outputs": [],
   "source": [
    "pyLDAvis.enable_notebook()"
   ]
  },
  {
   "cell_type": "code",
   "execution_count": 84,
   "metadata": {},
   "outputs": [
    {
     "name": "stderr",
     "output_type": "stream",
     "text": [
      "/Users/Daphne/anaconda3/lib/python3.7/site-packages/pyLDAvis/_prepare.py:247: FutureWarning: In a future version of pandas all arguments of DataFrame.drop except for the argument 'labels' will be keyword-only\n",
      "  by='saliency', ascending=False).head(R).drop('saliency', 1)\n"
     ]
    }
   ],
   "source": [
    "vis = pyLDAvis.gensim_models.prepare(tweets_lda, twit_bag, dictionary=dictionary)"
   ]
  },
  {
   "cell_type": "code",
   "execution_count": 85,
   "metadata": {},
   "outputs": [
    {
     "data": {
      "text/html": [
       "\n",
       "<link rel=\"stylesheet\" type=\"text/css\" href=\"https://cdn.jsdelivr.net/gh/bmabey/pyLDAvis@3.3.1/pyLDAvis/js/ldavis.v1.0.0.css\">\n",
       "\n",
       "\n",
       "<div id=\"ldavis_el29581126255946809678081984\"></div>\n",
       "<script type=\"text/javascript\">\n",
       "\n",
       "var ldavis_el29581126255946809678081984_data = {\"mdsDat\": {\"x\": [0.13808618759761151, 0.10590453718509106, 0.15681532697488834, 0.1320226852049546, 0.033562521947446, 0.10152987706704839, -0.08392837858832065, 0.03866179870552211, -0.012623517158746524, -0.014798318100060088, 0.140349666328586, -0.08894123857680797, -0.12297496828564272, -0.22833730756541906, -0.29532887273615194], \"y\": [-0.040044700584080016, 0.15867978091475918, 0.1246614705410238, 0.0550627710854671, 0.1826744856842574, -0.19385560031591764, 0.11618576956887149, -0.05624275058650266, 0.12224306452632787, -0.2646180316431421, -0.15556737671355614, 0.024621048303612558, -0.05817703773004901, -0.04081296033152283, 0.025190067280450493], \"topics\": [1, 2, 3, 4, 5, 6, 7, 8, 9, 10, 11, 12, 13, 14, 15], \"cluster\": [1, 1, 1, 1, 1, 1, 1, 1, 1, 1, 1, 1, 1, 1, 1], \"Freq\": [9.704824324806689, 9.6583413438978, 8.319426455866342, 7.258842693776084, 7.050100102617455, 6.8884265912380975, 6.714798189054284, 6.516494946319917, 6.433568971139033, 6.352951804001454, 6.32369396285324, 5.890158280018294, 5.393659076901729, 3.8249067007884827, 3.6698065567211025]}, \"tinfo\": {\"Term\": [\"citi\", \"school\", \"polic\", \"baltimor\", \"maryland\", \"peopl\", \"student\", \"thank\", \"shoot\", \"includ\", \"live\", \"like\", \"know\", \"look\", \"raven\", \"black\", \"covid\", \"elect\", \"state\", \"offic\", \"support\", \"news\", \"water\", \"say\", \"good\", \"leav\", \"talk\", \"public\", \"need\", \"want\", \"support\", \"program\", \"busi\", \"organ\", \"violenc\", \"proud\", \"care\", \"protest\", \"award\", \"train\", \"small\", \"effort\", \"hire\", \"commit\", \"assist\", \"appli\", \"applic\", \"grant\", \"design\", \"advoc\", \"invest\", \"nonprofit\", \"initi\", \"academi\", \"graduat\", \"grate\", \"homeless\", \"labor\", \"engag\", \"intern\", \"fund\", \"american\", \"creat\", \"stand\", \"help\", \"communiti\", \"local\", \"work\", \"month\", \"leader\", \"nation\", \"group\", \"honor\", \"baltimor\", \"worker\", \"partner\", \"serv\", \"today\", \"servic\", \"celebr\", \"hous\", \"need\", \"mayor\", \"council\", \"court\", \"squeege\", \"scott\", \"mosbi\", \"rule\", \"budget\", \"brandon\", \"midatlant\", \"prison\", \"sy\", \"marilyn\", \"adnan\", \"propos\", \"appeal\", \"collabor\", \"deputi\", \"sheriff\", \"trace\", \"commentari\", \"contract\", \"poppleton\", \"princip\", \"motion\", \"councilman\", \"bat\", \"suprem\", \"fail\", \"edward\", \"citi\", \"committe\", \"public\", \"order\", \"judg\", \"hear\", \"board\", \"meet\", \"baltimor\", \"depart\", \"announc\", \"attorney\", \"state\", \"offic\", \"govern\", \"member\", \"feder\", \"plan\", \"today\", \"hold\", \"say\", \"offici\", \"work\", \"free\", \"inform\", \"food\", \"visit\", \"remind\", \"hill\", \"neighborhood\", \"festiv\", \"collect\", \"neighbor\", \"august\", \"particip\", \"recycl\", \"site\", \"art\", \"clean\", \"distribut\", \"april\", \"sit\", \"trash\", \"spring\", \"annapoli\", \"websit\", \"birthday\", \"druid\", \"queen\", \"cancel\", \"estim\", \"height\", \"vacant\", \"park\", \"event\", \"saturday\", \"street\", \"septemb\", \"happi\", \"center\", \"updat\", \"list\", \"check\", \"district\", \"tomorrow\", \"today\", \"open\", \"communiti\", \"celebr\", \"baltimor\", \"citi\", \"week\", \"friday\", \"join\", \"resid\", \"live\", \"raven\", \"news\", \"talk\", \"game\", \"watch\", \"discuss\", \"play\", \"cover\", \"journal\", \"pick\", \"music\", \"seri\", \"featur\", \"newspap\", \"coverag\", \"icymi\", \"grade\", \"outlook\", \"editor\", \"journalist\", \"movi\", \"writer\", \"tune\", \"film\", \"blue\", \"facebook\", \"role\", \"finish\", \"oscar\", \"stori\", \"listen\", \"oriol\", \"tonight\", \"practic\", \"book\", \"join\", \"week\", \"team\", \"baltimor\", \"come\", \"night\", \"issu\", \"report\", \"morn\", \"today\", \"sunday\", \"polic\", \"shoot\", \"yearold\", \"charg\", \"kill\", \"investig\", \"arrest\", \"block\", \"murder\", \"woman\", \"crash\", \"die\", \"dead\", \"suspect\", \"victim\", \"walk\", \"scene\", \"involv\", \"fatal\", \"york\", \"homicid\", \"store\", \"detect\", \"note\", \"link\", \"strike\", \"incid\", \"guard\", \"fire\", \"print\", \"offic\", \"video\", \"accus\", \"counti\", \"crime\", \"baltimor\", \"say\", \"report\", \"year\", \"locat\", \"like\", \"love\", \"read\", \"best\", \"send\", \"friend\", \"feel\", \"middl\", \"littl\", \"piec\", \"thread\", \"email\", \"that\", \"catch\", \"word\", \"hurrican\", \"halloween\", \"forward\", \"messag\", \"yall\", \"theyr\", \"cool\", \"congrat\", \"heart\", \"tree\", \"rest\", \"gift\", \"heat\", \"awesom\", \"andrew\", \"look\", \"great\", \"think\", \"beauti\", \"photo\", \"rememb\", \"time\", \"go\", \"better\", \"season\", \"work\", \"today\", \"famili\", \"year\", \"week\", \"tell\", \"water\", \"area\", \"test\", \"weather\", \"special\", \"point\", \"expect\", \"storm\", \"even\", \"temperatur\", \"traffic\", \"rain\", \"remain\", \"smith\", \"radar\", \"possibl\", \"wear\", \"predict\", \"arriv\", \"snow\", \"cold\", \"januari\", \"shower\", \"drink\", \"winter\", \"sound\", \"forecast\", \"bridg\", \"fell\", \"main\", \"delay\", \"afternoon\", \"head\", \"latest\", \"stay\", \"clear\", \"continu\", \"lane\", \"effect\", \"center\", \"morn\", \"hour\", \"sever\", \"road\", \"look\", \"jackson\", \"deal\", \"restaur\", \"lamar\", \"past\", \"light\", \"sell\", \"ticket\", \"florida\", \"price\", \"cost\", \"senior\", \"independ\", \"sale\", \"steal\", \"request\", \"answer\", \"add\", \"half\", \"downtown\", \"room\", \"tour\", \"apart\", \"cross\", \"remov\", \"score\", \"product\", \"dollar\", \"roll\", \"custom\", \"build\", \"question\", \"million\", \"year\", \"spend\", \"near\", \"compani\", \"home\", \"accord\", \"drop\", \"plan\", \"space\", \"time\", \"return\", \"say\", \"baltimor\", \"month\", \"call\", \"elect\", \"vote\", \"democrat\", \"candid\", \"race\", \"ballot\", \"final\", \"general\", \"governor\", \"republican\", \"voter\", \"moor\", \"execut\", \"congratul\", \"novemb\", \"result\", \"parti\", \"poll\", \"count\", \"copi\", \"senat\", \"howard\", \"harbaugh\", \"gubernatori\", \"debat\", \"mailin\", \"primari\", \"winner\", \"victori\", \"kevin\", \"beat\", \"maryland\", \"state\", \"earli\", \"legal\", \"campaign\", \"counti\", \"offici\", \"say\", \"baltimor\", \"district\", \"peopl\", \"know\", \"black\", \"good\", \"girl\", \"hogan\", \"cop\", \"doesnt\", \"bodi\", \"push\", \"injur\", \"actual\", \"problem\", \"larri\", \"isnt\", \"let\", \"understand\", \"matter\", \"form\", \"fundrais\", \"fact\", \"babi\", \"truck\", \"articl\", \"librari\", \"contact\", \"reynold\", \"rock\", \"nice\", \"nurs\", \"right\", \"need\", \"dont\", \"power\", \"differ\", \"thing\", \"say\", \"think\", \"go\", \"long\", \"drug\", \"write\", \"women\", \"time\", \"school\", \"student\", \"thank\", \"want\", \"happen\", \"teacher\", \"your\", \"hope\", \"welcom\", \"attend\", \"appreci\", \"teach\", \"huge\", \"hop\", \"loss\", \"forget\", \"volunt\", \"wonder\", \"mervo\", \"sorri\", \"prek\", \"thought\", \"fake\", \"climat\", \"invit\", \"weed\", \"ope\", \"shout\", \"normal\", \"profession\", \"staff\", \"share\", \"high\", \"parent\", \"miss\", \"learn\", \"star\", \"class\", \"abl\", \"year\", \"virtual\", \"grow\", \"great\", \"famili\", \"today\", \"help\", \"week\", \"dont\", \"work\", \"educ\", \"communiti\", \"come\", \"join\", \"covid\", \"death\", \"vaccin\", \"ann\", \"arundel\", \"believ\", \"safeti\", \"hospit\", \"data\", \"posit\", \"wbal\", \"adult\", \"number\", \"confirm\", \"account\", \"search\", \"reveal\", \"total\", \"radio\", \"largest\", \"quarter\", \"gun\", \"clinic\", \"averag\", \"seven\", \"rate\", \"doctor\", \"inner\", \"plane\", \"wife\", \"record\", \"case\", \"increas\", \"children\", \"import\", \"caus\", \"report\", \"kid\", \"maryland\", \"pandem\", \"health\", \"week\", \"public\", \"get\", \"trump\", \"biden\", \"market\", \"hopkin\", \"convers\", \"statement\", \"concern\", \"twitter\", \"player\", \"attack\", \"claim\", \"bank\", \"perform\", \"letter\", \"panel\", \"leadership\", \"lawsuit\", \"voic\", \"stadium\", \"thousand\", \"find\", \"donald\", \"giant\", \"towson\", \"trip\", \"spirit\", \"michael\", \"violat\", \"illeg\", \"battl\", \"presid\", \"hous\", \"john\", \"white\", \"washington\", \"polit\", \"post\", \"defens\", \"fight\", \"say\", \"feder\", \"speak\", \"owner\", \"univers\", \"leav\", \"media\", \"hall\", \"social\", \"didnt\", \"town\", \"davi\", \"press\", \"confer\", \"identifi\", \"soon\", \"task\", \"medic\", \"minut\", \"agre\", \"keith\", \"correct\", \"door\", \"notic\", \"juri\", \"decemb\", \"februari\", \"seat\", \"grind\", \"recov\", \"arm\", \"car\", \"greater\", \"shut\", \"ocean\", \"forc\", \"address\", \"chief\", \"trial\", \"advisori\", \"juli\", \"facil\", \"reason\", \"includ\", \"mean\", \"warn\", \"north\", \"colleg\", \"wind\", \"attempt\", \"farm\", \"offens\", \"crowd\", \"teen\", \"charl\", \"king\", \"absolut\", \"part\", \"morgan\", \"mari\", \"damag\", \"campus\", \"occur\", \"lake\", \"athlet\", \"grader\", \"mile\", \"cloud\", \"surround\", \"columbia\", \"glen\", \"complex\", \"pool\", \"thunderstorm\", \"univers\", \"potenti\", \"sever\", \"south\", \"flood\", \"coach\", \"state\"], \"Freq\": [7176.0, 4928.0, 3894.0, 12505.0, 3937.0, 2880.0, 2625.0, 2552.0, 2042.0, 1621.0, 1990.0, 1931.0, 1817.0, 2237.0, 1727.0, 1521.0, 1465.0, 1468.0, 2580.0, 2175.0, 1609.0, 1412.0, 1367.0, 4092.0, 1328.0, 1092.0, 1354.0, 1869.0, 1555.0, 1237.0, 1608.269992179065, 984.1915626088178, 846.0403743327703, 664.9725544213028, 646.4286401698863, 613.3452308751077, 567.2701963477463, 465.53917434842754, 457.5395675748306, 412.4667723779395, 407.484918050608, 380.54201192581735, 374.76452677904496, 340.28962610270173, 334.86555434097613, 332.57505017702726, 323.33896280033787, 313.31125430752076, 275.5661763740093, 256.4773154676552, 242.19515634468027, 239.9623577171729, 239.351872616996, 232.5110390179412, 218.46324549947397, 218.24880407964656, 217.9731447476072, 216.69680023366843, 215.59332366528267, 215.16877690014093, 638.7760126062522, 575.2399945517512, 421.82632131710966, 373.59512322827715, 1179.2488954673397, 1272.3671369158567, 603.8970643844187, 1332.7262887933925, 799.5432330535235, 469.028735217879, 581.4561536741759, 454.9246504381699, 471.7487749638825, 1613.345095420657, 441.8589234017215, 372.8633679151046, 363.62553989201564, 575.5799179272018, 399.9117385619237, 408.50229478816, 406.94758672366834, 401.17911563860775, 1107.93612953758, 1089.4860459824458, 995.1483192797449, 503.7686500960326, 488.3567585835244, 474.0075769364377, 461.7889810138927, 347.0737910950298, 329.42038419688066, 319.5377454489715, 277.89095815241114, 266.1349197375115, 254.38189739677728, 250.07846997528404, 242.21615237383853, 237.1691930688595, 233.8606989128245, 218.67861678467375, 214.26899261846398, 210.82734265478774, 206.42030148542733, 199.12717121365972, 185.11008253275548, 182.02061722931748, 168.40987880725288, 165.6850491368898, 162.9456495082507, 159.8788588957178, 155.2002163810002, 146.86213241376953, 6141.479317946979, 461.6552529255124, 1545.845846025843, 418.3550073703317, 555.8865972789326, 1088.0867113060701, 774.1125864001365, 977.6239694217815, 5071.117100087079, 655.9194144241893, 832.8903346812084, 520.3018097139123, 845.5629812355475, 568.4286400883859, 305.28894493692854, 360.18062859281235, 343.08672665291783, 413.30671789931046, 530.0743230871664, 350.45275311720644, 500.0242636213839, 363.08880463833856, 352.8248413136392, 951.7905535031647, 904.047945892433, 782.477003693146, 617.4090839291736, 610.6946169204423, 559.0059309844157, 509.91195661780154, 463.07994147326445, 434.2229480690903, 398.4818873446226, 370.43369957393793, 350.3397264468718, 335.2009068688025, 309.67215637371044, 307.52674573965743, 290.70199514616513, 287.6504418891274, 287.46362841161556, 285.7843588381235, 274.66542636194407, 260.1174500373833, 250.9157871320053, 245.4814360962629, 239.30763836041615, 206.80021474672702, 206.08406977049714, 203.45394597577973, 195.97782301954626, 194.86446958385704, 193.5674468712474, 1142.9048710918003, 1281.374825639226, 775.3055617679507, 848.0835734843677, 337.3572955591577, 750.2281106407975, 939.9151743270731, 973.0282962097768, 498.9113579960837, 643.8690240689108, 766.3884490160957, 618.9971716855146, 1292.806712657322, 727.7300231208476, 821.7430596755687, 596.1360622260951, 1433.7576013459793, 1033.832019660311, 770.3739630776219, 470.90468433151284, 517.0797214270508, 435.8667521257419, 1989.1864337830546, 1726.885567229736, 1411.5077621941414, 1353.3103020328883, 899.5968545563384, 877.036131020691, 701.8947512319335, 616.8673737357226, 440.074020769359, 374.33555042053126, 357.5227431283013, 337.9813762768028, 330.6699721337849, 329.1665361188635, 325.11471944760154, 264.43581218633443, 254.09561230954333, 240.903610503881, 239.93720061524766, 227.1405926937267, 221.19810648403782, 215.47774017610035, 214.7182686635911, 212.20490083664527, 208.96023915271903, 197.4634534613655, 182.9788365816528, 182.11890661242722, 166.14346624099812, 161.4500964308592, 886.2475275073066, 528.9972613780137, 508.1318934500193, 797.6499108618013, 338.5313287863202, 531.079013549107, 918.2319563994454, 913.1339396466664, 462.0782123594207, 1226.5573499344243, 531.6112736528014, 431.994287286475, 413.6627229603521, 471.7034855982845, 425.6110253579977, 417.106906624269, 334.57715745599984, 3893.3269700182386, 2041.8328592416601, 1224.8118615977874, 924.472892968059, 902.5428840624173, 902.152063846047, 808.086506083176, 638.1242403574385, 603.6330240237496, 564.2079169714463, 555.7888438449343, 545.9247204198992, 436.4245189097075, 428.2239329806532, 407.98925466462805, 388.7795874938487, 385.88817723811616, 376.1936094523651, 365.19825704652817, 310.2077436011333, 300.47210220932845, 287.0963548191178, 275.7300980410773, 254.549642930352, 248.01819441718018, 247.34719756314388, 235.98216012250143, 222.91106643920477, 202.09347710598527, 198.28544125149284, 1425.977874550364, 483.5669026750268, 316.0721468166511, 1078.126114550201, 340.01101408544196, 2139.2472594270785, 966.0207761089325, 380.5953948787004, 384.52676445296487, 309.6401646227023, 1930.399049558737, 1111.3903817872574, 1030.7076125663652, 830.994434260921, 549.9648514972475, 543.2528187331592, 474.55171237517135, 390.17320826998866, 366.14298901912434, 364.71686848495034, 323.0720750112938, 310.8501293708882, 306.5690540798499, 305.55530388763515, 298.1025003460804, 290.36319307221146, 286.07293977773537, 285.0110933175055, 263.82376063148524, 245.19097958980902, 237.81336507641737, 228.51761403206007, 205.38783193096742, 195.07855131947804, 183.87975449980758, 177.61178487079937, 171.81433132427972, 169.5136750250358, 166.27592471853984, 161.08730815006888, 1863.2898414220176, 1216.53305966996, 671.4524503771756, 272.2197143388105, 374.65430758216115, 293.6901751933805, 673.3084368223621, 536.289273374863, 284.15835531060026, 325.9839510394789, 483.19664148825393, 496.4431479499235, 386.9860142011793, 329.3718698084726, 314.8599461228228, 298.10647159756786, 1366.1196931122026, 1180.0501501493504, 973.2060223529127, 927.737783556352, 824.440542831449, 794.4627652151879, 793.2861067971228, 669.2509281523712, 629.3548267818471, 566.2076780678641, 485.8093388146294, 481.45816300049506, 480.8511662321176, 422.60050973175095, 417.89865048135084, 407.9521103240226, 381.9862234801612, 364.99375499035614, 303.4259721238553, 290.8787699690765, 289.988017696094, 285.67976866589106, 274.3817875388891, 258.267683632916, 258.11036428198486, 254.01565234479563, 244.26211066392077, 222.21699195542607, 213.74355449958534, 208.14971711113057, 463.37734139063224, 465.29390615858597, 561.8225221341847, 661.1598745734349, 362.2452794728851, 360.60517953831754, 593.7884808463012, 324.5699939786706, 323.1191719125303, 448.021596329845, 452.8387299098406, 366.6823518676919, 350.51899829478344, 343.381065562678, 373.2739789056958, 612.0947515621026, 465.64554559293805, 384.9312032407397, 378.18819623529475, 368.6642592337514, 331.39426222475345, 293.7819137445527, 284.87637165493203, 283.75059612574785, 266.82395295996076, 265.25850321920814, 260.6901157643065, 259.1890956395755, 257.7097398949645, 256.5547654565435, 248.3290215604573, 243.84326347057987, 225.10384599330592, 223.64302393804616, 219.550417994913, 214.34670902666545, 213.90020990922102, 211.88045519537374, 209.14684037242762, 203.9249525264493, 193.4025547536525, 184.44191250650118, 183.63456997104632, 181.4936157819034, 179.94974693618363, 731.1242407295508, 533.6792128276094, 645.3223171653552, 1484.7209972228932, 367.64862140581323, 531.92848880716, 371.13387333980165, 490.81003799245065, 347.46397271330807, 284.6646952164184, 439.7492646618573, 267.07121491687957, 442.77952287078193, 303.56342311128003, 382.1107430558674, 435.87200850107314, 284.64033844223724, 276.3926797107695, 1467.3511031553367, 1197.16555722098, 632.5798730994691, 592.0613302468851, 542.1173402668267, 531.9096193543244, 506.4522989386614, 501.38977346325436, 482.4258776953697, 479.9357644874497, 464.0602882603812, 456.56081221443094, 445.63951683202254, 438.569215751686, 390.4178781462418, 386.0379362079444, 370.04884029773814, 344.561311964868, 323.0854197639106, 292.99847846534004, 279.4497124561149, 273.9247132468767, 232.41394540297347, 216.5589100039196, 212.61527259423306, 175.54032927489294, 172.14201070894967, 168.29770294789674, 168.16360122539749, 159.778998175634, 1187.9065215118987, 2937.627222861413, 1208.2201713102982, 518.4424518117705, 301.1889863744948, 302.4553080334055, 662.390760191475, 446.3070994388957, 365.2978726041671, 387.9674102539469, 311.1918456820359, 2879.3463526139158, 1816.513524989375, 1520.9211113493925, 1327.9557192159095, 408.4583633134784, 379.649764525442, 366.28542431023635, 295.0467148488149, 287.45004806086473, 286.66170569295406, 281.82069673295507, 280.9094759952372, 280.3685792069301, 258.7610110050667, 246.4667442239004, 244.56618881210258, 241.23416855607383, 208.99738736998034, 198.43401879785435, 194.84407401530189, 174.96070970493167, 174.5269219973773, 173.35055338137514, 164.78556068185975, 163.24620337929085, 150.32991444793285, 149.04378140637593, 144.7468027450252, 143.0062801827942, 140.75161775497457, 1028.7421070798418, 1153.061973033918, 837.3074957904291, 417.11763601407046, 263.43323770350725, 526.6176665469378, 850.9349287894744, 312.83062723060203, 375.8401077645522, 234.1236028203998, 240.90657429313347, 278.5498206235186, 248.1572120105517, 291.9242531837192, 4927.718821152076, 2624.5624773022737, 2551.6589812327957, 1236.5401905746785, 1101.189972529797, 657.0035510943723, 559.3194966326848, 413.8084929664624, 369.9440301983988, 310.946989668284, 238.0369313800317, 217.21290481836922, 213.30222750419506, 212.04481321975993, 205.96137311720008, 203.32186239162053, 194.56583717070885, 193.07979842478338, 175.91487720385678, 173.2945467905585, 169.92958683024645, 168.5102842289534, 167.43708803359385, 156.52067507266383, 152.42304541159152, 145.2633204150207, 138.06668293784517, 132.87368933928883, 130.52760498559456, 129.46806995246703, 633.2482786243426, 664.9030852426845, 930.8740654498636, 437.24667254412026, 483.8891412599171, 839.2663015128741, 223.1663562786678, 261.83447345062217, 216.9780827058144, 530.3650430399151, 241.01751545177507, 234.6031896451607, 344.93504988231575, 346.9106423010515, 439.4211163947228, 337.74536957226655, 381.7923997478313, 289.60963151763565, 342.9033545438131, 242.2460073645759, 257.89037742972766, 256.43251166625555, 250.84148101689848, 1464.6716393933737, 767.7686220864855, 645.1613098678237, 563.9387006925472, 554.0048808553452, 515.003118892535, 458.5212614489607, 457.5833582968011, 435.32802350701735, 399.26282129690543, 378.9701105422766, 363.5176863665332, 587.1062064778499, 340.2041260675122, 320.08648453108356, 277.1231023586649, 272.4761653937162, 256.80837589523867, 241.59044637275267, 225.55072911168713, 205.22238196124144, 200.63826617049605, 198.30682713363703, 187.65718548443203, 184.36320532138663, 183.55434025677982, 183.1154975677957, 172.54222231894352, 170.37487294371223, 160.9303225218143, 460.4825271884572, 895.1184235966244, 499.2054235065007, 499.1435455931713, 469.72655921377645, 307.275360589283, 865.288439876191, 371.4343994205025, 998.6658292924404, 283.65501412362715, 380.0093953731654, 384.57258963772716, 322.54005698589816, 285.49682530605, 521.6921810050676, 496.7408455257923, 419.2059991673878, 369.5230663539647, 317.64727814225563, 317.31338672173484, 313.5133333619643, 309.13460167000187, 305.6816032894462, 292.4322223388045, 285.95317748467625, 285.5713824575172, 283.8938751995964, 269.240001271348, 239.65913548446858, 225.86396782335842, 222.6106167496611, 215.67153834170065, 204.97497220208245, 198.81891823627572, 194.1606423096864, 170.60771900400172, 168.89669822394666, 167.84102227671846, 167.1400541387594, 163.3772975286218, 162.78106778483792, 162.67283983835804, 158.4592227054466, 153.7794221146412, 746.2451827625898, 941.1005396561051, 499.0852027741386, 337.47781653946646, 262.5909012049056, 240.88046151610146, 302.04922119041527, 247.44062982380822, 286.8532055791058, 793.3457777704907, 265.3532619043251, 263.8474337097909, 228.63755728019402, 234.1843734186256, 1091.7892846973798, 921.5127709605791, 780.7689105801002, 462.11805895786546, 420.1500651640195, 417.3433654456117, 412.3322522011411, 400.1216604106912, 360.1719207380818, 316.90946000093714, 308.3610240514941, 286.4756559589734, 268.89951792191863, 267.33933648199707, 215.0869298618784, 211.99138660260502, 208.54043029694984, 205.9258437521722, 191.58140162148473, 185.5275580492573, 180.8714903345757, 165.76383874609186, 158.2661449861296, 156.4521443366401, 153.82591976642257, 148.11496917531423, 145.92825769847326, 140.18354458303608, 136.23341499043337, 135.73256337771193, 561.091257453747, 366.9649994356994, 373.95362146181367, 469.6880677327454, 345.33735847918376, 251.220230227807, 185.49261947183135, 170.58984613330236, 1620.8399127420896, 842.3739109600274, 822.7631311457429, 652.9418438766722, 498.59602307949433, 344.6963762493606, 342.08162754786883, 326.09571737100254, 268.94548669452456, 260.4244101970497, 258.03166713016094, 256.9619544657594, 251.90737700422875, 236.5845687906069, 230.01570321342408, 227.6794958889347, 222.50385436363814, 221.23648992289802, 219.8460867812354, 206.8210744978906, 192.44482270982184, 188.50592699554596, 177.08469620469936, 165.23858931899736, 161.6427280417126, 158.97433503080066, 158.84378565640768, 145.4582728002702, 142.9960883267087, 141.9091210947724, 280.83291991500334, 474.0821251751052, 184.73502823888234, 326.87071543978595, 246.22413619176766, 203.21813743746145, 217.37913026787888, 296.2931534716884], \"Total\": [7176.0, 4928.0, 3894.0, 12505.0, 3937.0, 2880.0, 2625.0, 2552.0, 2042.0, 1621.0, 1990.0, 1931.0, 1817.0, 2237.0, 1727.0, 1521.0, 1465.0, 1468.0, 2580.0, 2175.0, 1609.0, 1412.0, 1367.0, 4092.0, 1328.0, 1092.0, 1354.0, 1869.0, 1555.0, 1237.0, 1609.2745262631938, 985.1960964779319, 847.044908366835, 665.9770886298937, 647.4341318527921, 614.3497647235449, 568.2747303979627, 466.54371022912176, 458.54410223864255, 413.47130682056064, 408.48945217752396, 381.54654600305054, 375.7690608436046, 341.2941604817956, 335.8700883253807, 333.57958385008124, 324.34349667734034, 314.31578887231, 276.5707106539305, 257.48184936281905, 243.19969023549174, 240.96689188059204, 240.35640675776546, 233.51557416098916, 219.46777992200487, 219.25333805204994, 218.9776788093787, 217.70133479952608, 216.59786189367802, 216.17331149786668, 765.1074325973726, 679.4721536263294, 479.94622809791525, 425.6657380444742, 1892.344081286099, 2352.8640351001077, 891.8280553626684, 2730.988762120478, 1377.8983312304017, 643.7410596667139, 891.0296413539173, 621.7437741446954, 692.7738315152408, 12505.168665862013, 719.9073502749849, 464.17200195238144, 464.5417019673065, 4382.924621163784, 788.3005653204826, 1263.5528065330325, 1451.9466366981283, 1555.1759345293062, 1108.9483992214857, 1090.4983153601129, 996.1609739286183, 504.78092012613365, 489.3690282576787, 475.0198466242073, 462.80125113581005, 348.0860605579447, 330.4326540103808, 320.55001906458307, 278.90322851966533, 267.14718918566246, 255.39416694292746, 251.09073935057484, 243.2284220648576, 238.1814626160024, 234.87296887690948, 219.69088697497367, 215.28126301325176, 211.83961663192798, 207.43257377189926, 200.13944152624424, 186.12235488272546, 183.03289048024342, 169.4221488021295, 166.697318902456, 163.95792022926187, 160.89112825850464, 156.2124864056423, 147.87440414342294, 7176.246344335609, 485.19086206742264, 1869.3183177315493, 455.1765312304618, 662.4188458693302, 1504.8169507422456, 1010.3057023233547, 1415.0944791436825, 12505.168665862013, 925.2241373474593, 1298.1054472899962, 712.01562200654, 2580.1303377804966, 2175.230130017595, 460.6294272814942, 842.7576676478208, 732.6835293123631, 1433.6868523599783, 4382.924621163784, 821.1764147923606, 4092.1302117871146, 1115.6525268316007, 2730.988762120478, 952.7941170462874, 905.0514996451782, 783.4805575802004, 618.4126377012137, 611.6981706287255, 560.0094850112903, 510.91551020387095, 464.08349509508946, 435.2265014457122, 399.48544083760584, 371.43725357422545, 351.3432804789331, 336.20446000847403, 310.675710206932, 308.5303000395963, 291.7055486537505, 288.65399536868455, 288.4671819173037, 286.78791247013413, 275.668979660418, 261.1210041885219, 251.91934170882882, 246.48498989125954, 240.31119169976327, 207.8037680893901, 207.0876250468125, 204.45749973883275, 196.98137705915386, 195.8680233999534, 194.57100061461136, 1255.6600584457287, 1474.939975283868, 901.0187417444002, 997.7788280439331, 370.6095662407009, 986.5412762412556, 1388.8572537073294, 1681.4889122294337, 661.7575938701633, 981.0079236367933, 1270.0043923917121, 1018.9886276319269, 4382.924621163784, 1566.3464315257393, 2352.8640351001077, 1263.5528065330325, 12505.168665862013, 7176.246344335609, 3297.1170341442235, 918.9458566949204, 2137.1819060455064, 1057.5587580134081, 1990.2025081704812, 1727.9016417582675, 1412.5238368054236, 1354.3263764988255, 900.612928983475, 878.0522054452864, 702.9108255583361, 617.8834481067092, 441.0900952357232, 375.35162555818357, 358.53881762399635, 338.99745090965234, 331.68604657932116, 330.18261050735356, 326.1307949725131, 265.451886723788, 255.11168676256094, 241.91968628226257, 240.95328933530337, 228.15666764131325, 222.21418186542405, 216.49381476993372, 215.73434350100487, 213.2209748427552, 209.9763137631083, 198.47952784509067, 183.99491077979368, 183.13498129966558, 167.1595406261391, 162.4661758093674, 1132.7005895552115, 676.0588801613222, 677.3497716451425, 1221.7809520363242, 414.18034777048854, 768.3347011728179, 2137.1819060455064, 3297.1170341442235, 1129.3671844469964, 12505.168665862013, 2238.553789206378, 1366.214105008111, 1223.0738687973374, 2118.9301414688534, 1609.594734844299, 4382.924621163784, 802.1166039211402, 3894.345349342635, 2042.851238285461, 1225.830240774511, 925.4912723959571, 903.5612632306838, 903.170443091654, 809.1048850942882, 639.1426197215409, 604.6514032731561, 565.2262964265939, 556.8072234363857, 546.9431008227092, 437.44289811024703, 429.24231191987394, 409.0076339635236, 389.7979670206163, 386.9065565697665, 377.2119888590608, 366.2166360453206, 311.2261232887599, 301.49048112902324, 288.1147344008448, 276.74847712103843, 255.5680223149481, 249.03657382098254, 248.36557709436974, 237.00053951600046, 223.92944563481137, 203.11185675264161, 199.30382173783897, 2175.230130017595, 618.5749803907238, 373.1505331320216, 2391.714776939679, 439.2040983968823, 12505.168665862013, 4092.1302117871146, 2118.9301414688534, 3572.4713712445723, 629.2882460622693, 1931.4138441972898, 1112.4051762396193, 1031.722407470409, 832.0092664097955, 550.9796462579984, 544.2676131298967, 475.56650704921407, 391.1880040233054, 367.1577836178837, 365.73166330242026, 324.0868696829535, 311.864923844323, 307.5838485453991, 306.5700988210535, 299.1172949427796, 291.3779900253715, 287.08773525032456, 286.0258876681253, 264.83855532779376, 246.20577495993086, 238.8281598999117, 229.5324085084141, 206.4026268127583, 196.09334607369158, 184.89454901881916, 178.62657970808894, 172.82912613346286, 170.52846978053736, 167.29071926719575, 162.1021029603839, 2237.495544147867, 1562.4190944953166, 985.2281842101781, 311.7655872992466, 478.0763140183367, 361.2418654590839, 2359.30337120426, 1701.3333382980857, 433.4855736721122, 684.0256819126414, 2730.988762120478, 4382.924621163784, 1663.6415070319795, 3572.4713712445723, 3297.1170341442235, 879.039803736345, 1367.1174392290961, 1181.047896281065, 974.2037685202015, 928.7355294515398, 825.4382892918688, 795.4605113923973, 794.283853093556, 670.2486739667183, 630.3525730780227, 567.2054237670208, 486.80708504620907, 482.45590894520365, 481.8489126370772, 423.5982561327059, 418.8963967851402, 408.9498565631877, 382.9839698911549, 365.99150091313453, 304.4237188947578, 291.87651593260733, 290.9857635567764, 286.67751511727107, 275.37953318884087, 259.2654300984652, 259.1081103039271, 255.0133988889832, 245.25985669600573, 223.2147381182646, 214.7413007417334, 209.1474631331979, 542.613979199283, 584.7092378318305, 750.1449588103493, 941.2054141961896, 450.0131549947834, 460.0639067562235, 1140.141248662225, 399.8434152376728, 409.44696733402816, 1388.8572537073294, 1609.594734844299, 744.4928822671319, 678.2930260446531, 600.8897362533316, 2237.495544147867, 613.1079090523145, 466.6587046451862, 385.94436071941857, 379.20135355835134, 369.67741675764705, 332.40741980534654, 294.7950710605793, 285.8895290195169, 284.76375513567393, 267.8371103095666, 266.27166045071476, 261.7032732992397, 260.20225424354874, 258.7228971683633, 257.567923759933, 249.34217885330804, 244.85642071343722, 226.11700357625, 224.65618131382337, 220.5635754211916, 215.3598668486141, 214.9133677193678, 212.8936126058637, 210.15999798011947, 204.9381099540176, 194.4157123720449, 185.4550699408759, 184.64772728772587, 182.5067733361758, 180.96290443737422, 999.4641148122998, 726.8448199469872, 928.2577713395963, 3572.4713712445723, 492.03977593122613, 901.0258727115421, 612.1341329798939, 1296.572041166835, 671.5648461803498, 424.7903143164687, 1433.6868523599783, 385.7942191134507, 2359.30337120426, 664.7510944641385, 4092.1302117871146, 12505.168665862013, 1377.8983312304017, 950.0121830439568, 1468.3653960928375, 1198.1798501261103, 633.5941659884613, 593.0756232517865, 543.1316333171712, 532.923912125307, 507.4665924721192, 502.404066660881, 483.4401706453257, 480.95005735033556, 465.07458113054787, 457.5751050584141, 446.65381007588, 439.5835088180244, 391.43217193490125, 387.052229644282, 371.0631337026078, 345.5756048262014, 324.09971310458997, 294.0127727343258, 280.4640053744136, 274.93900700885547, 233.42824023003237, 217.57320277567808, 213.62956586892693, 176.5546219901452, 173.15630360046998, 169.31199631098244, 169.1778943269949, 160.79329862475268, 1266.732591092022, 3937.2274903559937, 2580.1303377804966, 797.2962538744025, 401.8867069231263, 426.4498698025634, 2391.714776939679, 1115.6525268316007, 4092.1302117871146, 12505.168665862013, 1270.0043923917121, 2880.357481941621, 1817.5246538765618, 1521.9322405964515, 1328.9668483262863, 409.4694930143285, 380.66089325744105, 367.29655443969835, 296.0578438880135, 288.461177904686, 287.67283484181354, 282.83183702148114, 281.9206048852773, 281.37970817986167, 259.77213976419927, 247.477873200202, 245.5773175516207, 242.24529740616953, 210.00851617169727, 199.44514798116623, 195.8552046805979, 175.97183850074987, 175.53805102648857, 174.36168309172834, 165.796689540613, 164.25733247537192, 151.34104335912116, 150.05491109949992, 145.75793288984508, 144.0174090392944, 141.76274680927256, 1207.3404563664417, 1555.1759345293062, 1127.8644465014822, 532.7981481043216, 309.29547953822015, 777.9029876254527, 4092.1302117871146, 985.2281842101781, 1701.3333382980857, 426.89204789282417, 467.9387724208999, 825.4026102416415, 604.5591540158343, 2359.30337120426, 4928.735829016315, 2625.579485161324, 2552.675988337897, 1237.5571980900272, 1102.2069895151776, 658.0205585113791, 560.336503956163, 414.8255003295904, 370.96103746755716, 311.9639971429762, 239.0539384432043, 218.22991207860613, 214.31923506786063, 213.06182141452823, 206.978381004809, 204.3388696339845, 195.5828445594512, 194.09680579685624, 176.93188461422045, 174.31155387927612, 170.94659600681388, 169.52729174106437, 168.45409857660744, 157.53768266668672, 153.44005272401037, 146.280328714186, 139.08369184287452, 133.8906967586763, 131.54461272361866, 130.4850776570578, 686.3388614626622, 790.1939191767265, 1213.1016689933444, 529.9781813064533, 597.5188639788229, 1142.5695212352066, 252.05471982150502, 366.5515340102466, 298.4836107382995, 3572.4713712445723, 436.03693679761454, 429.23462257847643, 1562.4190944953166, 1663.6415070319795, 4382.924621163784, 1892.344081286099, 3297.1170341442235, 1127.8644465014822, 2730.988762120478, 575.3947721141034, 2352.8640351001077, 2238.553789206378, 2137.1819060455064, 1465.6726006969325, 768.7695839725932, 646.1622710588829, 564.9396628152833, 555.0058429032686, 516.0040810326246, 459.52222321633076, 458.5843202966803, 436.3289849579657, 400.2637829699072, 379.97107418998576, 364.51864806316433, 588.7541412274735, 341.20508798146426, 321.0874462504567, 278.12406449325545, 273.4771286221214, 257.809337694373, 242.59140824490933, 226.5516910828477, 206.22334426491057, 201.63922815010034, 199.30778852659202, 188.6581469086354, 185.3641676712192, 184.55530169516192, 184.11645908305175, 173.54318415191568, 171.37583610060756, 161.93128449339957, 530.3031198687618, 1143.506823766192, 599.9191190442205, 654.8195183361364, 654.6438052826367, 410.31309208577824, 2118.9301414688534, 619.9791833162508, 3937.2274903559937, 401.17286652833997, 1040.0107622743274, 3297.1170341442235, 1869.3183177315493, 1013.6236095692454, 522.707490244643, 497.7561547816666, 420.22130855939787, 370.5383756147503, 318.6625922317802, 318.3286960495509, 314.5286428635578, 310.14991111419477, 306.6969130052503, 293.44753155556145, 286.9684868083012, 286.586691840576, 284.90918502202874, 270.2553106248559, 240.6744449587564, 226.87927710307866, 223.62592590469998, 216.68684810349106, 205.9902816596135, 199.8342313206, 195.17595175233208, 171.6230279877962, 169.91200799114972, 168.85633203467535, 168.15536374329437, 164.39260762994604, 163.7963771647034, 163.68814914613867, 159.47453172886773, 154.7947316503605, 943.1063009764757, 1451.9466366981283, 717.6479441868648, 467.34883153229515, 365.35205494104713, 321.19430616630405, 497.15465089522263, 353.21579556259314, 473.96604288134324, 4092.1302117871146, 732.6835293123631, 733.6610319822996, 381.9273905855953, 709.1873746511467, 1092.7951306851041, 922.5186164968922, 781.7747562605293, 463.12390471031415, 421.15591096521325, 418.3492109235526, 413.3380981777256, 401.12750614112394, 361.17776642185635, 317.91530615291464, 309.36686969626714, 287.4815017492959, 269.9053636275979, 268.3451822182846, 216.09277545408884, 212.9972323643334, 209.5462758765033, 206.93168940860753, 192.58724750309966, 186.53340365991568, 181.8773360846538, 166.76968458047529, 159.27199090232773, 157.45799011441238, 154.83176571425724, 149.1208152372245, 146.93410338059059, 141.18939067618237, 137.2392609833807, 136.73840959071478, 642.8665652213961, 417.7286803721755, 440.3598480158304, 578.1919425848668, 543.6459375517314, 389.796598845762, 230.95072589393618, 252.47880896774194, 1621.8262960917698, 843.3602945815521, 823.7495143768759, 653.9282273939059, 499.58240679471436, 345.6827598857507, 343.06801106544333, 327.0821012349423, 269.9318704550431, 261.4107940627027, 259.01805092958523, 257.9483379730816, 252.89376042215267, 237.57095222604698, 231.0020869314622, 228.66587925340775, 223.49023812314988, 222.22287341770942, 220.83247034851223, 207.80745832001693, 193.43120601194641, 189.49231085010936, 178.07108054936106, 166.22497279118647, 162.62911154561013, 159.9607188571236, 159.83016958803458, 146.444656214074, 143.9824720872738, 142.89550439205357, 348.4206736406651, 709.1873746511467, 226.77192572969992, 678.2930260446531, 445.33137099329826, 289.7727768917322, 371.22602570374113, 2580.1303377804966], \"Category\": [\"Default\", \"Default\", \"Default\", \"Default\", \"Default\", \"Default\", \"Default\", \"Default\", \"Default\", \"Default\", \"Default\", \"Default\", \"Default\", \"Default\", \"Default\", \"Default\", \"Default\", \"Default\", \"Default\", \"Default\", \"Default\", \"Default\", \"Default\", \"Default\", \"Default\", \"Default\", \"Default\", \"Default\", \"Default\", \"Default\", \"Topic1\", \"Topic1\", \"Topic1\", \"Topic1\", \"Topic1\", \"Topic1\", \"Topic1\", \"Topic1\", \"Topic1\", \"Topic1\", \"Topic1\", \"Topic1\", \"Topic1\", \"Topic1\", \"Topic1\", \"Topic1\", \"Topic1\", \"Topic1\", \"Topic1\", \"Topic1\", \"Topic1\", \"Topic1\", \"Topic1\", \"Topic1\", \"Topic1\", \"Topic1\", \"Topic1\", \"Topic1\", \"Topic1\", \"Topic1\", \"Topic1\", \"Topic1\", \"Topic1\", \"Topic1\", \"Topic1\", \"Topic1\", \"Topic1\", \"Topic1\", \"Topic1\", \"Topic1\", \"Topic1\", \"Topic1\", \"Topic1\", \"Topic1\", \"Topic1\", \"Topic1\", \"Topic1\", \"Topic1\", \"Topic1\", \"Topic1\", \"Topic1\", \"Topic1\", \"Topic2\", \"Topic2\", \"Topic2\", \"Topic2\", \"Topic2\", \"Topic2\", \"Topic2\", \"Topic2\", \"Topic2\", \"Topic2\", \"Topic2\", \"Topic2\", \"Topic2\", \"Topic2\", \"Topic2\", \"Topic2\", \"Topic2\", \"Topic2\", \"Topic2\", \"Topic2\", \"Topic2\", \"Topic2\", \"Topic2\", \"Topic2\", \"Topic2\", \"Topic2\", \"Topic2\", \"Topic2\", \"Topic2\", \"Topic2\", \"Topic2\", \"Topic2\", \"Topic2\", \"Topic2\", \"Topic2\", \"Topic2\", \"Topic2\", \"Topic2\", \"Topic2\", \"Topic2\", \"Topic2\", \"Topic2\", \"Topic2\", \"Topic2\", \"Topic2\", \"Topic2\", \"Topic2\", \"Topic2\", \"Topic2\", \"Topic2\", \"Topic2\", \"Topic2\", \"Topic2\", \"Topic3\", \"Topic3\", \"Topic3\", \"Topic3\", \"Topic3\", \"Topic3\", \"Topic3\", \"Topic3\", \"Topic3\", \"Topic3\", \"Topic3\", \"Topic3\", \"Topic3\", \"Topic3\", \"Topic3\", \"Topic3\", \"Topic3\", \"Topic3\", \"Topic3\", \"Topic3\", \"Topic3\", \"Topic3\", \"Topic3\", \"Topic3\", \"Topic3\", \"Topic3\", \"Topic3\", \"Topic3\", \"Topic3\", \"Topic3\", \"Topic3\", \"Topic3\", \"Topic3\", \"Topic3\", \"Topic3\", \"Topic3\", \"Topic3\", \"Topic3\", \"Topic3\", \"Topic3\", \"Topic3\", \"Topic3\", \"Topic3\", \"Topic3\", \"Topic3\", \"Topic3\", \"Topic3\", \"Topic3\", \"Topic3\", \"Topic3\", \"Topic3\", \"Topic3\", \"Topic4\", \"Topic4\", \"Topic4\", \"Topic4\", \"Topic4\", \"Topic4\", \"Topic4\", \"Topic4\", \"Topic4\", \"Topic4\", \"Topic4\", \"Topic4\", \"Topic4\", \"Topic4\", \"Topic4\", \"Topic4\", \"Topic4\", \"Topic4\", \"Topic4\", \"Topic4\", \"Topic4\", \"Topic4\", \"Topic4\", \"Topic4\", \"Topic4\", \"Topic4\", \"Topic4\", \"Topic4\", \"Topic4\", \"Topic4\", \"Topic4\", \"Topic4\", \"Topic4\", \"Topic4\", \"Topic4\", \"Topic4\", \"Topic4\", \"Topic4\", \"Topic4\", \"Topic4\", \"Topic4\", \"Topic4\", \"Topic4\", \"Topic4\", \"Topic4\", \"Topic4\", \"Topic4\", \"Topic5\", \"Topic5\", \"Topic5\", \"Topic5\", \"Topic5\", \"Topic5\", \"Topic5\", \"Topic5\", \"Topic5\", \"Topic5\", \"Topic5\", \"Topic5\", \"Topic5\", \"Topic5\", \"Topic5\", \"Topic5\", \"Topic5\", \"Topic5\", \"Topic5\", \"Topic5\", \"Topic5\", \"Topic5\", \"Topic5\", \"Topic5\", \"Topic5\", \"Topic5\", \"Topic5\", \"Topic5\", \"Topic5\", \"Topic5\", \"Topic5\", \"Topic5\", \"Topic5\", \"Topic5\", \"Topic5\", \"Topic5\", \"Topic5\", \"Topic5\", \"Topic5\", \"Topic5\", \"Topic6\", \"Topic6\", \"Topic6\", \"Topic6\", \"Topic6\", \"Topic6\", \"Topic6\", \"Topic6\", \"Topic6\", \"Topic6\", \"Topic6\", \"Topic6\", \"Topic6\", \"Topic6\", \"Topic6\", \"Topic6\", \"Topic6\", \"Topic6\", \"Topic6\", \"Topic6\", \"Topic6\", \"Topic6\", \"Topic6\", \"Topic6\", \"Topic6\", \"Topic6\", \"Topic6\", \"Topic6\", \"Topic6\", \"Topic6\", \"Topic6\", \"Topic6\", \"Topic6\", \"Topic6\", \"Topic6\", \"Topic6\", \"Topic6\", \"Topic6\", \"Topic6\", \"Topic6\", \"Topic6\", \"Topic6\", \"Topic6\", \"Topic6\", \"Topic6\", \"Topic6\", \"Topic7\", \"Topic7\", \"Topic7\", \"Topic7\", \"Topic7\", \"Topic7\", \"Topic7\", \"Topic7\", \"Topic7\", \"Topic7\", \"Topic7\", \"Topic7\", \"Topic7\", \"Topic7\", \"Topic7\", \"Topic7\", \"Topic7\", \"Topic7\", \"Topic7\", \"Topic7\", \"Topic7\", \"Topic7\", \"Topic7\", \"Topic7\", \"Topic7\", \"Topic7\", \"Topic7\", \"Topic7\", \"Topic7\", \"Topic7\", \"Topic7\", \"Topic7\", \"Topic7\", \"Topic7\", \"Topic7\", \"Topic7\", \"Topic7\", \"Topic7\", \"Topic7\", \"Topic7\", \"Topic7\", \"Topic7\", \"Topic7\", \"Topic7\", \"Topic7\", \"Topic8\", \"Topic8\", \"Topic8\", \"Topic8\", \"Topic8\", \"Topic8\", \"Topic8\", \"Topic8\", \"Topic8\", \"Topic8\", \"Topic8\", \"Topic8\", \"Topic8\", \"Topic8\", \"Topic8\", \"Topic8\", \"Topic8\", \"Topic8\", \"Topic8\", \"Topic8\", \"Topic8\", \"Topic8\", \"Topic8\", \"Topic8\", \"Topic8\", \"Topic8\", \"Topic8\", \"Topic8\", \"Topic8\", \"Topic8\", \"Topic8\", \"Topic8\", \"Topic8\", \"Topic8\", \"Topic8\", \"Topic8\", \"Topic8\", \"Topic8\", \"Topic8\", \"Topic8\", \"Topic8\", \"Topic8\", \"Topic8\", \"Topic8\", \"Topic8\", \"Topic8\", \"Topic8\", \"Topic8\", \"Topic9\", \"Topic9\", \"Topic9\", \"Topic9\", \"Topic9\", \"Topic9\", \"Topic9\", \"Topic9\", \"Topic9\", \"Topic9\", \"Topic9\", \"Topic9\", \"Topic9\", \"Topic9\", \"Topic9\", \"Topic9\", \"Topic9\", \"Topic9\", \"Topic9\", \"Topic9\", \"Topic9\", \"Topic9\", \"Topic9\", \"Topic9\", \"Topic9\", \"Topic9\", \"Topic9\", \"Topic9\", \"Topic9\", \"Topic9\", \"Topic9\", \"Topic9\", \"Topic9\", \"Topic9\", \"Topic9\", \"Topic9\", \"Topic9\", \"Topic9\", \"Topic9\", \"Topic9\", \"Topic9\", \"Topic10\", \"Topic10\", \"Topic10\", \"Topic10\", \"Topic10\", \"Topic10\", \"Topic10\", \"Topic10\", \"Topic10\", \"Topic10\", \"Topic10\", \"Topic10\", \"Topic10\", \"Topic10\", \"Topic10\", \"Topic10\", \"Topic10\", \"Topic10\", \"Topic10\", \"Topic10\", \"Topic10\", \"Topic10\", \"Topic10\", \"Topic10\", \"Topic10\", \"Topic10\", \"Topic10\", \"Topic10\", \"Topic10\", \"Topic10\", \"Topic10\", \"Topic10\", \"Topic10\", \"Topic10\", \"Topic10\", \"Topic10\", \"Topic10\", \"Topic10\", \"Topic10\", \"Topic10\", \"Topic10\", \"Topic10\", \"Topic10\", \"Topic10\", \"Topic11\", \"Topic11\", \"Topic11\", \"Topic11\", \"Topic11\", \"Topic11\", \"Topic11\", \"Topic11\", \"Topic11\", \"Topic11\", \"Topic11\", \"Topic11\", \"Topic11\", \"Topic11\", \"Topic11\", \"Topic11\", \"Topic11\", \"Topic11\", \"Topic11\", \"Topic11\", \"Topic11\", \"Topic11\", \"Topic11\", \"Topic11\", \"Topic11\", \"Topic11\", \"Topic11\", \"Topic11\", \"Topic11\", \"Topic11\", \"Topic11\", \"Topic11\", \"Topic11\", \"Topic11\", \"Topic11\", \"Topic11\", \"Topic11\", \"Topic11\", \"Topic11\", \"Topic11\", \"Topic11\", \"Topic11\", \"Topic11\", \"Topic11\", \"Topic11\", \"Topic11\", \"Topic11\", \"Topic11\", \"Topic11\", \"Topic11\", \"Topic11\", \"Topic11\", \"Topic11\", \"Topic12\", \"Topic12\", \"Topic12\", \"Topic12\", \"Topic12\", \"Topic12\", \"Topic12\", \"Topic12\", \"Topic12\", \"Topic12\", \"Topic12\", \"Topic12\", \"Topic12\", \"Topic12\", \"Topic12\", \"Topic12\", \"Topic12\", \"Topic12\", \"Topic12\", \"Topic12\", \"Topic12\", \"Topic12\", \"Topic12\", \"Topic12\", \"Topic12\", \"Topic12\", \"Topic12\", \"Topic12\", \"Topic12\", \"Topic12\", \"Topic12\", \"Topic12\", \"Topic12\", \"Topic12\", \"Topic12\", \"Topic12\", \"Topic12\", \"Topic12\", \"Topic12\", \"Topic12\", \"Topic12\", \"Topic12\", \"Topic12\", \"Topic12\", \"Topic13\", \"Topic13\", \"Topic13\", \"Topic13\", \"Topic13\", \"Topic13\", \"Topic13\", \"Topic13\", \"Topic13\", \"Topic13\", \"Topic13\", \"Topic13\", \"Topic13\", \"Topic13\", \"Topic13\", \"Topic13\", \"Topic13\", \"Topic13\", \"Topic13\", \"Topic13\", \"Topic13\", \"Topic13\", \"Topic13\", \"Topic13\", \"Topic13\", \"Topic13\", \"Topic13\", \"Topic13\", \"Topic13\", \"Topic13\", \"Topic13\", \"Topic13\", \"Topic13\", \"Topic13\", \"Topic13\", \"Topic13\", \"Topic13\", \"Topic13\", \"Topic13\", \"Topic13\", \"Topic13\", \"Topic13\", \"Topic13\", \"Topic13\", \"Topic14\", \"Topic14\", \"Topic14\", \"Topic14\", \"Topic14\", \"Topic14\", \"Topic14\", \"Topic14\", \"Topic14\", \"Topic14\", \"Topic14\", \"Topic14\", \"Topic14\", \"Topic14\", \"Topic14\", \"Topic14\", \"Topic14\", \"Topic14\", \"Topic14\", \"Topic14\", \"Topic14\", \"Topic14\", \"Topic14\", \"Topic14\", \"Topic14\", \"Topic14\", \"Topic14\", \"Topic14\", \"Topic14\", \"Topic14\", \"Topic14\", \"Topic14\", \"Topic14\", \"Topic14\", \"Topic14\", \"Topic14\", \"Topic14\", \"Topic14\", \"Topic15\", \"Topic15\", \"Topic15\", \"Topic15\", \"Topic15\", \"Topic15\", \"Topic15\", \"Topic15\", \"Topic15\", \"Topic15\", \"Topic15\", \"Topic15\", \"Topic15\", \"Topic15\", \"Topic15\", \"Topic15\", \"Topic15\", \"Topic15\", \"Topic15\", \"Topic15\", \"Topic15\", \"Topic15\", \"Topic15\", \"Topic15\", \"Topic15\", \"Topic15\", \"Topic15\", \"Topic15\", \"Topic15\", \"Topic15\", \"Topic15\", \"Topic15\", \"Topic15\", \"Topic15\", \"Topic15\", \"Topic15\", \"Topic15\", \"Topic15\"], \"logprob\": [30.0, 29.0, 28.0, 27.0, 26.0, 25.0, 24.0, 23.0, 22.0, 21.0, 20.0, 19.0, 18.0, 17.0, 16.0, 15.0, 14.0, 13.0, 12.0, 11.0, 10.0, 9.0, 8.0, 7.0, 6.0, 5.0, 4.0, 3.0, 2.0, 1.0, -3.7258, -4.2169, -4.3681, -4.609, -4.6372, -4.6898, -4.7679, -4.9655, -4.9828, -5.0866, -5.0987, -5.1671, -5.1824, -5.2789, -5.295, -5.3018, -5.33, -5.3615, -5.4899, -5.5617, -5.619, -5.6282, -5.6308, -5.6598, -5.7221, -5.7231, -5.7243, -5.7302, -5.7353, -5.7373, -4.6492, -4.7539, -5.0641, -5.1855, -4.0361, -3.9601, -4.7053, -3.9137, -4.4247, -4.958, -4.7432, -4.9886, -4.9523, -3.7226, -5.0177, -5.1875, -5.2126, -4.7533, -5.1175, -5.0962, -5.1, -5.1143, -4.0937, -4.1104, -4.201, -4.8818, -4.9129, -4.9427, -4.9688, -5.2544, -5.3066, -5.337, -5.4767, -5.5199, -5.5651, -5.5821, -5.6141, -5.6351, -5.6492, -5.7163, -5.7367, -5.7529, -5.774, -5.81, -5.883, -5.8998, -5.9775, -5.9938, -6.0105, -6.0295, -6.0592, -6.1144, -2.3811, -4.9691, -3.7606, -5.0676, -4.7833, -4.1117, -4.4522, -4.2188, -2.5726, -4.6179, -4.379, -4.8495, -4.3639, -4.761, -5.3827, -5.2173, -5.2659, -5.0797, -4.8309, -5.2447, -4.8893, -5.2093, -5.2379, -4.0963, -4.1478, -4.2922, -4.5292, -4.5401, -4.6285, -4.7204, -4.8168, -4.8811, -4.967, -5.04, -5.0958, -5.14, -5.2192, -5.2261, -5.2824, -5.2929, -5.2936, -5.2994, -5.3391, -5.3935, -5.4296, -5.4515, -5.4769, -5.6229, -5.6264, -5.6392, -5.6767, -5.6824, -5.6891, -3.9134, -3.799, -4.3014, -4.2117, -5.1335, -4.3343, -4.1089, -4.0743, -4.7423, -4.4872, -4.313, -4.5266, -3.7901, -4.3648, -4.2433, -4.5642, -3.6866, -4.0137, -4.3078, -4.8, -4.7065, -4.8773, -3.2228, -3.3642, -3.5659, -3.608, -4.0164, -4.0418, -4.2645, -4.3937, -4.7314, -4.8932, -4.9391, -4.9953, -5.0172, -5.0217, -5.0341, -5.2407, -5.2806, -5.3339, -5.3379, -5.3927, -5.4193, -5.4455, -5.449, -5.4608, -5.4762, -5.5328, -5.6089, -5.6136, -5.7055, -5.7341, -4.0313, -4.5473, -4.5876, -4.1366, -4.9937, -4.5434, -3.9959, -4.0014, -4.6826, -3.7063, -4.5424, -4.7499, -4.7933, -4.662, -4.7648, -4.785, -5.0054, -2.5221, -3.1675, -3.6786, -3.9599, -3.9839, -3.9843, -4.0945, -4.3306, -4.3862, -4.4537, -4.4687, -4.4866, -4.7105, -4.7295, -4.7779, -4.8261, -4.8336, -4.859, -4.8887, -5.0519, -5.0838, -5.1293, -5.1697, -5.2496, -5.2756, -5.2783, -5.3254, -5.3824, -5.4804, -5.4994, -3.5265, -4.6079, -5.0332, -3.8062, -4.9602, -3.1209, -3.9159, -4.8474, -4.8371, -5.0537, -3.2004, -3.7526, -3.8279, -4.0433, -4.4561, -4.4684, -4.6036, -4.7993, -4.8629, -4.8668, -4.9881, -5.0266, -5.0405, -5.0438, -5.0685, -5.0948, -5.1097, -5.1134, -5.1907, -5.2639, -5.2944, -5.3343, -5.441, -5.4925, -5.5516, -5.5863, -5.6195, -5.633, -5.6523, -5.684, -3.2358, -3.6622, -4.2565, -5.1593, -4.8399, -5.0834, -4.2537, -4.4813, -5.1164, -4.9791, -4.5855, -4.5585, -4.8075, -4.9687, -5.0138, -5.0685, -3.5207, -3.6671, -3.8598, -3.9077, -4.0257, -4.0627, -4.0642, -4.2342, -4.2957, -4.4014, -4.5546, -4.5636, -4.5648, -4.694, -4.7052, -4.7293, -4.795, -4.8405, -5.0253, -5.0675, -5.0706, -5.0855, -5.1259, -5.1864, -5.187, -5.203, -5.2422, -5.3367, -5.3756, -5.4021, -4.6019, -4.5977, -4.4092, -4.2464, -4.8481, -4.8526, -4.3539, -4.9579, -4.9624, -4.6356, -4.6249, -4.8359, -4.881, -4.9016, -4.8181, -4.2935, -4.567, -4.7574, -4.775, -4.8005, -4.9071, -5.0276, -5.0584, -5.0623, -5.1238, -5.1297, -5.1471, -5.1529, -5.1586, -5.1631, -5.1957, -5.2139, -5.2939, -5.3004, -5.3188, -5.3428, -5.3449, -5.3544, -5.3674, -5.3927, -5.4457, -5.4931, -5.4975, -5.5092, -5.5177, -4.1158, -4.4306, -4.2407, -3.4074, -4.8033, -4.4339, -4.7939, -4.5144, -4.8598, -5.0591, -4.6242, -5.1229, -4.6174, -4.9948, -4.7647, -4.6331, -5.0592, -5.0886, -3.4064, -3.6099, -4.2478, -4.314, -4.4021, -4.4211, -4.4702, -4.4802, -4.5188, -4.524, -4.5576, -4.5739, -4.5981, -4.6141, -4.7304, -4.7417, -4.784, -4.8553, -4.9197, -5.0175, -5.0648, -5.0848, -5.2491, -5.3198, -5.3381, -5.5297, -5.5493, -5.5719, -5.5727, -5.6238, -3.6177, -2.7123, -3.6007, -4.4468, -4.9899, -4.9857, -4.2018, -4.5966, -4.7969, -4.7367, -4.9572, -2.7197, -3.1803, -3.3579, -3.4936, -4.6726, -4.7458, -4.7816, -4.9979, -5.024, -5.0267, -5.0437, -5.047, -5.0489, -5.1291, -5.1778, -5.1855, -5.1992, -5.3427, -5.3946, -5.4128, -5.5204, -5.5229, -5.5297, -5.5804, -5.5897, -5.6722, -5.6808, -5.71, -5.7221, -5.738, -3.7489, -3.6348, -3.9548, -4.6516, -5.1112, -4.4185, -3.9387, -4.9393, -4.7558, -5.2292, -5.2006, -5.0554, -5.1709, -5.0085, -2.1778, -2.8077, -2.8359, -3.5603, -3.6762, -4.1927, -4.3537, -4.655, -4.767, -4.9408, -5.208, -5.2995, -5.3177, -5.3236, -5.3527, -5.3656, -5.4096, -5.4173, -5.5104, -5.5254, -5.545, -5.5534, -5.5598, -5.6272, -5.6537, -5.7018, -5.7527, -5.791, -5.8088, -5.817, -4.2295, -4.1808, -3.8443, -4.5999, -4.4985, -3.9479, -5.2725, -5.1127, -5.3006, -4.4068, -5.1955, -5.2225, -4.837, -4.8313, -4.5949, -4.8581, -4.7355, -5.0119, -4.8429, -5.1904, -5.1279, -5.1335, -5.1556, -3.32, -3.9659, -4.1399, -4.2744, -4.2922, -4.3652, -4.4814, -4.4834, -4.5333, -4.6198, -4.6719, -4.7135, -4.2342, -4.7798, -4.8408, -4.9849, -5.0018, -5.061, -5.1221, -5.1908, -5.2853, -5.3079, -5.3196, -5.3748, -5.3925, -5.3969, -5.3993, -5.4587, -5.4714, -5.5284, -4.4771, -3.8124, -4.3964, -4.3965, -4.4572, -4.8816, -3.8463, -4.692, -3.703, -4.9616, -4.6692, -4.6572, -4.8331, -4.9551, -4.2642, -4.3132, -4.483, -4.6091, -4.7604, -4.7614, -4.7735, -4.7875, -4.7988, -4.8431, -4.8655, -4.8668, -4.8727, -4.9257, -5.0421, -5.1014, -5.1159, -5.1476, -5.1984, -5.2289, -5.2526, -5.3819, -5.392, -5.3983, -5.4025, -5.4253, -5.4289, -5.4296, -5.4558, -5.4858, -3.9063, -3.6743, -4.3085, -4.6998, -4.9507, -5.037, -4.8107, -5.0101, -4.8623, -3.8451, -4.9403, -4.9459, -5.0892, -5.0652, -3.182, -3.3516, -3.5173, -4.0418, -4.137, -4.1437, -4.1558, -4.1859, -4.291, -4.419, -4.4464, -4.52, -4.5833, -4.5891, -4.8066, -4.8211, -4.8375, -4.8501, -4.9223, -4.9544, -4.9798, -5.0671, -5.1133, -5.1249, -5.1418, -5.1796, -5.1945, -5.2347, -5.2633, -5.2669, -3.8477, -4.2724, -4.2535, -4.0256, -4.3331, -4.6513, -4.9546, -5.0384, -2.7455, -3.4, -3.4236, -3.6547, -3.9244, -4.2936, -4.3012, -4.349, -4.5417, -4.5739, -4.5831, -4.5873, -4.6072, -4.6699, -4.6981, -4.7083, -4.7313, -4.737, -4.7433, -4.8044, -4.8764, -4.8971, -4.9596, -5.0288, -5.0508, -5.0675, -5.0683, -5.1563, -5.1734, -5.181, -4.4985, -3.9748, -4.9173, -4.3467, -4.63, -4.8219, -4.7546, -4.4449], \"loglift\": [30.0, 29.0, 28.0, 27.0, 26.0, 25.0, 24.0, 23.0, 22.0, 21.0, 20.0, 19.0, 18.0, 17.0, 16.0, 15.0, 14.0, 13.0, 12.0, 11.0, 10.0, 9.0, 8.0, 7.0, 6.0, 5.0, 4.0, 3.0, 2.0, 1.0, 2.3319, 2.3315, 2.3314, 2.331, 2.331, 2.3309, 2.3308, 2.3304, 2.3304, 2.3301, 2.3301, 2.3299, 2.3299, 2.3296, 2.3296, 2.3295, 2.3294, 2.3293, 2.3289, 2.3286, 2.3284, 2.3284, 2.3284, 2.3282, 2.328, 2.328, 2.3279, 2.3279, 2.3279, 2.3279, 2.1521, 2.166, 2.2035, 2.2021, 1.8596, 1.7178, 1.9427, 1.6151, 1.7883, 2.0159, 1.9057, 2.0202, 1.9483, 0.2847, 1.8444, 2.1135, 2.0876, 0.3025, 1.6539, 1.2034, 1.0606, 0.9776, 2.3364, 2.3364, 2.3363, 2.3353, 2.3353, 2.3352, 2.3352, 2.3344, 2.3343, 2.3342, 2.3337, 2.3336, 2.3334, 2.3333, 2.3332, 2.3331, 2.333, 2.3327, 2.3326, 2.3326, 2.3325, 2.3323, 2.3319, 2.3318, 2.3314, 2.3313, 2.3312, 2.331, 2.3308, 2.3305, 2.1816, 2.2876, 2.1473, 2.253, 2.162, 2.0131, 2.0711, 1.9675, 1.4348, 1.9934, 1.8936, 2.0237, 1.2218, 0.9953, 1.926, 1.4873, 1.5786, 1.0935, 0.2249, 1.4858, 0.2352, 1.2148, 0.2909, 2.4855, 2.4855, 2.4853, 2.485, 2.4849, 2.4848, 2.4846, 2.4844, 2.4843, 2.4841, 2.4839, 2.4837, 2.4836, 2.4833, 2.4833, 2.4831, 2.4831, 2.4831, 2.4831, 2.4829, 2.4827, 2.4826, 2.4825, 2.4824, 2.4817, 2.4817, 2.4817, 2.4815, 2.4814, 2.4814, 2.3925, 2.3459, 2.3363, 2.324, 2.3926, 2.2127, 2.0961, 1.9396, 2.2041, 2.0655, 1.9815, 1.9881, 1.2657, 1.72, 1.4346, 1.7354, 0.3207, 0.5491, 1.0326, 1.818, 1.0675, 1.6002, 2.6224, 2.6224, 2.6222, 2.6222, 2.6218, 2.6218, 2.6215, 2.6213, 2.6206, 2.6202, 2.6201, 2.6199, 2.6199, 2.6199, 2.6198, 2.6191, 2.619, 2.6187, 2.6187, 2.6185, 2.6184, 2.6182, 2.6182, 2.6182, 2.6181, 2.6178, 2.6174, 2.6174, 2.6169, 2.6167, 2.3776, 2.3777, 2.3355, 2.1966, 2.4213, 2.2536, 1.7782, 1.339, 1.7293, 0.301, 1.1853, 1.4716, 1.5389, 1.1206, 1.2927, 0.2708, 1.7486, 2.6519, 2.6516, 2.6513, 2.651, 2.651, 2.651, 2.6509, 2.6505, 2.6504, 2.6503, 2.6503, 2.6503, 2.6498, 2.6498, 2.6496, 2.6495, 2.6495, 2.6494, 2.6493, 2.6489, 2.6487, 2.6486, 2.6484, 2.6481, 2.648, 2.648, 2.6478, 2.6476, 2.6471, 2.647, 2.2299, 2.4059, 2.4861, 1.8553, 2.3961, 0.8864, 1.2085, 0.9352, 0.4231, 1.9429, 2.6748, 2.6744, 2.6743, 2.6741, 2.6735, 2.6735, 2.6732, 2.6727, 2.6726, 2.6725, 2.6722, 2.6721, 2.672, 2.672, 2.6719, 2.6718, 2.6718, 2.6718, 2.6715, 2.6712, 2.6711, 2.6709, 2.6704, 2.6701, 2.6698, 2.6696, 2.6694, 2.6694, 2.6692, 2.669, 2.4923, 2.4251, 2.2919, 2.5397, 2.4316, 2.4683, 1.4214, 1.5208, 2.253, 1.9342, 0.9433, 0.4973, 1.217, 0.2915, 0.3267, 1.5939, 2.7001, 2.7, 2.6998, 2.6998, 2.6996, 2.6996, 2.6996, 2.6994, 2.6993, 2.6991, 2.6988, 2.6988, 2.6988, 2.6985, 2.6985, 2.6984, 2.6982, 2.6981, 2.6976, 2.6974, 2.6974, 2.6974, 2.6972, 2.697, 2.697, 2.6969, 2.6968, 2.6964, 2.6962, 2.6961, 2.543, 2.4724, 2.4118, 2.3477, 2.4839, 2.4573, 2.0485, 2.4923, 2.4641, 1.5695, 1.4327, 1.9926, 2.0407, 2.1413, 0.9101, 2.7292, 2.7287, 2.7282, 2.7282, 2.7281, 2.7278, 2.7274, 2.7273, 2.7273, 2.727, 2.727, 2.727, 2.7269, 2.7269, 2.7269, 2.7268, 2.7267, 2.7263, 2.7263, 2.7262, 2.7261, 2.7261, 2.7261, 2.726, 2.7259, 2.7256, 2.7254, 2.7253, 2.7253, 2.7252, 2.4182, 2.4219, 2.3673, 1.8528, 2.4394, 2.2038, 2.2304, 1.7594, 2.0719, 2.3305, 1.549, 2.363, 1.0578, 1.947, 0.3597, -0.6257, 1.1537, 1.4962, 2.7429, 2.7428, 2.742, 2.7419, 2.7418, 2.7417, 2.7416, 2.7416, 2.7415, 2.7415, 2.7415, 2.7414, 2.7414, 2.7413, 2.741, 2.741, 2.7409, 2.7407, 2.7405, 2.7402, 2.74, 2.7399, 2.7393, 2.739, 2.7389, 2.7379, 2.7378, 2.7376, 2.7376, 2.7373, 2.6794, 2.4508, 1.9849, 2.3132, 2.4552, 2.4001, 1.4597, 1.8275, 0.3275, -0.7293, 1.3373, 2.7559, 2.7557, 2.7556, 2.7555, 2.7538, 2.7536, 2.7535, 2.7528, 2.7527, 2.7527, 2.7527, 2.7527, 2.7527, 2.7524, 2.7522, 2.7521, 2.7521, 2.7514, 2.7512, 2.7511, 2.7505, 2.7505, 2.7504, 2.7501, 2.7501, 2.7495, 2.7495, 2.7493, 2.7492, 2.7491, 2.5962, 2.4571, 2.4584, 2.5115, 2.5958, 2.3661, 1.1858, 1.609, 1.2462, 2.1556, 2.0923, 1.67, 1.8658, 0.6666, 2.7607, 2.7605, 2.7605, 2.76, 2.7599, 2.7593, 2.7591, 2.7584, 2.7581, 2.7576, 2.7566, 2.7562, 2.7561, 2.7561, 2.7559, 2.7559, 2.7557, 2.7556, 2.7551, 2.755, 2.7549, 2.7548, 2.7548, 2.7544, 2.7542, 2.7539, 2.7535, 2.7532, 2.7531, 2.753, 2.6804, 2.5882, 2.4961, 2.5685, 2.5499, 2.4524, 2.6391, 2.4244, 2.4419, 0.8534, 2.168, 2.1568, 1.2502, 1.1932, 0.4609, 1.0376, 0.6049, 1.4013, 0.6859, 1.8958, 0.55, 0.5941, 0.6184, 2.8312, 2.8306, 2.8303, 2.8301, 2.8301, 2.8299, 2.8297, 2.8297, 2.8296, 2.8294, 2.8292, 2.8291, 2.8291, 2.8289, 2.8288, 2.8283, 2.8282, 2.828, 2.8278, 2.8275, 2.827, 2.8269, 2.8269, 2.8266, 2.8265, 2.8264, 2.8264, 2.8261, 2.826, 2.8257, 2.6907, 2.587, 2.6481, 2.5604, 2.4999, 2.5427, 1.9363, 2.3196, 1.4601, 2.4853, 1.8251, 0.6832, 1.0748, 1.5648, 2.918, 2.9179, 2.9175, 2.9172, 2.9168, 2.9168, 2.9167, 2.9167, 2.9166, 2.9165, 2.9164, 2.9164, 2.9164, 2.9162, 2.9157, 2.9155, 2.9154, 2.9152, 2.915, 2.9149, 2.9147, 2.914, 2.914, 2.9139, 2.9139, 2.9138, 2.9137, 2.9137, 2.9136, 2.9134, 2.6858, 2.4863, 2.5567, 2.5944, 2.5897, 2.6322, 2.4216, 2.564, 2.4178, 1.2794, 1.9043, 1.8973, 2.4069, 1.8119, 3.2627, 3.2625, 3.2623, 3.2615, 3.2612, 3.2612, 3.2612, 3.2611, 3.2608, 3.2605, 3.2604, 3.2601, 3.2599, 3.2599, 3.259, 3.2589, 3.2588, 3.2588, 3.2584, 3.2582, 3.2581, 3.2576, 3.2573, 3.2572, 3.2571, 3.2569, 3.2568, 3.2565, 3.2563, 3.2563, 3.1276, 3.1341, 3.1002, 3.0558, 2.8099, 2.8243, 3.0444, 2.8716, 3.3044, 3.3039, 3.3038, 3.3035, 3.3031, 3.3022, 3.3022, 3.302, 3.3014, 3.3013, 3.3012, 3.3012, 3.3011, 3.3009, 3.3008, 3.3007, 3.3006, 3.3006, 3.3006, 3.3003, 3.2999, 3.2998, 3.2995, 3.2991, 3.2989, 3.2988, 3.2988, 3.2983, 3.2982, 3.2981, 3.0894, 2.9023, 3.1, 2.575, 2.7125, 2.9502, 2.7699, 1.1408]}, \"token.table\": {\"Topic\": [3, 11, 15, 1, 2, 8, 9, 10, 12, 5, 13, 10, 8, 1, 14, 2, 12, 7, 14, 1, 5, 7, 14, 1, 13, 6, 12, 3, 1, 2, 9, 13, 8, 8, 2, 1, 1, 11, 3, 7, 14, 5, 7, 3, 10, 12, 1, 15, 13, 15, 11, 2, 9, 3, 12, 1, 6, 10, 9, 1, 2, 3, 4, 5, 6, 8, 9, 13, 2, 13, 8, 9, 3, 6, 12, 6, 1, 6, 13, 3, 10, 5, 4, 2, 9, 10, 4, 6, 2, 7, 2, 1, 8, 1, 1, 2, 8, 9, 10, 13, 1, 9, 15, 3, 9, 14, 1, 2, 12, 6, 7, 12, 1, 3, 6, 11, 3, 7, 5, 15, 3, 4, 6, 13, 14, 1, 5, 12, 2, 3, 13, 1, 11, 3, 7, 10, 11, 12, 15, 9, 15, 7, 2, 3, 15, 15, 1, 2, 3, 4, 6, 8, 9, 10, 11, 12, 14, 2, 1, 2, 9, 1, 3, 11, 1, 8, 13, 15, 13, 14, 12, 6, 9, 10, 1, 2, 7, 12, 15, 2, 13, 6, 10, 9, 14, 8, 2, 2, 9, 2, 5, 7, 9, 12, 2, 4, 4, 12, 5, 1, 8, 5, 13, 8, 15, 8, 15, 12, 14, 5, 8, 12, 9, 14, 4, 13, 3, 7, 9, 2, 5, 2, 1, 5, 14, 5, 6, 10, 4, 3, 3, 5, 9, 12, 10, 8, 13, 10, 11, 14, 8, 7, 2, 7, 8, 5, 8, 10, 13, 3, 5, 7, 9, 4, 1, 2, 9, 11, 12, 2, 7, 12, 1, 9, 6, 1, 3, 7, 3, 11, 9, 7, 4, 8, 14, 10, 2, 11, 1, 2, 3, 5, 6, 10, 11, 13, 15, 5, 4, 14, 1, 2, 13, 6, 7, 3, 1, 10, 13, 4, 9, 13, 4, 5, 7, 15, 8, 3, 13, 14, 7, 11, 10, 6, 3, 2, 3, 4, 5, 6, 1, 2, 10, 4, 9, 1, 2, 6, 8, 9, 10, 11, 12, 13, 6, 10, 15, 2, 4, 6, 8, 9, 10, 11, 13, 14, 10, 1, 2, 9, 4, 15, 1, 1, 1, 6, 11, 14, 14, 1, 8, 12, 13, 3, 11, 14, 5, 9, 12, 8, 14, 6, 11, 3, 6, 9, 5, 7, 15, 1, 2, 12, 2, 4, 11, 6, 6, 3, 1, 5, 10, 11, 7, 11, 3, 1, 10, 2, 3, 9, 12, 13, 14, 3, 5, 6, 7, 8, 10, 12, 13, 14, 1, 5, 1, 6, 11, 11, 11, 13, 12, 6, 7, 8, 11, 12, 13, 14, 1, 9, 13, 9, 11, 6, 4, 14, 13, 10, 12, 5, 15, 7, 12, 8, 3, 1, 10, 12, 1, 1, 5, 11, 5, 10, 1, 2, 3, 4, 6, 7, 8, 9, 10, 12, 13, 14, 15, 8, 7, 4, 13, 1, 2, 3, 4, 11, 4, 4, 2, 9, 13, 3, 14, 14, 14, 9, 6, 10, 12, 5, 15, 10, 1, 15, 8, 7, 8, 12, 10, 4, 7, 12, 13, 1, 2, 9, 13, 1, 11, 14, 2, 9, 10, 13, 10, 8, 6, 5, 3, 8, 4, 12, 6, 4, 1, 4, 9, 3, 5, 7, 6, 8, 9, 10, 6, 7, 11, 6, 9, 7, 15, 2, 13, 9, 12, 10, 2, 15, 14, 14, 1, 2, 4, 11, 1, 2, 9, 11, 13, 11, 6, 13, 2, 6, 15, 1, 8, 14, 5, 11, 1, 4, 5, 8, 9, 15, 2, 3, 4, 5, 7, 9, 10, 11, 2, 2, 4, 5, 4, 1, 3, 12, 13, 5, 7, 8, 1, 10, 3, 3, 4, 4, 10, 3, 4, 5, 6, 7, 9, 11, 1, 11, 15, 5, 14, 9, 10, 12, 10, 15, 14, 15, 2, 3, 5, 2, 5, 9, 12, 11, 1, 3, 4, 8, 9, 11, 14, 2, 7, 1, 4, 8, 4, 4, 1, 13, 1, 12, 13, 11, 12, 3, 8, 15, 15, 9, 3, 1, 11, 8, 10, 13, 5, 6, 4, 6, 1, 2, 3, 8, 9, 12, 4, 13, 7, 5, 9, 13, 9, 15, 2, 12, 7, 3, 10, 13, 13, 15, 10, 13, 1, 4, 7, 11, 2, 13, 14, 8, 9, 2, 5, 2, 10, 8, 11, 1, 2, 1, 1, 2, 12, 10, 12, 3, 8, 9, 9, 7, 12, 7, 12, 4, 6, 10, 14, 5, 12, 13, 14, 3, 7, 6, 10, 3, 8, 4, 5, 8, 9, 12, 13, 9, 8, 1, 2, 3, 7, 6, 8, 9, 4, 8, 9, 11, 12, 10, 1, 9, 10, 3, 5, 7, 10, 4, 8, 8, 2, 12, 8, 3, 5, 2, 5, 6, 8, 9, 10, 12, 13, 5, 11, 8, 2, 12, 4, 6, 8, 14, 8, 9, 6, 8, 3, 5, 4, 1, 2, 1, 2, 3, 8, 12, 7, 15, 6, 11, 2, 5, 11, 7, 14, 3, 3, 1, 7, 7, 14, 14, 11, 7, 5, 7, 15, 3, 8, 1, 4, 6, 8, 9, 10, 13, 7, 2, 6, 8, 13, 3, 2, 13, 11, 14, 1, 14, 8, 11, 2, 9, 12, 15, 13, 6, 7, 8, 5, 4, 6, 7, 3, 5, 5, 11, 3, 4, 5, 7, 1, 2, 15, 5, 2, 4, 14, 11, 11, 1, 2, 3, 4, 5, 8, 11, 12, 15, 2, 4, 5, 6, 8, 9, 11, 12, 13, 7, 7, 11, 6, 6, 6, 10, 6, 10, 11, 13, 6, 7, 15, 8, 1, 2, 3, 4, 5, 6, 8, 10, 11, 12, 1, 2, 3, 4, 6, 7, 9, 11, 12, 3, 4, 7, 9, 11, 2, 4, 7, 11, 12, 8, 14, 13, 2, 7, 1, 3, 6, 2, 14, 13, 10, 13, 4, 13, 10, 13, 15, 2, 3, 5, 7, 3, 12, 5, 9, 4, 5, 13, 1, 3, 11, 3, 13, 11, 9, 9, 5, 11, 15, 13, 15, 4, 7, 12, 7, 7, 3, 11, 1, 2, 3, 4, 5, 6, 8, 9, 11, 12, 11, 10, 13, 12, 15, 9, 7, 5, 1, 4, 8, 10, 13, 11, 6, 1, 2, 6, 10, 11, 1, 2, 4, 6, 10, 11, 13, 4, 6, 1, 2, 3, 5, 6, 8, 9, 10, 11, 5, 5, 11], \"Freq\": [0.2713716836902583, 0.727008090873902, 0.9975967086013793, 0.9977921208774122, 0.15784030477904665, 0.5167036392295207, 0.20102302967142735, 0.12359193676095162, 0.9966132395920316, 0.8468432226202887, 0.15007348248967142, 0.9967345242975342, 0.995060063778559, 0.11969491765672513, 0.8785606956003624, 0.9956559953051397, 0.9985771700133309, 0.362368200316505, 0.6346042086761129, 0.9942448395236941, 0.2018097070563784, 0.7952670659425082, 0.9949430264302334, 0.8462451285622765, 0.15158825781202517, 0.9932011803656043, 0.9983367023469362, 0.9963506505590531, 0.2950453684633818, 0.6417044175717939, 0.0608579219545879, 0.002311060327389414, 0.9965023554990232, 0.995802539141848, 0.9950396533675371, 0.9982625320069297, 0.9958577967768631, 0.9955912107114073, 0.994913868858315, 0.9991127402331736, 0.9924838444891716, 0.9986344352695887, 0.9953232326970882, 0.9982812059641202, 0.9951947801682866, 0.9981876895241194, 0.9974094497973341, 0.997401948142905, 0.9950671537501504, 0.9968868823935917, 0.9969099089901249, 0.730321054662511, 0.2682525412318069, 0.996130561594468, 0.9965114312876501, 0.9988134135059502, 0.99228457338907, 0.9969348467563458, 0.9982663338906629, 0.12898666488228544, 0.40551232338380006, 0.11467258365852283, 0.09811942827685322, 0.17104927227725267, 0.01575348603955997, 0.03486558331598044, 0.031027170473854154, 0.9979528294324903, 0.9941575239066072, 0.9948658998798772, 0.061575742622014595, 0.9378459260891453, 0.12509398595864288, 0.8724503636089964, 0.9980541219158281, 0.9987869529216297, 0.34141851306901155, 0.6551544439972924, 0.9984808730652496, 0.9945437759661172, 0.9993874624825044, 0.9982122617295672, 0.9925456904238233, 0.766104752472511, 0.2326028641227908, 0.9949345769323288, 0.6911050603200137, 0.30715780458667274, 0.9956643086178286, 0.994557984259888, 0.9968799079279307, 0.26714315806140054, 0.731391942108179, 0.9987664073574922, 0.13262987806775317, 0.22526026909919983, 0.2905225900531736, 0.15578747582561484, 0.07578850175300181, 0.11789322494911393, 0.2884278052586725, 0.7081723348627569, 0.9962303082187214, 0.9928713804057346, 0.9981863640830676, 0.9936427054094374, 0.9977568413132324, 0.21600220905240794, 0.7826800692384822, 0.9981403965251476, 0.24859065422820176, 0.7482091259613524, 0.32369046856238987, 0.47168586616915487, 0.11475578958813332, 0.0894303739548901, 0.6768154160485697, 0.3225673472231481, 0.9983886694121962, 0.9963235352453382, 0.6564676843919494, 0.15494268327263402, 0.18858155529892956, 0.1476065547140059, 0.8493054071236649, 0.13744245166772898, 0.0992639928711376, 0.762042037579964, 0.8557398541435587, 0.14408646949754758, 0.9966251109343998, 0.2837254529047825, 0.7147698909716635, 0.9975812984805854, 0.7846735957734781, 0.2151874957938347, 0.9965869583861765, 0.9934383471099649, 0.9961316178903573, 0.41214782748584133, 0.5845495331008338, 0.9966123306352612, 0.9962832296918468, 0.9971819237991297, 0.9988342127609116, 0.9948059268774202, 0.06611411381473643, 0.043778264553001156, 0.16081811468449403, 0.23765343614486342, 0.11435954822008465, 0.09157698197311466, 0.04065124565635821, 0.0942572838845229, 0.11435954822008465, 0.01876211337985764, 0.01742196242415352, 0.9930937858705134, 0.9962080790366625, 0.9522025992645343, 0.04740402550451145, 0.540617724196664, 0.34936145384407064, 0.10965359500215355, 0.2842514256686862, 0.6060763156498999, 0.10781950628812235, 0.9931764465977616, 0.9983192536655965, 0.9967390948963323, 0.9964681418187711, 0.9932044139436716, 0.9986725871050227, 0.9911389314533866, 0.32890661612322425, 0.0017541686193238626, 0.5209880799391872, 0.11665221318503687, 0.03157503514782953, 0.9943067617379414, 0.9979207090887585, 0.9976804647680304, 0.9964700065273516, 0.996555344433145, 0.9973930537576089, 0.9952241990433295, 0.9986260268915518, 0.9958168559215758, 0.9966068680096761, 0.1275235671664257, 0.4507226406734653, 0.10118263362057384, 0.2767888572595863, 0.04306533579718638, 0.998834551885686, 0.9975286336113699, 0.9945305089306119, 0.9995410975844041, 0.9985502640727183, 0.8792651661675452, 0.11876330443495278, 0.7741275667531738, 0.2231308868876795, 0.9944804054469528, 0.9946031529885324, 0.9946789954528639, 0.9944970857459358, 0.9969541676033882, 0.9967627030181228, 0.996701516663134, 0.9985884659631774, 0.9989989406596754, 0.9970530021611652, 0.9951762209435185, 0.2972686989627932, 0.699289225179142, 0.14374860027583872, 0.8532769477911966, 0.9990622293885324, 0.7090173867282553, 0.2896595421389824, 0.9968551860093661, 0.9979364747171487, 0.9972954607417367, 0.9972553846803097, 0.9982756875051708, 0.14549194209752192, 0.8503195727032947, 0.9987042089476817, 0.997734327675426, 0.6031475202675833, 0.15118057949265795, 0.2448810428240449, 0.9939361255989171, 0.9964269013307627, 0.9964920917400919, 0.9963697879293885, 0.7421104571531505, 0.2571230974604703, 0.9954975991774376, 0.9974448391121908, 0.9951191715070359, 0.1412461583464919, 0.18832821112865586, 0.6709192521458365, 0.2222512989508261, 0.1474551887269904, 0.5150246446841258, 0.11326268119609406, 0.9961320812573314, 0.21071214016573683, 0.1379662822513753, 0.6496957655110219, 0.9949303798426279, 0.40146350157347566, 0.14424879060865142, 0.029544933016229808, 0.4205808111722126, 0.0017379372362488123, 0.9940868458710754, 0.7888689519502425, 0.20759709261848489, 0.9985675509088577, 0.999070125122486, 0.9972266074887127, 0.9972397608709015, 0.995017919593185, 0.9978542594481401, 0.8685099200416327, 0.13085278264483616, 0.9985362039657314, 0.9983836344040539, 0.9945927266380514, 0.19484675714189437, 0.8010366682500102, 0.994477306658669, 0.9922382235022251, 0.9913679833919496, 0.1292345731284205, 0.11661166133448174, 0.1821305844554019, 0.022240368398844454, 0.23262223163115686, 0.04989055613794837, 0.20857859011889257, 0.05830583066724087, 0.9966916525518924, 0.9966778242013832, 0.996418313776318, 0.9953847452406503, 0.167876027069201, 0.46814209174582067, 0.36168412336047373, 0.9988087742916777, 0.9965479358690066, 0.9976653013810209, 0.2468531274703382, 0.1455800495337892, 0.6055286118289492, 0.9953503624022576, 0.9971099723728123, 0.9939749147280997, 0.9930632698451088, 0.9945258894757892, 0.2967842629058705, 0.7005488996499036, 0.9973179341756114, 0.9981102816580757, 0.1259981532436743, 0.8726538761691517, 0.9948631760901365, 0.9934477975904304, 0.992754158244538, 0.996413304835835, 0.9991665386760057, 0.17411254301255116, 0.5125437984931974, 0.1512602717421538, 0.16105410228660982, 0.9976709745365756, 0.8351768297828902, 0.16337574917505676, 0.995633485043236, 0.9993194312853506, 0.9972053039494428, 0.04340861793728193, 0.05820701041590076, 0.16672855525910557, 0.11740058033037612, 0.05722045091732617, 0.20125813770921622, 0.07300540289451961, 0.28116945709375796, 0.994632468876495, 0.9952026249740881, 0.9964112271136226, 0.9901351387519242, 0.037029780456204725, 0.11696708429817049, 0.315047021024218, 0.13401253879388378, 0.030564263233692792, 0.22100313415131712, 0.06289184934625247, 0.05818965500260743, 0.023510971718225224, 0.9992724812304355, 0.33432514485421577, 0.6621374622112715, 0.9970209950832111, 0.9961983818001916, 0.9939850954683, 0.9933120938183888, 0.9958137996279769, 0.9942836078885494, 0.7789203321232503, 0.22081143351069954, 0.9915759203259809, 0.9907404501140084, 0.7318127159792195, 0.1254536084535805, 0.017692175551145967, 0.12384522885802177, 0.2958754800278972, 0.5474861244610696, 0.15609178867613474, 0.9958493817899807, 0.9973654716280981, 0.9968298423081421, 0.9970791753425794, 0.9990089776443598, 0.9962111399521261, 0.9989049338947592, 0.7602317491038154, 0.23820594805252882, 0.9938814591215488, 0.12130988675084399, 0.7491885313623552, 0.1293083408223282, 0.36922694834451236, 0.2644203406113044, 0.36538083429925705, 0.7230115260619226, 0.14088092235765404, 0.13556466113661048, 0.9944243591351606, 0.9969009879627873, 0.9955683251156269, 0.6230367995225863, 0.09934768304516219, 0.09829079280000089, 0.17861445143225968, 0.23163763366443912, 0.7674542239914335, 0.9981973787260586, 0.9979533683750385, 0.9982638267572338, 0.42621779400288745, 0.20580230624710852, 0.10351003568641552, 0.03896848402312114, 0.062106021411849316, 0.16318052684681977, 0.0994931217889813, 0.11183335394885495, 0.06864254138929718, 0.05784483824940773, 0.37869087440612265, 0.11723220551879968, 0.13805634728858646, 0.0038563225499605156, 0.02313793529976309, 0.9955352581382061, 0.9950562912519106, 0.6813190373655391, 0.18620795724609013, 0.13279947338480846, 0.995016369392326, 0.9980100058242936, 0.9985470449211715, 0.9987258171053423, 0.08999414446511753, 0.49295300027907657, 0.18401787748837464, 0.0026863923720930605, 0.08327816353488487, 0.06581661311627998, 0.07924857497674528, 0.2803133322623748, 0.0709392462482177, 0.6480954438793481, 0.9965846715638089, 0.9938445325850341, 0.9952707820338402, 0.9956423526625983, 0.9971209119686915, 0.9907538105747526, 0.28106887824373383, 0.717947678122581, 0.9957783238888664, 0.9994905150485222, 0.1666891366278142, 0.8317787917727929, 0.9953795394776886, 0.9988381880527346, 0.9943566856566779, 0.9970588989194383, 0.9968700346569636, 0.9945723572917637, 0.9950670568933287, 0.9987040728573364, 0.9906148838035101, 0.9967869821350942, 0.994028261270023, 0.04823911417387682, 0.1103776341266673, 0.15779913619590216, 0.33849141132177973, 0.0040880605232099, 0.05641523522029662, 0.06704419258064237, 0.008993733151061781, 0.06622658047600039, 0.06867941678992633, 0.022075526825333463, 0.023710751034617422, 0.02698119945318534, 0.9981929623872785, 0.9976366646090332, 0.30377011704117146, 0.6953270110254337, 0.16704240242262208, 0.04351524768992676, 0.2419073446848617, 0.4295376062295997, 0.11744437817388836, 0.9963990416821199, 0.9945359839087166, 0.839348100476111, 0.07548094428742004, 0.08302903871616205, 0.35403079557039696, 0.6439255774505046, 0.9971404389270236, 0.9953180970791788, 0.9950663452299463, 0.24355656458061278, 0.15645686598887046, 0.5984071884728963, 0.9993788321240366, 0.9964658660590885, 0.9997113360330806, 0.9967784542976187, 0.9926009559602393, 0.9968318848361746, 0.8128181873567062, 0.18507244881352694, 0.9975648335255818, 0.997027626731257, 0.20080632468674248, 0.7022909027404063, 0.09562205937463927, 0.9972010136920944, 0.7285538074001631, 0.15068170430237915, 0.11961331166271334, 0.996124471506143, 0.26431652025297725, 0.7343098029544632, 0.9992723881514683, 0.24882634403513176, 0.7489672955457466, 0.9976491413890481, 0.9953550935892675, 0.9923453494804535, 0.9957659795735886, 0.9992679744936397, 0.9958376643033658, 0.7540525482778271, 0.24480263090382362, 0.7824762243693466, 0.215957521281521, 0.99684663196712, 0.9993957860240129, 0.6772605956586317, 0.22313718300673463, 0.09867372916880728, 0.34483402694689363, 0.4926200384955623, 0.16208788363402374, 0.18037347001444187, 0.14523578105058954, 0.12181065507468801, 0.5481479478360961, 0.8326273564533553, 0.16670424259640446, 0.995273028032883, 0.9987368125664703, 0.9968586379450539, 0.9945136167754178, 0.9978064450274569, 0.9945411167388212, 0.9970936539044516, 0.7462103744821598, 0.2537318461904961, 0.9951977367866705, 0.9991447760579739, 0.9983870540381237, 0.9994378254404648, 0.9966456256540085, 0.06925332650531069, 0.6911199318591209, 0.1399199862046073, 0.09963999017600822, 0.37614608821627576, 0.42716905917305764, 0.054582713116557366, 0.09136671543423733, 0.04864980951693156, 0.9947330882941064, 0.9968337112896728, 0.9951380050127567, 0.9982841396603622, 0.9969630867739119, 0.9926306332278646, 0.30379492497330507, 0.694850094353836, 0.9949871199208251, 0.18911536825388817, 0.8100162675653263, 0.5805943601699812, 0.09942678417910929, 0.11321590023314634, 0.20683674081055584, 0.9987431460932721, 0.9970879815756428, 0.014910585553276921, 0.0869784157274487, 0.26466289357066536, 0.1820333986295891, 0.2814373023181019, 0.011182939164957691, 0.0869784157274487, 0.072689104572225, 0.9978530441802486, 0.9916058861714093, 0.9930999655970717, 0.9989226796305609, 0.9970576448083139, 0.6520546265073426, 0.0684601242976728, 0.1436540313131495, 0.13467565435607765, 0.23639720728440242, 0.17202613675625528, 0.5904380951892116, 0.25784864020633635, 0.7413952173513861, 0.9962816145827711, 0.9982080986276858, 0.9996291483430054, 0.9965326948882322, 0.9929355135182525, 0.19103887087921004, 0.3162022690414511, 0.14346214058362133, 0.12882314664651712, 0.07465886907923151, 0.07539081877608672, 0.06953522120124503, 0.9959874492589166, 0.9958598629594744, 0.9985805362805561, 0.9977774124094129, 0.9969507456453459, 0.9963412002446763, 0.001698501853278066, 0.9970205878742248, 0.994619553962941, 0.996114392011987, 0.9945998378003299, 0.9965477568340775, 0.2611217967983027, 0.08274986518256071, 0.6555628208351755, 0.32537012310714925, 0.10218235271133612, 0.39976604657242026, 0.17120025761285262, 0.9922083471576324, 0.15896866426762007, 0.4647758537623591, 0.09895639743566711, 0.09065682861848214, 0.09193368535958751, 0.01723756600492266, 0.07788826120742831, 0.9183250262706562, 0.07909019365010436, 0.9985328494829997, 0.7499817985708818, 0.24802547669273256, 0.990975501195475, 0.9960436757766075, 0.39798140627448575, 0.5995904081372186, 0.29164484879670893, 0.7079242483612421, 0.9971976876943791, 0.8245622469263696, 0.17359205198449887, 0.9102782176688962, 0.06610069297158214, 0.023095422845492555, 0.9956620005266034, 0.997134898064382, 0.9961767292742812, 0.8035814276412677, 0.19389364205821474, 0.9981675462797037, 0.9995287106027181, 0.9968088602620571, 0.21335505861536527, 0.7843935978506076, 0.9984971846909994, 0.9979994532171111, 0.23366329924038828, 0.2880684853321802, 0.11299538649833703, 0.3069010497485697, 0.058590200406545126, 0.9919718197622688, 0.9985702026661885, 0.9977276817088852, 0.9981639423057711, 0.9996545377407625, 0.24595703747966302, 0.7503246333240352, 0.9983343592019729, 0.9937331520969573, 0.9939698007612645, 0.9968426247297967, 0.9976773275550936, 0.189075974308467, 0.20315610005484222, 0.6074568536293302, 0.1807983941048762, 0.8157976319366365, 0.782660378013085, 0.21584159105876444, 0.18108053750913372, 0.8184840295412844, 0.9972909182025791, 0.9944626214915906, 0.20782386863184463, 0.7910030918334494, 0.9971891577519312, 0.9968745544312397, 0.9933221974803876, 0.994356803973683, 0.9934581197366401, 0.9967614985152399, 0.9950966322739245, 0.9921540568217425, 0.9886187931698912, 0.9987859305551373, 0.9949495126662047, 0.9988345995944201, 0.9978029376732124, 0.8270394535458777, 0.1727902609930909, 0.9976611109554938, 0.9940678671986859, 0.9947479959434243, 0.734682266895632, 0.26415542180517104, 0.9979164658293611, 0.9978600990793435, 0.997562122050455, 0.9969822963752549, 0.9969911365858287, 0.999478186873328, 0.9992998044191167, 0.32081900390439894, 0.6772845637981756, 0.12822854977136186, 0.8674284249239186, 0.0018857139672259098, 0.9946279388443308, 0.9964174776014463, 0.9982382182156825, 0.8138591567352538, 0.18547130442606122, 0.9988586354149009, 0.9954224719149207, 0.22275392225663804, 0.17980772114359977, 0.09297144636558834, 0.0014158088279023603, 0.40822487871184726, 0.09485919146945815, 0.9980246236884353, 0.9946171206994319, 0.2420669282536019, 0.23733905856114873, 0.41227023718191574, 0.1077954289879321, 0.9964922369945565, 0.9975531169372231, 0.9972814272501438, 0.2782996546235551, 0.4573140270570851, 0.1293717313385175, 0.13388469871079137, 0.9945987124058098, 0.9929698328980354, 0.02898933752732386, 0.11844215046878033, 0.8522865233033214, 0.09652353252302438, 0.33117556848416985, 0.570820200955127, 0.994800057363479, 0.9938024876972663, 0.9917440141610507, 0.9936856069400803, 0.9982686928052947, 0.9988635517719349, 0.9972059018499129, 0.8601374911464948, 0.13873185341072497, 0.1221857502382946, 0.23606286946038518, 0.054006101605326214, 0.09334991318205708, 0.08919559767395506, 0.20796014690557743, 0.00317682950619566, 0.19378659987793526, 0.9976569108112205, 0.9998507063389394, 0.9927181175082407, 0.9972024623982583, 0.9959584062051462, 0.3961839550267209, 0.47659029276277126, 0.12572627355091512, 0.9920137188270111, 0.9973029703050363, 0.9947800596641299, 0.9982219919290092, 0.9973127072872506, 0.9093127395991922, 0.08634423640111023, 0.9979316387095678, 0.7835679734639143, 0.21526592677580064, 0.5074206687107734, 0.09894703039860081, 0.2892297811651408, 0.10402123708570854, 0.9926406074682199, 0.5174754663877278, 0.48209252851506257, 0.15692350572526675, 0.8415655750588902, 0.9940484230010631, 0.9995833087258104, 0.9933475829147286, 0.9949904294888362, 0.9909700695376759, 0.9972526301288371, 0.9978250304586672, 0.9963537560894555, 0.998587680369207, 0.996996963151329, 0.9975732094610466, 0.9955817192137958, 0.9924758063932786, 0.9960260955173403, 0.29640849173858547, 0.14820424586929273, 0.5523976436946366, 0.3058625405822882, 0.6920787994531437, 0.16628932801618854, 0.010904218230569739, 0.13085061876683687, 0.01635632734585461, 0.14584391883387027, 0.17037840985265218, 0.3598392016088014, 0.9982575447365026, 0.1300707851898247, 0.11990900509686966, 0.7479070148414921, 0.9915287697541677, 0.9957069551260128, 0.9984529523700331, 0.9951925806808213, 0.9222849463179291, 0.07576432418409529, 0.878623686553142, 0.11981232089361028, 0.11108698944351636, 0.8847285230680052, 0.3278904122059794, 0.46819340182603214, 0.08875520614086205, 0.11472288654015357, 0.9958260249043207, 0.1933276817230121, 0.804420928548625, 0.997795052459784, 0.9961309358122106, 0.78220141153799, 0.21718007588978053, 0.9981369989748308, 0.8498877468290615, 0.149331691365012, 0.9945017457316524, 0.999779292470634, 0.11718994413091788, 0.4176450136580584, 0.27053423272775723, 0.195732140729299, 0.9992080119069844, 0.9944612964794873, 0.993994032635089, 0.9971058027473633, 0.9957057785666419, 0.9990206374756915, 0.9948466188597141, 0.9943641452865402, 0.9984490476806865, 0.16380854920145987, 0.061096161594058, 0.03364716145759716, 0.4090786471949971, 0.01682358072879858, 0.06286706482866838, 0.20188296874558298, 0.051356193803700934, 0.9960695753599736, 0.14675103385726962, 0.08532036852166838, 0.07508192429906817, 0.33900626425942904, 0.00227520982724449, 0.06598108499009021, 0.10238444222600206, 0.0580178505947345, 0.12399893558482471, 0.9978748021148756, 0.9987643565349476, 0.9997351844335179, 0.9981018231348615, 0.9965324026268143, 0.3213768348713051, 0.6774623679087111, 0.6810605002514382, 0.3176929010114756, 0.9968896350808827, 0.9958253832935078, 0.9966463631062352, 0.19229628167557808, 0.8064963455348872, 0.9968885568402327, 0.03602758383573767, 0.030093628851027936, 0.08307536978593628, 0.07883683051114361, 0.028822067068590137, 0.2852536931935465, 0.18776728987331515, 0.12376534682394588, 0.09451942582787648, 0.05171017915247054, 0.13141909792805348, 0.1209238227462992, 0.29500849586974504, 0.09514195110416372, 0.11316644543804605, 0.0793990383315323, 0.03718977944839014, 0.10016143053891575, 0.02737897873501114, 0.6074650719493521, 0.17566437460247822, 0.07360239159321713, 0.0402359740709587, 0.10206198300926109, 0.07529991349649458, 0.653144901850029, 0.15960307751974395, 0.11131291560351372, 0.9968607122549903, 0.9957500655773052, 0.9967749170111398, 0.9949286353413179, 0.9960365457355088, 0.9983420844293331, 0.9964415745511473, 0.9975732501304931, 0.9951618421226246, 0.18678918200965383, 0.8128788476346047, 0.9931291888788147, 0.992190468297946, 0.9986464891782746, 0.9942736644757598, 0.9962924022448894, 0.994859353640696, 0.32995511251889664, 0.6683706125382778, 0.07909656675859934, 0.5786538304971215, 0.14986717912155664, 0.19209166212802697, 0.9970653354672192, 0.9982012706235878, 0.9975363932605389, 0.9930375399712789, 0.21662693165403926, 0.7824435441832462, 0.9957959745422724, 0.9977848992164068, 0.4449164362652254, 0.5527054697933986, 0.997715703698319, 0.996830227078835, 0.9970199607191313, 0.9990152979738508, 0.9976894434266098, 0.9979528702350208, 0.9995497597275608, 0.9990901185812013, 0.7198536218509499, 0.27918277349352427, 0.9988016595838367, 0.9991826311353864, 0.997444347067587, 0.9974307804803565, 0.9992080313197728, 0.9939753333786586, 0.9912474307007636, 0.030936117506206267, 0.07764358903518435, 0.23353735764489045, 0.27690858120751294, 0.018501011449790022, 0.095538009945637, 0.0015164763483434445, 0.0327558891242184, 0.11585879301343915, 0.11676867882244522, 0.9974093304404207, 0.27602508297078243, 0.7210887826446022, 0.9942488908408706, 0.998024894599961, 0.9922510138704369, 0.9957233669659074, 0.9978304328118727, 0.3622474302891195, 0.0281196635384248, 0.034736054959230635, 0.4102162680899618, 0.16210158980974296, 0.9943491816243273, 0.9962646929426353, 0.4881016057220943, 0.1292572144185291, 0.17685902142818571, 0.08019073642395998, 0.12559553695624784, 0.6139678943841428, 0.3847717347158542, 0.18172949556833437, 0.20717162494790117, 0.33801686175710194, 0.16355654601150094, 0.10903769734100062, 0.9965960751121601, 0.9951025723904036, 0.06634062960102442, 0.07445825938342826, 0.022953298005417733, 0.10776853331811985, 0.09209311029002969, 0.415678628512748, 0.031910682592897824, 0.04030823064366041, 0.148356682230139, 0.9993227114596338, 0.9960603458482106, 0.9976148190476136], \"Term\": [\"abl\", \"abl\", \"absolut\", \"academi\", \"accord\", \"accord\", \"accord\", \"accord\", \"account\", \"accus\", \"accus\", \"actual\", \"add\", \"address\", \"address\", \"adnan\", \"adult\", \"advisori\", \"advisori\", \"advoc\", \"afternoon\", \"afternoon\", \"agre\", \"american\", \"american\", \"andrew\", \"ann\", \"annapoli\", \"announc\", \"announc\", \"announc\", \"announc\", \"answer\", \"apart\", \"appeal\", \"appli\", \"applic\", \"appreci\", \"april\", \"area\", \"arm\", \"arrest\", \"arriv\", \"art\", \"articl\", \"arundel\", \"assist\", \"athlet\", \"attack\", \"attempt\", \"attend\", \"attorney\", \"attorney\", \"august\", \"averag\", \"award\", \"awesom\", \"babi\", \"ballot\", \"baltimor\", \"baltimor\", \"baltimor\", \"baltimor\", \"baltimor\", \"baltimor\", \"baltimor\", \"baltimor\", \"bank\", \"bat\", \"battl\", \"beat\", \"beat\", \"beauti\", \"beauti\", \"believ\", \"best\", \"better\", \"better\", \"biden\", \"birthday\", \"black\", \"block\", \"blue\", \"board\", \"board\", \"bodi\", \"book\", \"book\", \"brandon\", \"bridg\", \"budget\", \"build\", \"build\", \"busi\", \"call\", \"call\", \"call\", \"call\", \"call\", \"call\", \"campaign\", \"campaign\", \"campus\", \"cancel\", \"candid\", \"car\", \"care\", \"case\", \"case\", \"catch\", \"caus\", \"caus\", \"celebr\", \"celebr\", \"celebr\", \"celebr\", \"center\", \"center\", \"charg\", \"charl\", \"check\", \"check\", \"check\", \"chief\", \"chief\", \"children\", \"children\", \"children\", \"citi\", \"citi\", \"claim\", \"class\", \"class\", \"clean\", \"clear\", \"clear\", \"climat\", \"clinic\", \"cloud\", \"coach\", \"coach\", \"cold\", \"collabor\", \"collect\", \"colleg\", \"columbia\", \"come\", \"come\", \"come\", \"come\", \"come\", \"come\", \"come\", \"come\", \"come\", \"come\", \"come\", \"commentari\", \"commit\", \"committe\", \"committe\", \"communiti\", \"communiti\", \"communiti\", \"compani\", \"compani\", \"compani\", \"complex\", \"concern\", \"confer\", \"confirm\", \"congrat\", \"congratul\", \"contact\", \"continu\", \"continu\", \"continu\", \"continu\", \"continu\", \"contract\", \"convers\", \"cool\", \"cop\", \"copi\", \"correct\", \"cost\", \"council\", \"councilman\", \"count\", \"counti\", \"counti\", \"counti\", \"counti\", \"counti\", \"court\", \"cover\", \"coverag\", \"covid\", \"crash\", \"creat\", \"creat\", \"crime\", \"crime\", \"cross\", \"crowd\", \"custom\", \"damag\", \"data\", \"davi\", \"dead\", \"deal\", \"death\", \"debat\", \"decemb\", \"defens\", \"defens\", \"delay\", \"delay\", \"democrat\", \"depart\", \"depart\", \"deputi\", \"design\", \"detect\", \"didnt\", \"die\", \"differ\", \"differ\", \"discuss\", \"distribut\", \"district\", \"district\", \"district\", \"doctor\", \"doesnt\", \"dollar\", \"donald\", \"dont\", \"dont\", \"door\", \"downtown\", \"drink\", \"drop\", \"drop\", \"drop\", \"drug\", \"drug\", \"drug\", \"drug\", \"druid\", \"earli\", \"earli\", \"earli\", \"editor\", \"educ\", \"educ\", \"educ\", \"educ\", \"educ\", \"edward\", \"effect\", \"effect\", \"effort\", \"elect\", \"email\", \"engag\", \"estim\", \"even\", \"event\", \"event\", \"execut\", \"expect\", \"facebook\", \"facil\", \"facil\", \"fact\", \"fail\", \"fake\", \"famili\", \"famili\", \"famili\", \"famili\", \"famili\", \"famili\", \"famili\", \"famili\", \"farm\", \"fatal\", \"featur\", \"februari\", \"feder\", \"feder\", \"feder\", \"feel\", \"fell\", \"festiv\", \"fight\", \"fight\", \"fight\", \"film\", \"final\", \"find\", \"finish\", \"fire\", \"flood\", \"flood\", \"florida\", \"food\", \"forc\", \"forc\", \"forecast\", \"forget\", \"form\", \"forward\", \"free\", \"friday\", \"friday\", \"friday\", \"friday\", \"friend\", \"fund\", \"fund\", \"fundrais\", \"game\", \"general\", \"get\", \"get\", \"get\", \"get\", \"get\", \"get\", \"get\", \"get\", \"giant\", \"gift\", \"girl\", \"glen\", \"go\", \"go\", \"go\", \"go\", \"go\", \"go\", \"go\", \"go\", \"go\", \"good\", \"govern\", \"govern\", \"governor\", \"grade\", \"grader\", \"graduat\", \"grant\", \"grate\", \"great\", \"great\", \"greater\", \"grind\", \"group\", \"group\", \"group\", \"group\", \"grow\", \"grow\", \"grow\", \"guard\", \"gubernatori\", \"gun\", \"half\", \"hall\", \"halloween\", \"happen\", \"happi\", \"happi\", \"harbaugh\", \"head\", \"head\", \"head\", \"health\", \"health\", \"health\", \"hear\", \"hear\", \"hear\", \"heart\", \"heat\", \"height\", \"help\", \"help\", \"help\", \"help\", \"high\", \"high\", \"hill\", \"hire\", \"hogan\", \"hold\", \"hold\", \"hold\", \"hold\", \"hold\", \"hold\", \"home\", \"home\", \"home\", \"home\", \"home\", \"home\", \"home\", \"home\", \"home\", \"homeless\", \"homicid\", \"honor\", \"honor\", \"honor\", \"hop\", \"hope\", \"hopkin\", \"hospit\", \"hour\", \"hour\", \"hour\", \"hour\", \"hour\", \"hour\", \"hour\", \"hous\", \"hous\", \"hous\", \"howard\", \"huge\", \"hurrican\", \"icymi\", \"identifi\", \"illeg\", \"import\", \"import\", \"incid\", \"includ\", \"increas\", \"increas\", \"independ\", \"inform\", \"initi\", \"injur\", \"inner\", \"intern\", \"invest\", \"investig\", \"invit\", \"involv\", \"isnt\", \"issu\", \"issu\", \"issu\", \"issu\", \"issu\", \"issu\", \"issu\", \"issu\", \"issu\", \"issu\", \"issu\", \"issu\", \"issu\", \"jackson\", \"januari\", \"john\", \"john\", \"join\", \"join\", \"join\", \"join\", \"join\", \"journal\", \"journalist\", \"judg\", \"judg\", \"judg\", \"juli\", \"juli\", \"juri\", \"keith\", \"kevin\", \"kid\", \"kid\", \"kid\", \"kill\", \"king\", \"know\", \"labor\", \"lake\", \"lamar\", \"lane\", \"lane\", \"largest\", \"larri\", \"latest\", \"latest\", \"latest\", \"lawsuit\", \"leader\", \"leader\", \"leader\", \"leadership\", \"learn\", \"learn\", \"leav\", \"legal\", \"legal\", \"let\", \"letter\", \"librari\", \"light\", \"like\", \"link\", \"list\", \"list\", \"listen\", \"listen\", \"littl\", \"live\", \"local\", \"local\", \"local\", \"locat\", \"locat\", \"locat\", \"long\", \"long\", \"long\", \"long\", \"look\", \"look\", \"loss\", \"love\", \"mailin\", \"main\", \"mari\", \"marilyn\", \"market\", \"maryland\", \"maryland\", \"matter\", \"mayor\", \"mean\", \"media\", \"medic\", \"meet\", \"meet\", \"meet\", \"meet\", \"member\", \"member\", \"member\", \"member\", \"member\", \"mervo\", \"messag\", \"michael\", \"midatlant\", \"middl\", \"mile\", \"million\", \"million\", \"minut\", \"miss\", \"miss\", \"month\", \"month\", \"month\", \"month\", \"moor\", \"morgan\", \"morn\", \"morn\", \"morn\", \"morn\", \"morn\", \"morn\", \"morn\", \"morn\", \"mosbi\", \"motion\", \"movi\", \"murder\", \"music\", \"nation\", \"nation\", \"nation\", \"nation\", \"near\", \"near\", \"near\", \"need\", \"need\", \"neighbor\", \"neighborhood\", \"news\", \"newspap\", \"nice\", \"night\", \"night\", \"night\", \"night\", \"night\", \"night\", \"night\", \"nonprofit\", \"normal\", \"north\", \"note\", \"notic\", \"novemb\", \"number\", \"number\", \"nurs\", \"occur\", \"ocean\", \"offens\", \"offic\", \"offic\", \"offic\", \"offici\", \"offici\", \"offici\", \"offici\", \"ope\", \"open\", \"open\", \"open\", \"open\", \"open\", \"open\", \"open\", \"order\", \"order\", \"organ\", \"oriol\", \"oriol\", \"oscar\", \"outlook\", \"owner\", \"owner\", \"pandem\", \"pandem\", \"panel\", \"parent\", \"parent\", \"park\", \"park\", \"park\", \"part\", \"parti\", \"particip\", \"partner\", \"partner\", \"past\", \"peopl\", \"perform\", \"photo\", \"photo\", \"pick\", \"piec\", \"plan\", \"plan\", \"plan\", \"plan\", \"plan\", \"plane\", \"play\", \"player\", \"point\", \"polic\", \"polit\", \"polit\", \"poll\", \"pool\", \"poppleton\", \"posit\", \"possibl\", \"post\", \"post\", \"post\", \"potenti\", \"potenti\", \"power\", \"power\", \"practic\", \"practic\", \"predict\", \"prek\", \"presid\", \"presid\", \"press\", \"price\", \"primari\", \"princip\", \"print\", \"prison\", \"problem\", \"product\", \"profession\", \"program\", \"propos\", \"protest\", \"proud\", \"public\", \"public\", \"push\", \"quarter\", \"queen\", \"question\", \"question\", \"race\", \"radar\", \"radio\", \"rain\", \"rate\", \"raven\", \"read\", \"reason\", \"reason\", \"record\", \"record\", \"record\", \"recov\", \"recycl\", \"remain\", \"rememb\", \"rememb\", \"remind\", \"remov\", \"report\", \"report\", \"report\", \"report\", \"report\", \"report\", \"republican\", \"request\", \"resid\", \"resid\", \"resid\", \"resid\", \"rest\", \"restaur\", \"result\", \"return\", \"return\", \"return\", \"return\", \"reveal\", \"reynold\", \"right\", \"right\", \"right\", \"road\", \"road\", \"road\", \"rock\", \"role\", \"roll\", \"room\", \"rule\", \"safeti\", \"sale\", \"saturday\", \"saturday\", \"say\", \"say\", \"say\", \"say\", \"say\", \"say\", \"say\", \"say\", \"scene\", \"school\", \"score\", \"scott\", \"search\", \"season\", \"season\", \"season\", \"seat\", \"sell\", \"senat\", \"send\", \"senior\", \"septemb\", \"septemb\", \"seri\", \"serv\", \"serv\", \"servic\", \"servic\", \"servic\", \"servic\", \"seven\", \"sever\", \"sever\", \"share\", \"share\", \"sheriff\", \"shoot\", \"shout\", \"shower\", \"shut\", \"sit\", \"site\", \"small\", \"smith\", \"snow\", \"social\", \"soon\", \"sorri\", \"sound\", \"south\", \"south\", \"south\", \"space\", \"space\", \"speak\", \"speak\", \"speak\", \"speak\", \"speak\", \"speak\", \"speak\", \"special\", \"spend\", \"spend\", \"spend\", \"spirit\", \"spring\", \"squeege\", \"stadium\", \"staff\", \"staff\", \"stand\", \"stand\", \"star\", \"star\", \"state\", \"state\", \"state\", \"state\", \"statement\", \"stay\", \"stay\", \"steal\", \"store\", \"stori\", \"stori\", \"storm\", \"street\", \"street\", \"strike\", \"student\", \"sunday\", \"sunday\", \"sunday\", \"sunday\", \"support\", \"suprem\", \"surround\", \"suspect\", \"sy\", \"talk\", \"task\", \"teach\", \"teacher\", \"team\", \"team\", \"team\", \"team\", \"team\", \"team\", \"team\", \"team\", \"teen\", \"tell\", \"tell\", \"tell\", \"tell\", \"tell\", \"tell\", \"tell\", \"tell\", \"tell\", \"temperatur\", \"test\", \"thank\", \"that\", \"theyr\", \"thing\", \"thing\", \"think\", \"think\", \"thought\", \"thousand\", \"thread\", \"thunderstorm\", \"thunderstorm\", \"ticket\", \"time\", \"time\", \"time\", \"time\", \"time\", \"time\", \"time\", \"time\", \"time\", \"time\", \"today\", \"today\", \"today\", \"today\", \"today\", \"today\", \"today\", \"today\", \"today\", \"tomorrow\", \"tomorrow\", \"tomorrow\", \"tomorrow\", \"tomorrow\", \"tonight\", \"tonight\", \"tonight\", \"tonight\", \"total\", \"tour\", \"town\", \"towson\", \"trace\", \"traffic\", \"train\", \"trash\", \"tree\", \"trial\", \"trial\", \"trip\", \"truck\", \"trump\", \"tune\", \"twitter\", \"understand\", \"univers\", \"univers\", \"updat\", \"updat\", \"updat\", \"updat\", \"vacant\", \"vaccin\", \"victim\", \"victori\", \"video\", \"video\", \"violat\", \"violenc\", \"virtual\", \"virtual\", \"visit\", \"voic\", \"volunt\", \"vote\", \"voter\", \"walk\", \"want\", \"warn\", \"washington\", \"washington\", \"watch\", \"water\", \"wbal\", \"wear\", \"weather\", \"websit\", \"weed\", \"week\", \"week\", \"week\", \"week\", \"week\", \"week\", \"week\", \"week\", \"week\", \"week\", \"welcom\", \"white\", \"white\", \"wife\", \"wind\", \"winner\", \"winter\", \"woman\", \"women\", \"women\", \"women\", \"women\", \"women\", \"wonder\", \"word\", \"work\", \"work\", \"work\", \"work\", \"work\", \"worker\", \"worker\", \"write\", \"write\", \"write\", \"write\", \"write\", \"writer\", \"yall\", \"year\", \"year\", \"year\", \"year\", \"year\", \"year\", \"year\", \"year\", \"year\", \"yearold\", \"york\", \"your\"]}, \"R\": 30, \"lambda.step\": 0.01, \"plot.opts\": {\"xlab\": \"PC1\", \"ylab\": \"PC2\"}, \"topic.order\": [12, 3, 15, 6, 4, 10, 1, 9, 5, 14, 13, 2, 11, 8, 7]};\n",
       "\n",
       "function LDAvis_load_lib(url, callback){\n",
       "  var s = document.createElement('script');\n",
       "  s.src = url;\n",
       "  s.async = true;\n",
       "  s.onreadystatechange = s.onload = callback;\n",
       "  s.onerror = function(){console.warn(\"failed to load library \" + url);};\n",
       "  document.getElementsByTagName(\"head\")[0].appendChild(s);\n",
       "}\n",
       "\n",
       "if(typeof(LDAvis) !== \"undefined\"){\n",
       "   // already loaded: just create the visualization\n",
       "   !function(LDAvis){\n",
       "       new LDAvis(\"#\" + \"ldavis_el29581126255946809678081984\", ldavis_el29581126255946809678081984_data);\n",
       "   }(LDAvis);\n",
       "}else if(typeof define === \"function\" && define.amd){\n",
       "   // require.js is available: use it to load d3/LDAvis\n",
       "   require.config({paths: {d3: \"https://d3js.org/d3.v5\"}});\n",
       "   require([\"d3\"], function(d3){\n",
       "      window.d3 = d3;\n",
       "      LDAvis_load_lib(\"https://cdn.jsdelivr.net/gh/bmabey/pyLDAvis@3.3.1/pyLDAvis/js/ldavis.v3.0.0.js\", function(){\n",
       "        new LDAvis(\"#\" + \"ldavis_el29581126255946809678081984\", ldavis_el29581126255946809678081984_data);\n",
       "      });\n",
       "    });\n",
       "}else{\n",
       "    // require.js not available: dynamically load d3 & LDAvis\n",
       "    LDAvis_load_lib(\"https://d3js.org/d3.v5.js\", function(){\n",
       "         LDAvis_load_lib(\"https://cdn.jsdelivr.net/gh/bmabey/pyLDAvis@3.3.1/pyLDAvis/js/ldavis.v3.0.0.js\", function(){\n",
       "                 new LDAvis(\"#\" + \"ldavis_el29581126255946809678081984\", ldavis_el29581126255946809678081984_data);\n",
       "            })\n",
       "         });\n",
       "}\n",
       "</script>"
      ],
      "text/plain": [
       "PreparedData(topic_coordinates=              x         y  topics  cluster      Freq\n",
       "topic                                               \n",
       "11     0.138086 -0.040045       1        1  9.704824\n",
       "2      0.105905  0.158680       2        1  9.658341\n",
       "14     0.156815  0.124661       3        1  8.319426\n",
       "5      0.132023  0.055063       4        1  7.258843\n",
       "3      0.033563  0.182674       5        1  7.050100\n",
       "9      0.101530 -0.193856       6        1  6.888427\n",
       "0     -0.083928  0.116186       7        1  6.714798\n",
       "8      0.038662 -0.056243       8        1  6.516495\n",
       "4     -0.012624  0.122243       9        1  6.433569\n",
       "13    -0.014798 -0.264618      10        1  6.352952\n",
       "12     0.140350 -0.155567      11        1  6.323694\n",
       "1     -0.088941  0.024621      12        1  5.890158\n",
       "10    -0.122975 -0.058177      13        1  5.393659\n",
       "7     -0.228337 -0.040813      14        1  3.824907\n",
       "6     -0.295329  0.025190      15        1  3.669807, topic_info=          Term          Freq         Total Category  logprob  loglift\n",
       "33        citi   7176.000000   7176.000000  Default  30.0000  30.0000\n",
       "472     school   4928.000000   4928.000000  Default  29.0000  29.0000\n",
       "253      polic   3894.000000   3894.000000  Default  28.0000  28.0000\n",
       "24    baltimor  12505.000000  12505.000000  Default  27.0000  27.0000\n",
       "858   maryland   3937.000000   3937.000000  Default  26.0000  26.0000\n",
       "...        ...           ...           ...      ...      ...      ...\n",
       "1066     sever    326.870715    678.293026  Topic15  -4.3467   2.5750\n",
       "787      south    246.224136    445.331371  Topic15  -4.6300   2.7125\n",
       "702      flood    203.218137    289.772777  Topic15  -4.8219   2.9502\n",
       "1112     coach    217.379130    371.226026  Topic15  -4.7546   2.7699\n",
       "732      state    296.293153   2580.130338  Topic15  -4.4449   1.1408\n",
       "\n",
       "[715 rows x 6 columns], token_table=      Topic      Freq     Term\n",
       "term                          \n",
       "591       3  0.271372      abl\n",
       "591      11  0.727008      abl\n",
       "1333     15  0.997597  absolut\n",
       "1391      1  0.997792  academi\n",
       "3255      2  0.157840   accord\n",
       "...     ...       ...      ...\n",
       "159      10  0.040308     year\n",
       "159      11  0.148357     year\n",
       "190       5  0.999323  yearold\n",
       "3183      5  0.996060     york\n",
       "197      11  0.997615     your\n",
       "\n",
       "[1037 rows x 3 columns], R=30, lambda_step=0.01, plot_opts={'xlab': 'PC1', 'ylab': 'PC2'}, topic_order=[12, 3, 15, 6, 4, 10, 1, 9, 5, 14, 13, 2, 11, 8, 7])"
      ]
     },
     "execution_count": 85,
     "metadata": {},
     "output_type": "execute_result"
    }
   ],
   "source": [
    "vis"
   ]
  },
  {
   "cell_type": "code",
   "execution_count": 86,
   "metadata": {},
   "outputs": [],
   "source": [
    "from gensim.models.coherencemodel import CoherenceModel"
   ]
  },
  {
   "cell_type": "code",
   "execution_count": 87,
   "metadata": {},
   "outputs": [
    {
     "name": "stdout",
     "output_type": "stream",
     "text": [
      "\n",
      "Perplexity:  -9.456484574463452\n",
      "\n",
      "Coherence Score:  0.3688503994902092\n"
     ]
    }
   ],
   "source": [
    "base_perplexity = tweets_lda.log_perplexity(twit_bag)\n",
    "print('\\nPerplexity: ', base_perplexity) \n",
    "\n",
    "# Compute Coherence Score\n",
    "coherence_model = CoherenceModel(model=tweets_lda, texts=text_clean, \n",
    "                                   dictionary=dictionary, coherence='c_v')\n",
    "coherence_lda_model_base = coherence_model.get_coherence()\n",
    "print('\\nCoherence Score: ', coherence_lda_model_base)"
   ]
  },
  {
   "cell_type": "code",
   "execution_count": null,
   "metadata": {},
   "outputs": [],
   "source": []
  }
 ],
 "metadata": {
  "kernelspec": {
   "display_name": "Python 3",
   "language": "python",
   "name": "python3"
  },
  "language_info": {
   "codemirror_mode": {
    "name": "ipython",
    "version": 3
   },
   "file_extension": ".py",
   "mimetype": "text/x-python",
   "name": "python",
   "nbconvert_exporter": "python",
   "pygments_lexer": "ipython3",
   "version": "3.7.3"
  }
 },
 "nbformat": 4,
 "nbformat_minor": 2
}
