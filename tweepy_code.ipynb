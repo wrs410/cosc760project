{
 "cells": [
  {
   "cell_type": "code",
   "execution_count": 1,
   "metadata": {},
   "outputs": [
    {
     "name": "stderr",
     "output_type": "stream",
     "text": [
      "/Users/Daphne/anaconda3/lib/python3.7/site-packages/pandas/compat/_optional.py:138: UserWarning: Pandas requires version '2.7.0' or newer of 'numexpr' (version '2.6.9' currently installed).\n",
      "  warnings.warn(msg, UserWarning)\n"
     ]
    }
   ],
   "source": [
    "import tweepy\n",
    "import datetime\n",
    "import pandas as pd\n",
    "from tweepy import OAuthHandler # Used for authentication\n",
    "from tweepy import Cursor # Used to perform pagination"
   ]
  },
  {
   "cell_type": "code",
   "execution_count": 2,
   "metadata": {},
   "outputs": [],
   "source": [
    "cons_key = \"ztPdhKiUt6taZfksF2Tu4dcTG\"\n",
    "cons_secret = \"lgCopastatvWK3IUWxVMGSJ5KfSGZ6PIuahaOXfObHRQc24tts\"\n",
    "acc_token = \"1580546379553849345-rnJCPqXb5GfSocd1DINmgrOh10jOB0\"\n",
    "acc_secret = \"FjX0Ih9WdgoKLEaVt7ZAWIwcPTeDyhtxfGS0MZxgf33oK\"\n"
   ]
  },
  {
   "cell_type": "code",
   "execution_count": 3,
   "metadata": {},
   "outputs": [],
   "source": [
    "twitter_auth = tweepy.OAuthHandler(cons_key, cons_secret)\n",
    "twitter_auth.set_access_token(acc_token, acc_secret)\n",
    "api = tweepy.API(twitter_auth)"
   ]
  },
  {
   "cell_type": "code",
   "execution_count": 4,
   "metadata": {},
   "outputs": [],
   "source": [
    "def get_twitter_auth():\n",
    "    \"\"\"\n",
    "    @return:\n",
    "        - the authentification to Twitter\n",
    "    \"\"\"\n",
    "    try:\n",
    "        consumer_key = cons_key\n",
    "        consumer_secret = cons_secret\n",
    "        access_token = acc_token\n",
    "        access_secret = acc_secret\n",
    "        \n",
    "    except KeyError:\n",
    "        sys.stderr.write(\"Twitter Environment Variable not Set\\n\")\n",
    "        sys.exit(1)\n",
    "        \n",
    "    auth = tweepy.OAuthHandler(consumer_key, consumer_secret)\n",
    "    auth.set_access_token(access_token, access_secret)\n",
    "    \n",
    "    return auth\n",
    "\n",
    "# (2). Client function to access the authentication API\n",
    "def get_twitter_client():\n",
    "    \"\"\"\n",
    "    @return:\n",
    "        - the client to access the authentification API\n",
    "    \"\"\"\n",
    "    auth = get_twitter_auth()\n",
    "    client = tweepy.API(auth, wait_on_rate_limit=True)\n",
    "    return client\n",
    "def get_tweets_from_user(twitter_user_name, page_limit=16, count_tweet=200):\n",
    "    \"\"\"\n",
    "    @params:\n",
    "        - twitter_user_name: the twitter username of a user (company, etc.)\n",
    "        - page_limit: the total number of pages (max=16)\n",
    "        - count_tweet: maximum number to be retrieved from a page\n",
    "        \n",
    "    @return\n",
    "        - all the tweets from the user twitter_user_name\n",
    "    \"\"\"\n",
    "    client = get_twitter_client()\n",
    "    \n",
    "    all_tweets = []\n",
    "    \n",
    "    for page in Cursor(client.user_timeline, \n",
    "                        screen_name=twitter_user_name, \n",
    "                        count=count_tweet).pages(page_limit):\n",
    "        for tweet in page:\n",
    "            parsed_tweet = {}\n",
    "            parsed_tweet['date'] = tweet.created_at\n",
    "            parsed_tweet['author'] = tweet.user.name\n",
    "            parsed_tweet['twitter_name'] = tweet.user.screen_name\n",
    "            parsed_tweet['text'] = tweet.text\n",
    "            parsed_tweet['tweet_ID'] = tweet.id\n",
    "            parsed_tweet['number_of_likes'] = tweet.favorite_count\n",
    "            parsed_tweet['number_of_retweets'] = tweet.retweet_count\n",
    "                \n",
    "            all_tweets.append(parsed_tweet)\n",
    "    \n",
    "    # Create dataframe \n",
    "    df = pd.DataFrame(all_tweets)\n",
    "    \n",
    "    # Revome duplicates if there are any\n",
    "    df = df.drop_duplicates( \"text\" , keep='first')\n",
    "    \n",
    "    return df"
   ]
  },
  {
   "cell_type": "code",
   "execution_count": 5,
   "metadata": {},
   "outputs": [
    {
     "name": "stdout",
     "output_type": "stream",
     "text": [
      "Data Shape: (3170, 7)\n"
     ]
    }
   ],
   "source": [
    "MayorBMScott = get_tweets_from_user(\"MayorBMScott\")\n",
    "print(\"Data Shape: {}\".format(MayorBMScott.shape))"
   ]
  },
  {
   "cell_type": "code",
   "execution_count": 6,
   "metadata": {},
   "outputs": [
    {
     "data": {
      "text/html": [
       "<div>\n",
       "<style scoped>\n",
       "    .dataframe tbody tr th:only-of-type {\n",
       "        vertical-align: middle;\n",
       "    }\n",
       "\n",
       "    .dataframe tbody tr th {\n",
       "        vertical-align: top;\n",
       "    }\n",
       "\n",
       "    .dataframe thead th {\n",
       "        text-align: right;\n",
       "    }\n",
       "</style>\n",
       "<table border=\"1\" class=\"dataframe\">\n",
       "  <thead>\n",
       "    <tr style=\"text-align: right;\">\n",
       "      <th></th>\n",
       "      <th>date</th>\n",
       "      <th>author</th>\n",
       "      <th>twitter_name</th>\n",
       "      <th>text</th>\n",
       "      <th>tweet_ID</th>\n",
       "      <th>number_of_likes</th>\n",
       "      <th>number_of_retweets</th>\n",
       "    </tr>\n",
       "  </thead>\n",
       "  <tbody>\n",
       "    <tr>\n",
       "      <th>0</th>\n",
       "      <td>2022-12-09 18:24:41+00:00</td>\n",
       "      <td>Brandon M. Scott</td>\n",
       "      <td>MayorBMScott</td>\n",
       "      <td>Please Share! https://t.co/UN9FSpQID3</td>\n",
       "      <td>1601281695226830848</td>\n",
       "      <td>16</td>\n",
       "      <td>20</td>\n",
       "    </tr>\n",
       "    <tr>\n",
       "      <th>1</th>\n",
       "      <td>2022-12-08 14:24:00+00:00</td>\n",
       "      <td>Brandon M. Scott</td>\n",
       "      <td>MayorBMScott</td>\n",
       "      <td>!!! https://t.co/rh4ioIxs7S https://t.co/NymwY...</td>\n",
       "      <td>1600858740680441856</td>\n",
       "      <td>56</td>\n",
       "      <td>4</td>\n",
       "    </tr>\n",
       "    <tr>\n",
       "      <th>2</th>\n",
       "      <td>2022-12-06 21:36:43+00:00</td>\n",
       "      <td>Brandon M. Scott</td>\n",
       "      <td>MayorBMScott</td>\n",
       "      <td>RT @BaltimoreMONSE: Release: Mayor Scott Annou...</td>\n",
       "      <td>1600242859210596352</td>\n",
       "      <td>0</td>\n",
       "      <td>8</td>\n",
       "    </tr>\n",
       "    <tr>\n",
       "      <th>3</th>\n",
       "      <td>2022-12-06 17:49:41+00:00</td>\n",
       "      <td>Brandon M. Scott</td>\n",
       "      <td>MayorBMScott</td>\n",
       "      <td>Thank you @MissionInvest for hosting your Nati...</td>\n",
       "      <td>1600185723763597315</td>\n",
       "      <td>8</td>\n",
       "      <td>5</td>\n",
       "    </tr>\n",
       "    <tr>\n",
       "      <th>4</th>\n",
       "      <td>2022-12-06 15:34:21+00:00</td>\n",
       "      <td>Brandon M. Scott</td>\n",
       "      <td>MayorBMScott</td>\n",
       "      <td>@BaltCitySchools @DunbarPoetPride @CurryEdu Co...</td>\n",
       "      <td>1600151667504140288</td>\n",
       "      <td>1</td>\n",
       "      <td>0</td>\n",
       "    </tr>\n",
       "  </tbody>\n",
       "</table>\n",
       "</div>"
      ],
      "text/plain": [
       "                       date            author  twitter_name  \\\n",
       "0 2022-12-09 18:24:41+00:00  Brandon M. Scott  MayorBMScott   \n",
       "1 2022-12-08 14:24:00+00:00  Brandon M. Scott  MayorBMScott   \n",
       "2 2022-12-06 21:36:43+00:00  Brandon M. Scott  MayorBMScott   \n",
       "3 2022-12-06 17:49:41+00:00  Brandon M. Scott  MayorBMScott   \n",
       "4 2022-12-06 15:34:21+00:00  Brandon M. Scott  MayorBMScott   \n",
       "\n",
       "                                                text             tweet_ID  \\\n",
       "0              Please Share! https://t.co/UN9FSpQID3  1601281695226830848   \n",
       "1  !!! https://t.co/rh4ioIxs7S https://t.co/NymwY...  1600858740680441856   \n",
       "2  RT @BaltimoreMONSE: Release: Mayor Scott Annou...  1600242859210596352   \n",
       "3  Thank you @MissionInvest for hosting your Nati...  1600185723763597315   \n",
       "4  @BaltCitySchools @DunbarPoetPride @CurryEdu Co...  1600151667504140288   \n",
       "\n",
       "   number_of_likes  number_of_retweets  \n",
       "0               16                  20  \n",
       "1               56                   4  \n",
       "2                0                   8  \n",
       "3                8                   5  \n",
       "4                1                   0  "
      ]
     },
     "execution_count": 6,
     "metadata": {},
     "output_type": "execute_result"
    }
   ],
   "source": [
    "MayorBMScott.head()"
   ]
  },
  {
   "cell_type": "code",
   "execution_count": 84,
   "metadata": {},
   "outputs": [],
   "source": [
    "MayorBMScott.to_csv('file1.csv')"
   ]
  },
  {
   "cell_type": "code",
   "execution_count": 7,
   "metadata": {},
   "outputs": [
    {
     "name": "stdout",
     "output_type": "stream",
     "text": [
      "Data Shape: (3193, 6)\n"
     ]
    }
   ],
   "source": [
    "wjz = get_tweets_from_user(\"wjz\")\n",
    "print(\"Data Shape: {}\".format(wjz.shape))"
   ]
  },
  {
   "cell_type": "code",
   "execution_count": 8,
   "metadata": {},
   "outputs": [
    {
     "data": {
      "text/html": [
       "<div>\n",
       "<style scoped>\n",
       "    .dataframe tbody tr th:only-of-type {\n",
       "        vertical-align: middle;\n",
       "    }\n",
       "\n",
       "    .dataframe tbody tr th {\n",
       "        vertical-align: top;\n",
       "    }\n",
       "\n",
       "    .dataframe thead th {\n",
       "        text-align: right;\n",
       "    }\n",
       "</style>\n",
       "<table border=\"1\" class=\"dataframe\">\n",
       "  <thead>\n",
       "    <tr style=\"text-align: right;\">\n",
       "      <th></th>\n",
       "      <th>date</th>\n",
       "      <th>author</th>\n",
       "      <th>twitter_name</th>\n",
       "      <th>text</th>\n",
       "      <th>number_of_likes</th>\n",
       "      <th>number_of_retweets</th>\n",
       "    </tr>\n",
       "  </thead>\n",
       "  <tbody>\n",
       "    <tr>\n",
       "      <th>0</th>\n",
       "      <td>2022-11-18 13:30:04+00:00</td>\n",
       "      <td>WJZ | CBS Baltimore</td>\n",
       "      <td>wjz</td>\n",
       "      <td>Federal prosecutors have charged two Russian n...</td>\n",
       "      <td>0</td>\n",
       "      <td>0</td>\n",
       "    </tr>\n",
       "    <tr>\n",
       "      <th>1</th>\n",
       "      <td>2022-11-18 13:25:23+00:00</td>\n",
       "      <td>WJZ | CBS Baltimore</td>\n",
       "      <td>wjz</td>\n",
       "      <td>RT @AmyKawata: It’s been a busy morning here a...</td>\n",
       "      <td>0</td>\n",
       "      <td>3</td>\n",
       "    </tr>\n",
       "    <tr>\n",
       "      <th>2</th>\n",
       "      <td>2022-11-18 13:15:02+00:00</td>\n",
       "      <td>WJZ | CBS Baltimore</td>\n",
       "      <td>wjz</td>\n",
       "      <td>The 15-year-old is facing charges after Timoth...</td>\n",
       "      <td>0</td>\n",
       "      <td>0</td>\n",
       "    </tr>\n",
       "    <tr>\n",
       "      <th>3</th>\n",
       "      <td>2022-11-18 13:00:03+00:00</td>\n",
       "      <td>WJZ | CBS Baltimore</td>\n",
       "      <td>wjz</td>\n",
       "      <td>Lt. Mariano Pargas left the department volunta...</td>\n",
       "      <td>0</td>\n",
       "      <td>0</td>\n",
       "    </tr>\n",
       "    <tr>\n",
       "      <th>4</th>\n",
       "      <td>2022-11-18 12:00:05+00:00</td>\n",
       "      <td>WJZ | CBS Baltimore</td>\n",
       "      <td>wjz</td>\n",
       "      <td>Virginia McLaurin, the centenarian who danced ...</td>\n",
       "      <td>3</td>\n",
       "      <td>1</td>\n",
       "    </tr>\n",
       "  </tbody>\n",
       "</table>\n",
       "</div>"
      ],
      "text/plain": [
       "                       date               author twitter_name  \\\n",
       "0 2022-11-18 13:30:04+00:00  WJZ | CBS Baltimore          wjz   \n",
       "1 2022-11-18 13:25:23+00:00  WJZ | CBS Baltimore          wjz   \n",
       "2 2022-11-18 13:15:02+00:00  WJZ | CBS Baltimore          wjz   \n",
       "3 2022-11-18 13:00:03+00:00  WJZ | CBS Baltimore          wjz   \n",
       "4 2022-11-18 12:00:05+00:00  WJZ | CBS Baltimore          wjz   \n",
       "\n",
       "                                                text  number_of_likes  \\\n",
       "0  Federal prosecutors have charged two Russian n...                0   \n",
       "1  RT @AmyKawata: It’s been a busy morning here a...                0   \n",
       "2  The 15-year-old is facing charges after Timoth...                0   \n",
       "3  Lt. Mariano Pargas left the department volunta...                0   \n",
       "4  Virginia McLaurin, the centenarian who danced ...                3   \n",
       "\n",
       "   number_of_retweets  \n",
       "0                   0  \n",
       "1                   3  \n",
       "2                   0  \n",
       "3                   0  \n",
       "4                   1  "
      ]
     },
     "execution_count": 8,
     "metadata": {},
     "output_type": "execute_result"
    }
   ],
   "source": [
    "wjz.head()"
   ]
  },
  {
   "cell_type": "code",
   "execution_count": 85,
   "metadata": {},
   "outputs": [],
   "source": [
    "wjz.to_csv('file2.csv')"
   ]
  },
  {
   "cell_type": "code",
   "execution_count": 9,
   "metadata": {},
   "outputs": [
    {
     "name": "stdout",
     "output_type": "stream",
     "text": [
      "Data Shape: (3200, 6)\n"
     ]
    }
   ],
   "source": [
    "baltimoresun = get_tweets_from_user(\"baltimoresun\")\n",
    "print(\"Data Shape: {}\".format(baltimoresun.shape))"
   ]
  },
  {
   "cell_type": "code",
   "execution_count": 10,
   "metadata": {},
   "outputs": [
    {
     "data": {
      "text/html": [
       "<div>\n",
       "<style scoped>\n",
       "    .dataframe tbody tr th:only-of-type {\n",
       "        vertical-align: middle;\n",
       "    }\n",
       "\n",
       "    .dataframe tbody tr th {\n",
       "        vertical-align: top;\n",
       "    }\n",
       "\n",
       "    .dataframe thead th {\n",
       "        text-align: right;\n",
       "    }\n",
       "</style>\n",
       "<table border=\"1\" class=\"dataframe\">\n",
       "  <thead>\n",
       "    <tr style=\"text-align: right;\">\n",
       "      <th></th>\n",
       "      <th>date</th>\n",
       "      <th>author</th>\n",
       "      <th>twitter_name</th>\n",
       "      <th>text</th>\n",
       "      <th>number_of_likes</th>\n",
       "      <th>number_of_retweets</th>\n",
       "    </tr>\n",
       "  </thead>\n",
       "  <tbody>\n",
       "    <tr>\n",
       "      <th>0</th>\n",
       "      <td>2022-11-18 13:30:16+00:00</td>\n",
       "      <td>The Baltimore Sun</td>\n",
       "      <td>baltimoresun</td>\n",
       "      <td>GUEST COMMENTARY: Infertility is ubiquitous. Y...</td>\n",
       "      <td>2</td>\n",
       "      <td>0</td>\n",
       "    </tr>\n",
       "    <tr>\n",
       "      <th>1</th>\n",
       "      <td>2022-11-18 13:00:12+00:00</td>\n",
       "      <td>The Baltimore Sun</td>\n",
       "      <td>baltimoresun</td>\n",
       "      <td>The myth of recycling as the answer to plastic...</td>\n",
       "      <td>1</td>\n",
       "      <td>1</td>\n",
       "    </tr>\n",
       "    <tr>\n",
       "      <th>2</th>\n",
       "      <td>2022-11-18 12:00:09+00:00</td>\n",
       "      <td>The Baltimore Sun</td>\n",
       "      <td>baltimoresun</td>\n",
       "      <td>Baltimore-based T. Rowe Price lays off 2% of g...</td>\n",
       "      <td>3</td>\n",
       "      <td>1</td>\n",
       "    </tr>\n",
       "    <tr>\n",
       "      <th>3</th>\n",
       "      <td>2022-11-18 11:00:14+00:00</td>\n",
       "      <td>The Baltimore Sun</td>\n",
       "      <td>baltimoresun</td>\n",
       "      <td>Auction for Bertha’s Mussels in Baltimore is c...</td>\n",
       "      <td>6</td>\n",
       "      <td>0</td>\n",
       "    </tr>\n",
       "    <tr>\n",
       "      <th>4</th>\n",
       "      <td>2022-11-18 10:00:09+00:00</td>\n",
       "      <td>The Baltimore Sun</td>\n",
       "      <td>baltimoresun</td>\n",
       "      <td>Baltimore Gift Guide 2022\\nhttps://t.co/89JEdY...</td>\n",
       "      <td>0</td>\n",
       "      <td>0</td>\n",
       "    </tr>\n",
       "  </tbody>\n",
       "</table>\n",
       "</div>"
      ],
      "text/plain": [
       "                       date             author  twitter_name  \\\n",
       "0 2022-11-18 13:30:16+00:00  The Baltimore Sun  baltimoresun   \n",
       "1 2022-11-18 13:00:12+00:00  The Baltimore Sun  baltimoresun   \n",
       "2 2022-11-18 12:00:09+00:00  The Baltimore Sun  baltimoresun   \n",
       "3 2022-11-18 11:00:14+00:00  The Baltimore Sun  baltimoresun   \n",
       "4 2022-11-18 10:00:09+00:00  The Baltimore Sun  baltimoresun   \n",
       "\n",
       "                                                text  number_of_likes  \\\n",
       "0  GUEST COMMENTARY: Infertility is ubiquitous. Y...                2   \n",
       "1  The myth of recycling as the answer to plastic...                1   \n",
       "2  Baltimore-based T. Rowe Price lays off 2% of g...                3   \n",
       "3  Auction for Bertha’s Mussels in Baltimore is c...                6   \n",
       "4  Baltimore Gift Guide 2022\\nhttps://t.co/89JEdY...                0   \n",
       "\n",
       "   number_of_retweets  \n",
       "0                   0  \n",
       "1                   1  \n",
       "2                   1  \n",
       "3                   0  \n",
       "4                   0  "
      ]
     },
     "execution_count": 10,
     "metadata": {},
     "output_type": "execute_result"
    }
   ],
   "source": [
    "baltimoresun.head()"
   ]
  },
  {
   "cell_type": "code",
   "execution_count": 86,
   "metadata": {},
   "outputs": [],
   "source": [
    "baltimoresun.to_csv('file3.csv')"
   ]
  },
  {
   "cell_type": "code",
   "execution_count": 11,
   "metadata": {},
   "outputs": [
    {
     "name": "stdout",
     "output_type": "stream",
     "text": [
      "Data Shape: (3137, 6)\n"
     ]
    }
   ],
   "source": [
    "wbaltv11 = get_tweets_from_user(\"wbaltv11\")\n",
    "print(\"Data Shape: {}\".format(wbaltv11.shape))"
   ]
  },
  {
   "cell_type": "code",
   "execution_count": 87,
   "metadata": {},
   "outputs": [],
   "source": [
    "wbaltv11.to_csv('file4.csv')"
   ]
  },
  {
   "cell_type": "code",
   "execution_count": 13,
   "metadata": {},
   "outputs": [
    {
     "name": "stdout",
     "output_type": "stream",
     "text": [
      "Data Shape: (3193, 6)\n"
     ]
    }
   ],
   "source": [
    "FOXBaltimore = get_tweets_from_user(\"FOXBaltimore\")\n",
    "print(\"Data Shape: {}\".format(FOXBaltimore.shape))"
   ]
  },
  {
   "cell_type": "code",
   "execution_count": 88,
   "metadata": {},
   "outputs": [],
   "source": [
    "FOXBaltimore.to_csv('file5.csv')"
   ]
  },
  {
   "cell_type": "code",
   "execution_count": 15,
   "metadata": {},
   "outputs": [
    {
     "name": "stdout",
     "output_type": "stream",
     "text": [
      "Data Shape: (3189, 6)\n"
     ]
    }
   ],
   "source": [
    "BaltCitySchools = get_tweets_from_user(\"BaltCitySchools\")\n",
    "print(\"Data Shape: {}\".format(BaltCitySchools.shape))"
   ]
  },
  {
   "cell_type": "code",
   "execution_count": 89,
   "metadata": {},
   "outputs": [],
   "source": [
    "BaltCitySchools.to_csv('file6.csv')"
   ]
  },
  {
   "cell_type": "code",
   "execution_count": 17,
   "metadata": {},
   "outputs": [
    {
     "name": "stdout",
     "output_type": "stream",
     "text": [
      "Data Shape: (3189, 6)\n"
     ]
    }
   ],
   "source": [
    "WMAR2News = get_tweets_from_user(\"WMAR2News\")\n",
    "print(\"Data Shape: {}\".format(WMAR2News.shape))"
   ]
  },
  {
   "cell_type": "code",
   "execution_count": 90,
   "metadata": {},
   "outputs": [],
   "source": [
    "WMAR2News.to_csv('file7.csv')"
   ]
  },
  {
   "cell_type": "code",
   "execution_count": 19,
   "metadata": {},
   "outputs": [
    {
     "name": "stdout",
     "output_type": "stream",
     "text": [
      "Data Shape: (3194, 6)\n"
     ]
    }
   ],
   "source": [
    "wbalradio = get_tweets_from_user(\"wbalradio\")\n",
    "print(\"Data Shape: {}\".format(wbalradio.shape))"
   ]
  },
  {
   "cell_type": "code",
   "execution_count": 91,
   "metadata": {},
   "outputs": [],
   "source": [
    "wbalradio.to_csv('file8.csv')"
   ]
  },
  {
   "cell_type": "code",
   "execution_count": 21,
   "metadata": {},
   "outputs": [
    {
     "name": "stdout",
     "output_type": "stream",
     "text": [
      "Data Shape: (3108, 6)\n"
     ]
    }
   ],
   "source": [
    "baltbeat = get_tweets_from_user(\"baltbeat\")\n",
    "print(\"Data Shape: {}\".format(baltbeat.shape))"
   ]
  },
  {
   "cell_type": "code",
   "execution_count": 92,
   "metadata": {},
   "outputs": [],
   "source": [
    "baltbeat.to_csv('file9.csv')"
   ]
  },
  {
   "cell_type": "code",
   "execution_count": 23,
   "metadata": {},
   "outputs": [
    {
     "name": "stdout",
     "output_type": "stream",
     "text": [
      "Data Shape: (3107, 6)\n"
     ]
    }
   ],
   "source": [
    "BaltimoreBanner = get_tweets_from_user(\"BaltimoreBanner\")\n",
    "print(\"Data Shape: {}\".format(BaltimoreBanner.shape))"
   ]
  },
  {
   "cell_type": "code",
   "execution_count": 93,
   "metadata": {},
   "outputs": [],
   "source": [
    "BaltimoreBanner.to_csv('file10.csv')"
   ]
  },
  {
   "cell_type": "code",
   "execution_count": 25,
   "metadata": {},
   "outputs": [
    {
     "name": "stdout",
     "output_type": "stream",
     "text": [
      "Data Shape: (3199, 6)\n"
     ]
    }
   ],
   "source": [
    "WYPR881FM = get_tweets_from_user(\"WYPR881FM\")\n",
    "print(\"Data Shape: {}\".format(WYPR881FM.shape))"
   ]
  },
  {
   "cell_type": "code",
   "execution_count": 94,
   "metadata": {},
   "outputs": [],
   "source": [
    "WYPR881FM.to_csv('file11.csv')"
   ]
  },
  {
   "cell_type": "code",
   "execution_count": 27,
   "metadata": {},
   "outputs": [
    {
     "name": "stdout",
     "output_type": "stream",
     "text": [
      "Data Shape: (3200, 6)\n"
     ]
    }
   ],
   "source": [
    "NWS_BaltWash = get_tweets_from_user(\"NWS_BaltWash\")\n",
    "print(\"Data Shape: {}\".format(NWS_BaltWash.shape))"
   ]
  },
  {
   "cell_type": "code",
   "execution_count": 95,
   "metadata": {},
   "outputs": [],
   "source": [
    "NWS_BaltWash.to_csv('file12.csv')"
   ]
  },
  {
   "cell_type": "code",
   "execution_count": 29,
   "metadata": {},
   "outputs": [
    {
     "name": "stdout",
     "output_type": "stream",
     "text": [
      "Data Shape: (3123, 6)\n"
     ]
    }
   ],
   "source": [
    "BaltimorePolice = get_tweets_from_user(\"BaltimorePolice\")\n",
    "print(\"Data Shape: {}\".format(BaltimorePolice.shape))"
   ]
  },
  {
   "cell_type": "code",
   "execution_count": 96,
   "metadata": {},
   "outputs": [],
   "source": [
    "BaltimorePolice.to_csv('file13.csv')"
   ]
  },
  {
   "cell_type": "code",
   "execution_count": 31,
   "metadata": {},
   "outputs": [
    {
     "name": "stdout",
     "output_type": "stream",
     "text": [
      "Data Shape: (3136, 6)\n"
     ]
    }
   ],
   "source": [
    "BMore_Healthy = get_tweets_from_user(\"BMore_Healthy\")\n",
    "print(\"Data Shape: {}\".format(BMore_Healthy.shape))"
   ]
  },
  {
   "cell_type": "code",
   "execution_count": 97,
   "metadata": {},
   "outputs": [],
   "source": [
    "BMore_Healthy.to_csv('file14.csv')"
   ]
  },
  {
   "cell_type": "code",
   "execution_count": 36,
   "metadata": {},
   "outputs": [
    {
     "name": "stdout",
     "output_type": "stream",
     "text": [
      "Data Shape: (3168, 6)\n"
     ]
    }
   ],
   "source": [
    "BaltimoreDPW = get_tweets_from_user(\"BaltimoreDPW\")\n",
    "print(\"Data Shape: {}\".format(BaltimoreDPW.shape))"
   ]
  },
  {
   "cell_type": "code",
   "execution_count": 98,
   "metadata": {},
   "outputs": [],
   "source": [
    "BaltimoreDPW.to_csv('file15.csv')"
   ]
  },
  {
   "cell_type": "code",
   "execution_count": 38,
   "metadata": {},
   "outputs": [
    {
     "name": "stdout",
     "output_type": "stream",
     "text": [
      "Data Shape: (3199, 6)\n"
     ]
    }
   ],
   "source": [
    "jemillerbalt = get_tweets_from_user(\"jemillerbalt\")\n",
    "print(\"Data Shape: {}\".format(jemillerbalt.shape))"
   ]
  },
  {
   "cell_type": "code",
   "execution_count": 99,
   "metadata": {},
   "outputs": [],
   "source": [
    "jemillerbalt.to_csv('file16.csv')"
   ]
  },
  {
   "cell_type": "code",
   "execution_count": 40,
   "metadata": {},
   "outputs": [
    {
     "name": "stdout",
     "output_type": "stream",
     "text": [
      "Data Shape: (3173, 6)\n"
     ]
    }
   ],
   "source": [
    "Nick_Mosby = get_tweets_from_user(\"Nick_Mosby\")\n",
    "print(\"Data Shape: {}\".format(Nick_Mosby.shape))"
   ]
  },
  {
   "cell_type": "code",
   "execution_count": 100,
   "metadata": {},
   "outputs": [],
   "source": [
    "Nick_Mosby.to_csv('file17.csv')"
   ]
  },
  {
   "cell_type": "code",
   "execution_count": 43,
   "metadata": {},
   "outputs": [
    {
     "name": "stdout",
     "output_type": "stream",
     "text": [
      "Data Shape: (389, 6)\n"
     ]
    }
   ],
   "source": [
    "DaniMcCrayD2 = get_tweets_from_user(\"DaniMcCrayD2\")\n",
    "print(\"Data Shape: {}\".format(DaniMcCrayD2.shape))"
   ]
  },
  {
   "cell_type": "code",
   "execution_count": 101,
   "metadata": {},
   "outputs": [],
   "source": [
    "DaniMcCrayD2.to_csv('file18.csv')"
   ]
  },
  {
   "cell_type": "code",
   "execution_count": 45,
   "metadata": {},
   "outputs": [
    {
     "name": "stdout",
     "output_type": "stream",
     "text": [
      "Data Shape: (3177, 6)\n"
     ]
    }
   ],
   "source": [
    "ElectRyanDorsey = get_tweets_from_user(\"ElectRyanDorsey\")\n",
    "print(\"Data Shape: {}\".format(ElectRyanDorsey.shape))"
   ]
  },
  {
   "cell_type": "code",
   "execution_count": 102,
   "metadata": {},
   "outputs": [],
   "source": [
    "ElectRyanDorsey.to_csv('file19.csv')"
   ]
  },
  {
   "cell_type": "code",
   "execution_count": 48,
   "metadata": {},
   "outputs": [
    {
     "name": "stdout",
     "output_type": "stream",
     "text": [
      "Data Shape: (877, 6)\n"
     ]
    }
   ],
   "source": [
    "MarkConway4th = get_tweets_from_user(\"MarkConway4th\")\n",
    "print(\"Data Shape: {}\".format(MarkConway4th.shape))"
   ]
  },
  {
   "cell_type": "code",
   "execution_count": 103,
   "metadata": {},
   "outputs": [],
   "source": [
    "MarkConway4th.to_csv('file20.csv')"
   ]
  },
  {
   "cell_type": "code",
   "execution_count": 50,
   "metadata": {},
   "outputs": [
    {
     "name": "stdout",
     "output_type": "stream",
     "text": [
      "Data Shape: (826, 6)\n"
     ]
    }
   ],
   "source": [
    "docbullock = get_tweets_from_user(\"docbullock\")\n",
    "print(\"Data Shape: {}\".format(docbullock.shape))"
   ]
  },
  {
   "cell_type": "code",
   "execution_count": 104,
   "metadata": {},
   "outputs": [],
   "source": [
    "docbullock.to_csv('file21.csv')"
   ]
  },
  {
   "cell_type": "code",
   "execution_count": 52,
   "metadata": {},
   "outputs": [
    {
     "name": "stdout",
     "output_type": "stream",
     "text": [
      "Data Shape: (3177, 6)\n"
     ]
    }
   ],
   "source": [
    "RobertStokesSr= get_tweets_from_user(\"RobertStokesSr\")\n",
    "print(\"Data Shape: {}\".format(ElectRyanDorsey.shape))"
   ]
  },
  {
   "cell_type": "code",
   "execution_count": 105,
   "metadata": {},
   "outputs": [],
   "source": [
    "RobertStokesSr.to_csv('file22.csv')"
   ]
  },
  {
   "cell_type": "code",
   "execution_count": 54,
   "metadata": {},
   "outputs": [
    {
     "name": "stdout",
     "output_type": "stream",
     "text": [
      "Data Shape: (1866, 6)\n"
     ]
    }
   ],
   "source": [
    "CouncilmanYitzy = get_tweets_from_user(\"CouncilmanYitzy\")\n",
    "print(\"Data Shape: {}\".format(CouncilmanYitzy.shape))"
   ]
  },
  {
   "cell_type": "code",
   "execution_count": 106,
   "metadata": {},
   "outputs": [],
   "source": [
    "CouncilmanYitzy.to_csv('file23.csv')"
   ]
  },
  {
   "cell_type": "code",
   "execution_count": 56,
   "metadata": {},
   "outputs": [
    {
     "name": "stdout",
     "output_type": "stream",
     "text": [
      "Data Shape: (775, 6)\n"
     ]
    }
   ],
   "source": [
    "PhyliciaPorter_ = get_tweets_from_user(\"PhyliciaPorter_\")\n",
    "print(\"Data Shape: {}\".format(PhyliciaPorter_.shape))"
   ]
  },
  {
   "cell_type": "code",
   "execution_count": 107,
   "metadata": {},
   "outputs": [],
   "source": [
    "PhyliciaPorter_.to_csv('file24.csv')"
   ]
  },
  {
   "cell_type": "code",
   "execution_count": 58,
   "metadata": {},
   "outputs": [
    {
     "name": "stdout",
     "output_type": "stream",
     "text": [
      "Data Shape: (101, 6)\n"
     ]
    }
   ],
   "source": [
    "TonyGlover13 = get_tweets_from_user(\"TonyGlover13\")\n",
    "print(\"Data Shape: {}\".format(TonyGlover13.shape))"
   ]
  },
  {
   "cell_type": "code",
   "execution_count": 108,
   "metadata": {},
   "outputs": [],
   "source": [
    "TonyGlover13.to_csv('file25.csv')"
   ]
  },
  {
   "cell_type": "code",
   "execution_count": 60,
   "metadata": {},
   "outputs": [
    {
     "name": "stdout",
     "output_type": "stream",
     "text": [
      "Data Shape: (3186, 6)\n"
     ]
    }
   ],
   "source": [
    "odetteramos = get_tweets_from_user(\"odetteramos\")\n",
    "print(\"Data Shape: {}\".format(odetteramos.shape))"
   ]
  },
  {
   "cell_type": "code",
   "execution_count": 109,
   "metadata": {},
   "outputs": [],
   "source": [
    "odetteramos.to_csv('file26.csv')"
   ]
  },
  {
   "cell_type": "code",
   "execution_count": 62,
   "metadata": {},
   "outputs": [
    {
     "name": "stdout",
     "output_type": "stream",
     "text": [
      "Data Shape: (3189, 6)\n"
     ]
    }
   ],
   "source": [
    "Zeke_Cohen = get_tweets_from_user(\"Zeke_Cohen\")\n",
    "print(\"Data Shape: {}\".format(Zeke_Cohen.shape))"
   ]
  },
  {
   "cell_type": "code",
   "execution_count": 110,
   "metadata": {},
   "outputs": [],
   "source": [
    "Zeke_Cohen.to_csv('file27.csv')"
   ]
  },
  {
   "cell_type": "code",
   "execution_count": 64,
   "metadata": {},
   "outputs": [
    {
     "name": "stdout",
     "output_type": "stream",
     "text": [
      "Data Shape: (3147, 6)\n"
     ]
    }
   ],
   "source": [
    "JamesTorrenceJD = get_tweets_from_user(\"JamesTorrenceJD\")\n",
    "print(\"Data Shape: {}\".format(JamesTorrenceJD.shape))"
   ]
  },
  {
   "cell_type": "code",
   "execution_count": 111,
   "metadata": {},
   "outputs": [],
   "source": [
    "JamesTorrenceJD.to_csv('file28.csv')"
   ]
  },
  {
   "cell_type": "code",
   "execution_count": 67,
   "metadata": {},
   "outputs": [
    {
     "name": "stdout",
     "output_type": "stream",
     "text": [
      "Data Shape: (3180, 6)\n"
     ]
    }
   ],
   "source": [
    "CouncilmanKB = get_tweets_from_user(\"CouncilmanKB\")\n",
    "print(\"Data Shape: {}\".format(CouncilmanKB.shape))"
   ]
  },
  {
   "cell_type": "code",
   "execution_count": 112,
   "metadata": {},
   "outputs": [],
   "source": [
    "CouncilmanKB.to_csv('file29.csv')"
   ]
  },
  {
   "cell_type": "code",
   "execution_count": 69,
   "metadata": {},
   "outputs": [
    {
     "name": "stdout",
     "output_type": "stream",
     "text": [
      "Data Shape: (3192, 6)\n"
     ]
    }
   ],
   "source": [
    "justin_fenton = get_tweets_from_user(\"justin_fenton\")\n",
    "print(\"Data Shape: {}\".format(justin_fenton.shape))"
   ]
  },
  {
   "cell_type": "code",
   "execution_count": 71,
   "metadata": {},
   "outputs": [
    {
     "data": {
      "text/html": [
       "<div>\n",
       "<style scoped>\n",
       "    .dataframe tbody tr th:only-of-type {\n",
       "        vertical-align: middle;\n",
       "    }\n",
       "\n",
       "    .dataframe tbody tr th {\n",
       "        vertical-align: top;\n",
       "    }\n",
       "\n",
       "    .dataframe thead th {\n",
       "        text-align: right;\n",
       "    }\n",
       "</style>\n",
       "<table border=\"1\" class=\"dataframe\">\n",
       "  <thead>\n",
       "    <tr style=\"text-align: right;\">\n",
       "      <th></th>\n",
       "      <th>date</th>\n",
       "      <th>author</th>\n",
       "      <th>twitter_name</th>\n",
       "      <th>text</th>\n",
       "      <th>number_of_likes</th>\n",
       "      <th>number_of_retweets</th>\n",
       "    </tr>\n",
       "  </thead>\n",
       "  <tbody>\n",
       "    <tr>\n",
       "      <th>0</th>\n",
       "      <td>2022-11-18 04:48:03+00:00</td>\n",
       "      <td>Justin Fenton</td>\n",
       "      <td>justin_fenton</td>\n",
       "      <td>RT @RickyMar49: Elon when he becomes the only ...</td>\n",
       "      <td>0</td>\n",
       "      <td>17525</td>\n",
       "    </tr>\n",
       "    <tr>\n",
       "      <th>1</th>\n",
       "      <td>2022-11-17 21:18:05+00:00</td>\n",
       "      <td>Justin Fenton</td>\n",
       "      <td>justin_fenton</td>\n",
       "      <td>RT @BaltimoreBanner: BREAKING: Baltimore judge...</td>\n",
       "      <td>0</td>\n",
       "      <td>16</td>\n",
       "    </tr>\n",
       "    <tr>\n",
       "      <th>2</th>\n",
       "      <td>2022-11-17 20:25:27+00:00</td>\n",
       "      <td>Justin Fenton</td>\n",
       "      <td>justin_fenton</td>\n",
       "      <td>Some things happened today https://t.co/yBK6pw...</td>\n",
       "      <td>39</td>\n",
       "      <td>4</td>\n",
       "    </tr>\n",
       "    <tr>\n",
       "      <th>3</th>\n",
       "      <td>2022-11-17 20:00:35+00:00</td>\n",
       "      <td>Justin Fenton</td>\n",
       "      <td>justin_fenton</td>\n",
       "      <td>When you’re checking your email from 7:29 am a...</td>\n",
       "      <td>24</td>\n",
       "      <td>1</td>\n",
       "    </tr>\n",
       "    <tr>\n",
       "      <th>4</th>\n",
       "      <td>2022-11-17 19:10:18+00:00</td>\n",
       "      <td>Justin Fenton</td>\n",
       "      <td>justin_fenton</td>\n",
       "      <td>@localyokelmd Oh we know that name. The defens...</td>\n",
       "      <td>5</td>\n",
       "      <td>0</td>\n",
       "    </tr>\n",
       "  </tbody>\n",
       "</table>\n",
       "</div>"
      ],
      "text/plain": [
       "                       date         author   twitter_name  \\\n",
       "0 2022-11-18 04:48:03+00:00  Justin Fenton  justin_fenton   \n",
       "1 2022-11-17 21:18:05+00:00  Justin Fenton  justin_fenton   \n",
       "2 2022-11-17 20:25:27+00:00  Justin Fenton  justin_fenton   \n",
       "3 2022-11-17 20:00:35+00:00  Justin Fenton  justin_fenton   \n",
       "4 2022-11-17 19:10:18+00:00  Justin Fenton  justin_fenton   \n",
       "\n",
       "                                                text  number_of_likes  \\\n",
       "0  RT @RickyMar49: Elon when he becomes the only ...                0   \n",
       "1  RT @BaltimoreBanner: BREAKING: Baltimore judge...                0   \n",
       "2  Some things happened today https://t.co/yBK6pw...               39   \n",
       "3  When you’re checking your email from 7:29 am a...               24   \n",
       "4  @localyokelmd Oh we know that name. The defens...                5   \n",
       "\n",
       "   number_of_retweets  \n",
       "0               17525  \n",
       "1                  16  \n",
       "2                   4  \n",
       "3                   1  \n",
       "4                   0  "
      ]
     },
     "execution_count": 71,
     "metadata": {},
     "output_type": "execute_result"
    }
   ],
   "source": [
    "justin_fenton.to_csv('file30.csv')"
   ]
  },
  {
   "cell_type": "code",
   "execution_count": 72,
   "metadata": {},
   "outputs": [
    {
     "name": "stdout",
     "output_type": "stream",
     "text": [
      "Data Shape: (3198, 6)\n"
     ]
    }
   ],
   "source": [
    "BaltBizOnline = get_tweets_from_user(\"BaltBizOnline\")\n",
    "print(\"Data Shape: {}\".format(BaltBizOnline.shape))"
   ]
  },
  {
   "cell_type": "code",
   "execution_count": 113,
   "metadata": {},
   "outputs": [],
   "source": [
    "BaltBizOnline.to_csv('file31.csv')"
   ]
  },
  {
   "cell_type": "code",
   "execution_count": 75,
   "metadata": {},
   "outputs": [
    {
     "name": "stdout",
     "output_type": "stream",
     "text": [
      "Data Shape: (3186, 6)\n"
     ]
    }
   ],
   "source": [
    "BaltimoreBrew = get_tweets_from_user(\"BaltimoreBrew\")\n",
    "print(\"Data Shape: {}\".format(BaltimoreBrew.shape))"
   ]
  },
  {
   "cell_type": "code",
   "execution_count": 114,
   "metadata": {},
   "outputs": [],
   "source": [
    "BaltimoreBrew.to_csv('file32.csv')"
   ]
  },
  {
   "cell_type": "code",
   "execution_count": 77,
   "metadata": {},
   "outputs": [
    {
     "name": "stdout",
     "output_type": "stream",
     "text": [
      "Data Shape: (3129, 6)\n"
     ]
    }
   ],
   "source": [
    "Notrivia  = get_tweets_from_user(\"Notrivia\")\n",
    "print(\"Data Shape: {}\".format(Notrivia .shape))"
   ]
  },
  {
   "cell_type": "code",
   "execution_count": 115,
   "metadata": {},
   "outputs": [],
   "source": [
    "Notrivia.to_csv('file33.csv')"
   ]
  },
  {
   "cell_type": "code",
   "execution_count": 79,
   "metadata": {},
   "outputs": [
    {
     "name": "stdout",
     "output_type": "stream",
     "text": [
      "Data Shape: (3132, 6)\n"
     ]
    }
   ],
   "source": [
    "BaynardWoods = get_tweets_from_user(\"BaynardWoods\")\n",
    "print(\"Data Shape: {}\".format(BaynardWoods.shape))"
   ]
  },
  {
   "cell_type": "code",
   "execution_count": 116,
   "metadata": {},
   "outputs": [],
   "source": [
    "BaynardWoods.to_csv('file34.csv')"
   ]
  },
  {
   "cell_type": "code",
   "execution_count": 6,
   "metadata": {},
   "outputs": [
    {
     "name": "stdout",
     "output_type": "stream",
     "text": [
      "Data Shape: (3138, 6)\n"
     ]
    }
   ],
   "source": [
    "LisaMcCray = get_tweets_from_user(\"LisaMcCray\")\n",
    "print(\"Data Shape: {}\".format(LisaMcCray.shape))"
   ]
  },
  {
   "cell_type": "code",
   "execution_count": 7,
   "metadata": {},
   "outputs": [],
   "source": [
    "LisaMcCray.to_csv('file35.csv')"
   ]
  },
  {
   "cell_type": "code",
   "execution_count": null,
   "metadata": {},
   "outputs": [],
   "source": []
  }
 ],
 "metadata": {
  "kernelspec": {
   "display_name": "Python 3",
   "language": "python",
   "name": "python3"
  },
  "language_info": {
   "codemirror_mode": {
    "name": "ipython",
    "version": 3
   },
   "file_extension": ".py",
   "mimetype": "text/x-python",
   "name": "python",
   "nbconvert_exporter": "python",
   "pygments_lexer": "ipython3",
   "version": "3.7.3"
  }
 },
 "nbformat": 4,
 "nbformat_minor": 2
}
